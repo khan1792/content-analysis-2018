{
 "cells": [
  {
   "cell_type": "markdown",
   "metadata": {},
   "source": [
    "# Week 7 - Information Extraction\n",
    "\n",
    "\n",
    "This week, we move from arbitrary textual classification to the use of computation and linguistic models to parse precise claims from documents. Rather than focusing on simply the *ideas* in a corpus, here we focus on understanding and extracting its precise *claims*. This process involves a sequential pipeline of classifying and structuring tokens from text, each of which generates potentially useful data for the content analyst. Steps in this process, which we examine in this notebook, include: 1) tagging words by their part of speech (POS) to reveal the linguistic role they play in the sentence (e.g., Verb, Noun, Adjective, etc.); 2) tagging words as named entities (NER) such as places or organizations; 3) structuring or \"parsing\" sentences into nested phrases that are local to, describe or depend on one another; and 4) extracting informational claims from those phrases, like the Subject-Verb-Object (SVO) triples we extract here. While much of this can be done directly in the python package NLTK that we introduced in week 2, here we use NLTK bindings to the Stanford NLP group's open software, written in Java. Try typing a sentence into the online version [here](http://nlp.stanford.edu:8080/corenlp/) to get a sense of its potential. It is superior in performance to NLTK's implementations, but takes time to run, and so for these exercises we will parse and extract information for a very small text corpus. Of course, for final projects that draw on these tools, we encourage you to install the software on your own machines or shared servers at the university (RCC, SSRC) in order to perform these operations on much more text. \n",
    "\n",
    "For this notebook we will be using the following packages:"
   ]
  },
  {
   "cell_type": "code",
   "execution_count": 23,
   "metadata": {},
   "outputs": [],
   "source": [
    "#Special module written for this class\n",
    "#This provides access to data and to helper functions from previous weeks\n",
    "#Make sure you update it before starting this notebook\n",
    "import lucem_illud #pip install -U git+git://github.com/Computational-Content-Analysis-2018/lucem_illud.git\n",
    "\n",
    "#All these packages need to be installed from pip\n",
    "#For NLP\n",
    "import nltk\n",
    "\n",
    "import numpy as np #For arrays\n",
    "import pandas #Gives us DataFrames\n",
    "import matplotlib.pyplot as plt #For graphics\n",
    "import seaborn #Makes the graphics look nicer\n",
    "\n",
    "#Displays the graphs\n",
    "import graphviz #You also need to install the command line graphviz\n",
    "import os\n",
    "java_path = \"F:/java/bin/java.exe\"\n",
    "os.environ['JAVAHOME'] = java_path\n",
    "os.environ[\"PATH\"] += os.pathsep + 'F:/graphviz/bin/'\n",
    "#These are from the standard library\n",
    "import os.path\n",
    "import zipfile\n",
    "import subprocess\n",
    "import io\n",
    "import tempfile\n",
    "import re\n",
    "import lucem_illud.stanford as stanford\n",
    "%matplotlib inline"
   ]
  },
  {
   "cell_type": "markdown",
   "metadata": {},
   "source": [
    "## <span style=\"color:red\">*Exercise 1*</span>\n",
    "\n",
    "<span style=\"color:red\">In the cells immediately following, perform POS tagging on a meaningful (but modest) subset of a corpus associated with your final project. Examine the list of words associated with at least three different parts of speech. Consider conditional frequencies (e.g., adjectives associated with nouns of interest or adverbs with verbs of interest). What do these distributions suggest about your corpus?"
   ]
  },
  {
   "cell_type": "code",
   "execution_count": 2,
   "metadata": {},
   "outputs": [
    {
     "data": {
      "text/html": [
       "<div>\n",
       "<style scoped>\n",
       "    .dataframe tbody tr th:only-of-type {\n",
       "        vertical-align: middle;\n",
       "    }\n",
       "\n",
       "    .dataframe tbody tr th {\n",
       "        vertical-align: top;\n",
       "    }\n",
       "\n",
       "    .dataframe thead th {\n",
       "        text-align: right;\n",
       "    }\n",
       "</style>\n",
       "<table border=\"1\" class=\"dataframe\">\n",
       "  <thead>\n",
       "    <tr style=\"text-align: right;\">\n",
       "      <th></th>\n",
       "      <th>text</th>\n",
       "    </tr>\n",
       "  </thead>\n",
       "  <tbody>\n",
       "    <tr>\n",
       "      <th>0</th>\n",
       "      <td>In reality I had set my heart at that time on ...</td>\n",
       "    </tr>\n",
       "    <tr>\n",
       "      <th>1</th>\n",
       "      <td>The method of this man is quite contrary to th...</td>\n",
       "    </tr>\n",
       "    <tr>\n",
       "      <th>2</th>\n",
       "      <td>Which of them has been provisionally victoriou...</td>\n",
       "    </tr>\n",
       "    <tr>\n",
       "      <th>3</th>\n",
       "      <td>This is simply the long history of the origin ...</td>\n",
       "    </tr>\n",
       "    <tr>\n",
       "      <th>4</th>\n",
       "      <td>Entertaining, as I do, these thoughts, I am, l...</td>\n",
       "    </tr>\n",
       "    <tr>\n",
       "      <th>5</th>\n",
       "      <td>Undoubtedly the bad conscience is an illness, ...</td>\n",
       "    </tr>\n",
       "    <tr>\n",
       "      <th>6</th>\n",
       "      <td>What is the meaning of ascetic ideals? In arti...</td>\n",
       "    </tr>\n",
       "    <tr>\n",
       "      <th>7</th>\n",
       "      <td>And now, after we have caught sight of the _as...</td>\n",
       "    </tr>\n",
       "    <tr>\n",
       "      <th>8</th>\n",
       "      <td>When he has to tackle sufferers of the lower o...</td>\n",
       "    </tr>\n",
       "  </tbody>\n",
       "</table>\n",
       "</div>"
      ],
      "text/plain": [
       "                                                text\n",
       "0  In reality I had set my heart at that time on ...\n",
       "1  The method of this man is quite contrary to th...\n",
       "2  Which of them has been provisionally victoriou...\n",
       "3  This is simply the long history of the origin ...\n",
       "4  Entertaining, as I do, these thoughts, I am, l...\n",
       "5  Undoubtedly the bad conscience is an illness, ...\n",
       "6  What is the meaning of ascetic ideals? In arti...\n",
       "7  And now, after we have caught sight of the _as...\n",
       "8  When he has to tackle sufferers of the lower o..."
      ]
     },
     "execution_count": 2,
     "metadata": {},
     "output_type": "execute_result"
    }
   ],
   "source": [
    "targetDir = 'C:/Users/hankanyao/Documents/content-analysis-2018/sentence'\n",
    "platoText = []\n",
    "platoFileName = []\n",
    "\n",
    "for file in (file for file in os.scandir(targetDir) if file.is_file() and not file.name.startswith('.')):\n",
    "    with open(file.path, encoding = 'latin-1') as f:\n",
    "        platoText.append(f.read())\n",
    "    platoFileName.append(file.name)\n",
    "\n",
    "paragraph = pandas.DataFrame({'text' : platoText})\n",
    "remove = np.array([r'\\[\\d+\\]', r'\\(\\d+\\)', '\\n', '\\t', '\\d+', r'\\(\\w+\\)'])\n",
    "for i in range(paragraph.shape[0]):\n",
    "    for j in range(len(remove)):\n",
    "        paragraph[\"text\"].iloc[i] = re.sub(remove[j], ' ', paragraph[\"text\"].iloc[i])\n",
    "paragraph"
   ]
  },
  {
   "cell_type": "code",
   "execution_count": 3,
   "metadata": {},
   "outputs": [],
   "source": [
    "paragraph['tokenized'] = paragraph['text'].apply(lambda x: [nltk.word_tokenize(s) for s in nltk.sent_tokenize(x)])\n",
    "paragraph['POS_sents'] = paragraph['tokenized'].apply(lambda x: stanford.postTagger.tag_sents(x))"
   ]
  },
  {
   "cell_type": "code",
   "execution_count": 4,
   "metadata": {},
   "outputs": [
    {
     "data": {
      "text/plain": [
       "0    [[(In, IN), (reality, NN), (I, PRP), (had, VBD...\n",
       "1    [[(The, DT), (method, NN), (of, IN), (this, DT...\n",
       "2    [[(Which, WDT), (of, IN), (them, PRP), (has, V...\n",
       "3    [[(This, DT), (is, VBZ), (simply, RB), (the, D...\n",
       "4    [[(Entertaining, JJ), (,, ,), (as, IN), (I, PR...\n",
       "5    [[(Undoubtedly, NNP), (the, DT), (bad, JJ), (c...\n",
       "6    [[(What, WP), (is, VBZ), (the, DT), (meaning, ...\n",
       "7    [[(And, CC), (now, RB), (,, ,), (after, IN), (...\n",
       "8    [[(When, WRB), (he, PRP), (has, VBZ), (to, TO)...\n",
       "Name: POS_sents, dtype: object"
      ]
     },
     "execution_count": 4,
     "metadata": {},
     "output_type": "execute_result"
    }
   ],
   "source": [
    "paragraph['POS_sents'] "
   ]
  },
  {
   "cell_type": "code",
   "execution_count": 5,
   "metadata": {},
   "outputs": [
    {
     "name": "stdout",
     "output_type": "stream",
     "text": [
      "[(')', 56), ('man', 54), ('(', 42), ('life', 42), ('time', 23), ('world', 20), ('fact', 18), ('morality', 17), ('power', 17), ('existence', 17), ('value', 15), ('will', 15), ('idea', 15), ('one', 14), ('reason', 14), ('question', 13), ('ideal', 13), ('point', 12), ('meaning', 12), ('conscience', 12)]\n"
     ]
    }
   ],
   "source": [
    "countTarget = 'NN'\n",
    "targetCounts = {}\n",
    "for entry in paragraph['POS_sents']:\n",
    "    for sentence in entry:\n",
    "        for ent, kind in sentence:\n",
    "            if kind != countTarget:\n",
    "                continue\n",
    "            elif ent in targetCounts:\n",
    "                targetCounts[ent] += 1\n",
    "            else:\n",
    "                targetCounts[ent] = 1\n",
    "sortedTargets = sorted(targetCounts.items(), key = lambda x: x[1], reverse = True)\n",
    "print(sortedTargets[:20])"
   ]
  },
  {
   "cell_type": "code",
   "execution_count": 6,
   "metadata": {},
   "outputs": [
    {
     "name": "stdout",
     "output_type": "stream",
     "text": [
      "[('be', 67), ('have', 16), ('let', 12), ('do', 11), ('say', 6), ('know', 6), ('consider', 5), ('think', 5), ('make', 5), ('turn', 5), ('give', 4), ('take', 4), ('come', 4), ('see', 4), ('put', 3), ('get', 3), ('regard', 3), ('serve', 3), ('look', 3), ('grow', 3)]\n"
     ]
    }
   ],
   "source": [
    "countTarget = 'VB'\n",
    "targetCounts = {}\n",
    "for entry in paragraph['POS_sents']:\n",
    "    for sentence in entry:\n",
    "        for ent, kind in sentence:\n",
    "            if kind != countTarget:\n",
    "                continue\n",
    "            elif ent in targetCounts:\n",
    "                targetCounts[ent] += 1\n",
    "            else:\n",
    "                targetCounts[ent] = 1\n",
    "sortedTargets = sorted(targetCounts.items(), key = lambda x: x[1], reverse = True)\n",
    "print(sortedTargets[:20])"
   ]
  },
  {
   "cell_type": "code",
   "execution_count": 7,
   "metadata": {},
   "outputs": [
    {
     "name": "stdout",
     "output_type": "stream",
     "text": [
      "{'beast-of-prey', 'hypocritical', 'bad'}\n"
     ]
    }
   ],
   "source": [
    "NTarget = 'JJ'\n",
    "Word = 'conscience'\n",
    "NResults = set()\n",
    "for entry in paragraph['POS_sents']:\n",
    "    for sentence in entry:\n",
    "        for (ent1, kind1),(ent2,kind2) in zip(sentence[:-1], sentence[1:]):\n",
    "            if (kind1,ent2.lower())==(NTarget,Word):\n",
    "                NResults.add(ent1)\n",
    "            else:\n",
    "                continue\n",
    "\n",
    "print(NResults)"
   ]
  },
  {
   "cell_type": "markdown",
   "metadata": {},
   "source": [
    "<span style=\"color:blue\"> I select some paragraphs from Nietzsche's corpus. We can find many important concepts in his work, such as morality, power, conscience, etc."
   ]
  },
  {
   "cell_type": "markdown",
   "metadata": {},
   "source": [
    "## <span style=\"color:red\">*Exercise 2*</span>\n",
    "\n",
    "<span style=\"color:red\">In the cells immediately following, perform NER on a (modest) subset of your corpus of interest. List all of the different kinds of entities tagged? What does their distribution suggest about the focus of your corpus? For a subset of your corpus, tally at least one type of named entity and calculate the Precision, Recall and F-score for the NER classification just performed (using your own hand-codings as \"ground truth\")."
   ]
  },
  {
   "cell_type": "code",
   "execution_count": 8,
   "metadata": {},
   "outputs": [],
   "source": [
    "paragraph['classified_sents'] = paragraph['tokenized'].apply(lambda x: stanford.nerTagger.tag_sents(x))"
   ]
  },
  {
   "cell_type": "code",
   "execution_count": 9,
   "metadata": {},
   "outputs": [
    {
     "data": {
      "text/plain": [
       "0    [[(In, O), (reality, O), (I, O), (had, O), (se...\n",
       "1    [[(The, O), (method, O), (of, O), (this, O), (...\n",
       "2    [[(Which, O), (of, O), (them, O), (has, O), (b...\n",
       "3    [[(This, O), (is, O), (simply, O), (the, O), (...\n",
       "4    [[(Entertaining, O), (,, O), (as, O), (I, O), ...\n",
       "5    [[(Undoubtedly, O), (the, O), (bad, O), (consc...\n",
       "6    [[(What, O), (is, O), (the, O), (meaning, O), ...\n",
       "7    [[(And, O), (now, O), (,, O), (after, O), (we,...\n",
       "8    [[(When, O), (he, O), (has, O), (to, O), (tack...\n",
       "Name: classified_sents, dtype: object"
      ]
     },
     "execution_count": 9,
     "metadata": {},
     "output_type": "execute_result"
    }
   ],
   "source": [
    "paragraph['classified_sents']"
   ]
  },
  {
   "cell_type": "code",
   "execution_count": 10,
   "metadata": {
    "scrolled": true
   },
   "outputs": [
    {
     "data": {
      "text/plain": [
       "[(',', 1045),\n",
       " ('the', 828),\n",
       " ('of', 607),\n",
       " ('and', 353),\n",
       " ('to', 313),\n",
       " ('a', 253),\n",
       " ('in', 236),\n",
       " ('.', 201),\n",
       " ('is', 195),\n",
       " ('that', 173)]"
      ]
     },
     "execution_count": 10,
     "metadata": {},
     "output_type": "execute_result"
    }
   ],
   "source": [
    "entityCounts = {}\n",
    "for entry in paragraph['classified_sents']:\n",
    "    for sentence in entry:\n",
    "        for ent, kind in sentence:\n",
    "            if ent in entityCounts:\n",
    "                entityCounts[ent] += 1\n",
    "            else:\n",
    "                entityCounts[ent] = 1\n",
    "sortedEntities = sorted(entityCounts.items(), key = lambda x: x[1], reverse = True)\n",
    "sortedEntities[:10]"
   ]
  },
  {
   "cell_type": "code",
   "execution_count": 11,
   "metadata": {
    "scrolled": false
   },
   "outputs": [
    {
     "data": {
      "text/plain": [
       "['heart',\n",
       " 'important',\n",
       " 'issue',\n",
       " 'passion',\n",
       " 'turned',\n",
       " 'colours',\n",
       " 'negation',\n",
       " 'soul',\n",
       " 'dug',\n",
       " 'deeper',\n",
       " 'sublime',\n",
       " 'temptation',\n",
       " '_against_',\n",
       " 'melancholy',\n",
       " 'realised',\n",
       " 'wider',\n",
       " 'phenomenon',\n",
       " 'Kant',\n",
       " 'minds',\n",
       " 'different',\n",
       " 'contempt',\n",
       " 'immense',\n",
       " 'potentiality',\n",
       " 'Let',\n",
       " 'values_',\n",
       " 'circumstances',\n",
       " 'misunderstanding',\n",
       " 'neither',\n",
       " 'nor',\n",
       " 'indisputable',\n",
       " 'specifically',\n",
       " 'progress',\n",
       " 'Suppose',\n",
       " 'converse',\n",
       " 'method',\n",
       " 'unsatisfied',\n",
       " 'act',\n",
       " 'conception',\n",
       " 'spite',\n",
       " 'asked',\n",
       " 'Who',\n",
       " 'rules',\n",
       " 'distorted',\n",
       " 'deny',\n",
       " 'ones',\n",
       " '_inter',\n",
       " 'pares_',\n",
       " 'kept',\n",
       " 'mutual',\n",
       " 'jealousy',\n",
       " 'ways',\n",
       " 'begins',\n",
       " 'enjoy',\n",
       " 'feel',\n",
       " 'wilderness',\n",
       " 'vent',\n",
       " 'tension',\n",
       " 'produced',\n",
       " 'beast-of-prey',\n",
       " 'ghastly',\n",
       " 'torture',\n",
       " 'merely',\n",
       " 'poets',\n",
       " 'ample',\n",
       " 'theme',\n",
       " 'magnificent',\n",
       " 'return',\n",
       " 'Roman',\n",
       " 'nobility',\n",
       " 'Homeric',\n",
       " 'manifests',\n",
       " 'Pericles',\n",
       " 'says',\n",
       " 'Athenians',\n",
       " 'Our',\n",
       " 'audacity',\n",
       " 'absurd',\n",
       " 'glory',\n",
       " 'delight',\n",
       " 'destruction',\n",
       " 'picture',\n",
       " 'enemy',\n",
       " 'icy',\n",
       " 'inextinguishable',\n",
       " 'blonde',\n",
       " 'although',\n",
       " 'scarcely',\n",
       " 'attention',\n",
       " 'series',\n",
       " 'ages',\n",
       " 'violent',\n",
       " 'placed',\n",
       " 'behind',\n",
       " 'therein',\n",
       " 'descendants',\n",
       " 'civilisation_',\n",
       " 'tame',\n",
       " 'follows',\n",
       " 'bearers',\n",
       " 'tools',\n",
       " 'argument',\n",
       " 'why',\n",
       " 'justified',\n",
       " 'spectacle',\n",
       " 'pinnacle',\n",
       " 'yes',\n",
       " 'feels',\n",
       " 'achieved',\n",
       " 'Which',\n",
       " 'provisionally',\n",
       " 'Jesus',\n",
       " 'remarkable',\n",
       " 'undoubtedly',\n",
       " 'took',\n",
       " 'presented',\n",
       " 'Church',\n",
       " 'fundamentally',\n",
       " 'English',\n",
       " 'movement',\n",
       " 'Reformation',\n",
       " 'taking',\n",
       " 'inevitable',\n",
       " 'restoration',\n",
       " 'proved',\n",
       " 'opposition',\n",
       " 'lying',\n",
       " 'prerogative',\n",
       " 'stronger',\n",
       " 'Napoleon',\n",
       " '_of',\n",
       " 'relegated',\n",
       " 'Or',\n",
       " 'postponed',\n",
       " 'carefully',\n",
       " 'consummation',\n",
       " 'clear',\n",
       " 'motto',\n",
       " 'Good',\n",
       " 'avail',\n",
       " 'expressed',\n",
       " 'scholars',\n",
       " 'philosophy',\n",
       " 'With',\n",
       " 'possibility',\n",
       " 'deserves',\n",
       " 'professional',\n",
       " 'investigation',\n",
       " 'physiologists',\n",
       " 'instances',\n",
       " 'suspicion',\n",
       " 'primarily',\n",
       " 'require',\n",
       " '_value_',\n",
       " \"'\",\n",
       " 'standpoints',\n",
       " 'sufficient',\n",
       " 'specific',\n",
       " '_responsibility_',\n",
       " 'preliminary',\n",
       " 'calculable',\n",
       " 'prehistoric',\n",
       " 'justification',\n",
       " 'hardness',\n",
       " 'despotism',\n",
       " 'genuinely',\n",
       " 'If',\n",
       " 'matures',\n",
       " 'bring',\n",
       " 'autonomous',\n",
       " 'short',\n",
       " 'proud',\n",
       " 'general',\n",
       " 'incapable',\n",
       " 'three',\n",
       " 'creatures',\n",
       " 'reliable',\n",
       " 'free',\n",
       " 'looking',\n",
       " 'honours',\n",
       " 'bind',\n",
       " 'because',\n",
       " 'knows',\n",
       " 'keep',\n",
       " 'teeth',\n",
       " 'business',\n",
       " 'extraordinary',\n",
       " 'innermost',\n",
       " 'dominating',\n",
       " 'seen',\n",
       " 'manifestation',\n",
       " 'ability',\n",
       " 'longer',\n",
       " 'deeply',\n",
       " 'forgetfulness',\n",
       " 'imagine',\n",
       " 'gentle',\n",
       " 'answers',\n",
       " 'burnt',\n",
       " 'wherever',\n",
       " 'gloomy',\n",
       " 'concomitant',\n",
       " 'When',\n",
       " 'first-born',\n",
       " 'castration',\n",
       " 'cruel',\n",
       " 'bottom',\n",
       " 'system',\n",
       " 'freeing',\n",
       " 'signs',\n",
       " 'penal',\n",
       " 'postulates',\n",
       " 'momentary',\n",
       " 'lot',\n",
       " 'takes',\n",
       " 'taste',\n",
       " 'positiveness',\n",
       " 'train',\n",
       " 'falls',\n",
       " 'genius',\n",
       " 'sphere',\n",
       " 'advantages',\n",
       " 'privileges',\n",
       " 'dear',\n",
       " 'pessimists',\n",
       " 'ashamed',\n",
       " 'growth',\n",
       " 'riddle',\n",
       " 'ennui',\n",
       " 'belong',\n",
       " 'road',\n",
       " 'angelhood',\n",
       " 'use',\n",
       " 'context',\n",
       " 'tongue',\n",
       " 'repulsive',\n",
       " 'stands',\n",
       " 'stopped',\n",
       " 'horrors',\n",
       " 'remember',\n",
       " 'principles',\n",
       " 'magic',\n",
       " 'Perhaps',\n",
       " 'days',\n",
       " 'negroes',\n",
       " 'severe',\n",
       " 'despair',\n",
       " '_not_',\n",
       " 'passed',\n",
       " 'ten',\n",
       " 'cultured',\n",
       " 'allowed',\n",
       " 'euphemisms',\n",
       " 'suspicious',\n",
       " 'interpreted',\n",
       " 'spectator',\n",
       " 'beings',\n",
       " 'interesting',\n",
       " 'learn',\n",
       " '_tour',\n",
       " 'force_',\n",
       " 'devices',\n",
       " 'Every',\n",
       " 'sight',\n",
       " 'spectacles',\n",
       " 'festival',\n",
       " 'games',\n",
       " 'struggle',\n",
       " 'virtue',\n",
       " 'philosophic',\n",
       " 'A',\n",
       " 'deterministic',\n",
       " 'easily',\n",
       " 'earlier',\n",
       " 'relation',\n",
       " 'ower',\n",
       " 'manner',\n",
       " 'tribal',\n",
       " 'family',\n",
       " 'recognised',\n",
       " 'continually',\n",
       " 'spirits',\n",
       " 'above',\n",
       " 'obedience',\n",
       " '_fear_',\n",
       " 'increases',\n",
       " 'founders',\n",
       " 'crude',\n",
       " 'exercise',\n",
       " 'transcends',\n",
       " 'development',\n",
       " 'deity',\n",
       " 'whether',\n",
       " 'religion',\n",
       " 'fights',\n",
       " 'victories',\n",
       " 'reconciliations',\n",
       " 'record',\n",
       " 'amount',\n",
       " '_reverse_',\n",
       " 'complete',\n",
       " 'prima_',\n",
       " 'ought',\n",
       " 'pushed',\n",
       " '_bad_',\n",
       " 'language',\n",
       " 'exist',\n",
       " 'described',\n",
       " 'redemption',\n",
       " '_has',\n",
       " 'to_',\n",
       " 'eternal',\n",
       " 'curse',\n",
       " 'suddenly',\n",
       " 'stand',\n",
       " 'paradoxical',\n",
       " 'deliver',\n",
       " 'debtor',\n",
       " 'favourable',\n",
       " 'women',\n",
       " 'failures',\n",
       " 'weapon',\n",
       " 'priestly',\n",
       " 'faith',\n",
       " 'feature',\n",
       " 'Certainly',\n",
       " 'often',\n",
       " 'round',\n",
       " 'call',\n",
       " 'music',\n",
       " 'dealt',\n",
       " 'praise',\n",
       " 'Wagnerian',\n",
       " 'graceful',\n",
       " 'cases',\n",
       " 'sound',\n",
       " 'ruined',\n",
       " 'worship',\n",
       " 'You',\n",
       " 'ask',\n",
       " 'natural',\n",
       " 'Catholic',\n",
       " 'tragedian',\n",
       " 'worthy',\n",
       " 'parody',\n",
       " 'unnaturalness',\n",
       " 'art',\n",
       " 'Is',\n",
       " 'hate',\n",
       " 'followed',\n",
       " 'Feuerbach',\n",
       " '_change',\n",
       " 'cramped',\n",
       " 'uncertain',\n",
       " 'salvation',\n",
       " '_ascetic',\n",
       " 'tackle',\n",
       " '_real',\n",
       " 'fighting',\n",
       " '..',\n",
       " 'prove',\n",
       " 'champion',\n",
       " 'wishes',\n",
       " 'obvious',\n",
       " 'treats',\n",
       " 'action',\n",
       " 'practically',\n",
       " 'belongs',\n",
       " 'insatiate',\n",
       " 'deepest',\n",
       " 'utilise',\n",
       " 'well-being',\n",
       " 'while',\n",
       " 'rift',\n",
       " 'vitality',\n",
       " 'ascetics',\n",
       " 'errors',\n",
       " 'To',\n",
       " 'ecstasy',\n",
       " 'bye',\n",
       " 'schism',\n",
       " 'determined',\n",
       " 'apparently',\n",
       " 'objectivity',\n",
       " 'non-sensical',\n",
       " 'emotional',\n",
       " 'pure',\n",
       " 'required',\n",
       " 'functions',\n",
       " 'apparent',\n",
       " 'struggles',\n",
       " 'rule',\n",
       " 'distortions',\n",
       " 'instinctively',\n",
       " 'forces',\n",
       " 'aggressive',\n",
       " 'sickness',\n",
       " 'nausea',\n",
       " 'discontent',\n",
       " 'your',\n",
       " 'neighbour',\n",
       " 'cautious',\n",
       " 'shows',\n",
       " 'communal',\n",
       " 'community',\n",
       " 'strive',\n",
       " 'herd-organisation',\n",
       " 'weakness',\n",
       " 'joint',\n",
       " 'born',\n",
       " 'oligarchy',\n",
       " 'innocent',\n",
       " 'produce',\n",
       " 'constitutes',\n",
       " 'books',\n",
       " 'honour',\n",
       " 'honest',\n",
       " 'selves',\n",
       " 'tell',\n",
       " 'toleration']"
      ]
     },
     "execution_count": 11,
     "metadata": {},
     "output_type": "execute_result"
    }
   ],
   "source": [
    "[x[0] for x in sortedEntities if x[1] == 2]"
   ]
  },
  {
   "cell_type": "code",
   "execution_count": 12,
   "metadata": {},
   "outputs": [
    {
     "data": {
      "text/plain": [
       "[('Wagner', 10),\n",
       " ('Rome', 7),\n",
       " ('Schopenhauer', 4),\n",
       " ('Plato', 4),\n",
       " ('Europe', 4),\n",
       " ('Judæa', 3),\n",
       " ('Richard', 3),\n",
       " ('Kant', 2),\n",
       " ('Pericles', 2),\n",
       " ('Jesus', 2)]"
      ]
     },
     "execution_count": 12,
     "metadata": {},
     "output_type": "execute_result"
    }
   ],
   "source": [
    "nonObjCounts = {}\n",
    "for entry in paragraph['classified_sents']:\n",
    "    for sentence in entry:\n",
    "        for ent, kind in sentence:\n",
    "            if kind == 'O':\n",
    "                continue\n",
    "            elif ent in nonObjCounts:\n",
    "                nonObjCounts[ent] += 1\n",
    "            else:\n",
    "                nonObjCounts[ent] = 1\n",
    "sortedNonObj = sorted(nonObjCounts.items(), key = lambda x: x[1], reverse = True)\n",
    "sortedNonObj[:10]"
   ]
  },
  {
   "cell_type": "code",
   "execution_count": 13,
   "metadata": {},
   "outputs": [
    {
     "data": {
      "text/plain": [
       "[('Spinoza', 1),\n",
       " ('Hesiod', 1),\n",
       " ('Church', 1),\n",
       " ('Heracles', 1),\n",
       " ('Vedanta', 1),\n",
       " ('Philosophy', 1),\n",
       " ('Plato', 1),\n",
       " ('Catholic', 1),\n",
       " ('Protestant', 1)]"
      ]
     },
     "execution_count": 13,
     "metadata": {},
     "output_type": "execute_result"
    }
   ],
   "source": [
    "OrgCounts = {}\n",
    "for entry in paragraph['classified_sents']:\n",
    "    for sentence in entry:\n",
    "        for ent, kind in sentence:\n",
    "            if kind != 'ORGANIZATION':\n",
    "                continue\n",
    "            elif ent in OrgCounts:\n",
    "                OrgCounts[ent] += 1\n",
    "            else:\n",
    "                OrgCounts[ent] = 1\n",
    "sortedOrgs = sorted(OrgCounts.items(), key = lambda x: x[1], reverse = True)\n",
    "sortedOrgs[:10]"
   ]
  },
  {
   "cell_type": "markdown",
   "metadata": {},
   "source": [
    "<span style=\"color:blue\"> We can know here which philosophers Nietzsche pays much attention to. Schopenhauer, Plato, Kant are frequently mentioned. For organization names, there are some errors. For example, Spinoza in the work is a philosopher rather than an orgnization."
   ]
  },
  {
   "cell_type": "markdown",
   "metadata": {},
   "source": [
    "## <span style=\"color:red\">*Exercise 3*</span>\n",
    "\n",
    "<span style=\"color:red\">In the cells immediately following, parse a (modest) subset of your corpus of interest. How deep are the phrase structure and dependency parse trees nested? How does parse depth relate to perceived sentence complexity? What are five things you can extract from these parses for subsequent analysis? (e.g., nouns collocated in a noun phrase; adjectives that modify a noun; etc.) Capture these sets of things for a focal set of words (e.g., \"Bush\", \"Obama\", \"Trump\"). What do they reveal about the roles that these entities are perceived to play in the social world inscribed by your texts?"
   ]
  },
  {
   "cell_type": "code",
   "execution_count": 14,
   "metadata": {},
   "outputs": [],
   "source": [
    "def treeRelation(parsetree, relationType, *targets):\n",
    "    if isinstance(parsetree, list):\n",
    "        parsetree = parsetree[0]\n",
    "    if set(targets) & set(parsetree.leaves()) != set(targets):\n",
    "        return []\n",
    "    else:\n",
    "        retList = []\n",
    "        for subT in parsetree.subtrees():\n",
    "            if subT.label() == relationType:\n",
    "                if set(targets) & set(subT.leaves()) == set(targets):\n",
    "                    retList.append([(subT.label(), ' '.join(subT.leaves()))])\n",
    "    return retList"
   ]
  },
  {
   "cell_type": "code",
   "execution_count": 15,
   "metadata": {},
   "outputs": [],
   "source": [
    "def treeSubRelation(parsetree, relationTypeScope, relationTypeTarget, *targets):\n",
    "    if isinstance(parsetree, list):\n",
    "        parsetree = parsetree[0]\n",
    "    if set(targets) & set(parsetree.leaves()) != set(targets):\n",
    "        return []\n",
    "    else:\n",
    "        retSet = set()\n",
    "        for subT in parsetree.subtrees():\n",
    "            if set(targets) & set(subT.leaves()) == set(targets):\n",
    "                if subT.label() == relationTypeScope:\n",
    "                    for subsub in subT.subtrees():\n",
    "                        if subsub.label()==relationTypeTarget:\n",
    "                            retSet.add(' '.join(subsub.leaves()))\n",
    "    return retSet"
   ]
  },
  {
   "cell_type": "code",
   "execution_count": 16,
   "metadata": {},
   "outputs": [
    {
     "name": "stdout",
     "output_type": "stream",
     "text": [
      "[Tree('ROOT', [Tree('S', [Tree('S', [Tree('PP', [Tree('IN', ['At']), Tree('NP', [Tree('DT', ['any']), Tree('NN', ['rate'])])]), Tree('NP', [Tree('EX', ['there'])]), Tree('VP', [Tree('VBD', ['took']), Tree('NP', [Tree('NP', [Tree('NN', ['place'])]), Tree('PP', [Tree('IN', ['in']), Tree('NP', [Tree('NP', [Tree('NP', [Tree('DT', ['the']), Tree('NNP', ['Renaissance'])]), Tree('NP', [Tree('NP', [Tree('DT', ['a']), Tree('JJ', ['brilliantly']), Tree('JJ', ['sinister']), Tree('NN', ['revival'])]), Tree('PP', [Tree('IN', ['of']), Tree('NP', [Tree('DT', ['the']), Tree('JJ', ['classical']), Tree('NN', ['ideal'])])])])]), Tree(',', [',']), Tree('PP', [Tree('IN', ['of']), Tree('NP', [Tree('NP', [Tree('DT', ['the']), Tree('ADJP', [Tree('JJ', ['aristocratic'])]), Tree('NN', ['valuation'])]), Tree('PP', [Tree('IN', ['of']), Tree('NP', [Tree('DT', ['all']), Tree('NNS', ['things'])])])])]), Tree(':', [':']), Tree('NP', [Tree('NP', [Tree('NNP', ['Rome'])]), Tree('SBAR', [Tree('S', [Tree('NP', [Tree('PRP', ['herself'])]), Tree(',', [',']), Tree('PP', [Tree('IN', ['like']), Tree('S', [Tree('NP', [Tree('DT', ['a']), Tree('NN', ['man'])]), Tree('VP', [Tree('VBG', ['waking']), Tree('PRT', [Tree('RP', ['up'])]), Tree('PP', [Tree('IN', ['from']), Tree('NP', [Tree('DT', ['a']), Tree('NN', ['trance'])])])])])]), Tree(',', [',']), Tree('VP', [Tree('VBD', ['stirred']), Tree('PP', [Tree('IN', ['beneath']), Tree('NP', [Tree('NP', [Tree('DT', ['the']), Tree('NN', ['burden'])]), Tree('PP', [Tree('IN', ['of']), Tree('NP', [Tree('DT', ['the']), Tree('JJ', ['new']), Tree('NNP', ['Judaised']), Tree('NNP', ['Rome'])])]), Tree('SBAR', [Tree('WHNP', [Tree('WDT', ['that'])]), Tree('S', [Tree('VP', [Tree('VBD', ['had']), Tree('VP', [Tree('VBN', ['been']), Tree('VP', [Tree('VBN', ['built']), Tree('PP', [Tree('IN', ['over']), Tree('NP', [Tree('NP', [Tree('PRP', ['her'])]), Tree(',', [',']), Tree('SBAR', [Tree('WHNP', [Tree('WDT', ['which'])]), Tree('S', [Tree('VP', [Tree('VP', [Tree('VBD', ['presented']), Tree('NP', [Tree('NP', [Tree('DT', ['the']), Tree('NN', ['appearance'])]), Tree('PP', [Tree('IN', ['of']), Tree('NP', [Tree('DT', ['an']), Tree('JJ', ['\\x9ccumenical']), Tree('NN', ['synagogue'])])])])]), Tree('CC', ['and']), Tree('VP', [Tree('VBD', ['was']), Tree('VP', [Tree('VBN', ['called']), Tree('NP', [Tree('DT', ['the']), Tree('``', ['``']), Tree('NNP', ['Church']), Tree(\"''\", [\"''\"])])])])])])])])])])])])])])])])])])])]), Tree(':', [':'])])])])])]), Tree('CC', ['but']), Tree('ADVP', [Tree('RB', ['immediately'])]), Tree('S', [Tree('NP', [Tree('NNP', ['Judæa'])]), Tree('VP', [Tree('VBD', ['triumphed']), Tree('ADVP', [Tree('RB', ['again'])]), Tree(',', [',']), Tree('ADVP', [Tree('NNS', ['thanks']), Tree('PP', [Tree('TO', ['to']), Tree('NP', [Tree('NP', [Tree('DT', ['that']), Tree('ADJP', [Tree('RB', ['fundamentally']), Tree('JJ', ['popular'])]), Tree('PRN', [Tree('-LRB-', [Tree('', []), Tree('NP', [Tree('JJ', ['German']), Tree('CC', ['and']), Tree('JJ', ['English'])]), Tree('-RRB-', [])])]), Tree('NN', ['movement'])]), Tree('PP', [Tree('IN', ['of']), Tree('NP', [Tree('NN', ['revenge'])])])])])]), Tree(',', [',']), Tree('SBAR', [Tree('WHNP', [Tree('WDT', ['which'])]), Tree('S', [Tree('VP', [Tree('VBZ', ['is']), Tree('VP', [Tree('VBN', ['called']), Tree('UCP', [Tree('NP', [Tree('DT', ['the']), Tree('NN', ['Reformation'])]), Tree(',', [',']), Tree('CC', ['and']), Tree('VP', [Tree('VBG', ['taking']), Tree('ADVP', [Tree('RB', ['also'])]), Tree('PP', [Tree('IN', ['into']), Tree('NP', [Tree('NN', ['account'])])]), Tree('NP', [Tree('NP', [Tree('PRP$', ['its']), Tree('JJ', ['inevitable']), Tree('NN', ['corollary'])]), Tree(',', [',']), Tree('NP', [Tree('NP', [Tree('NP', [Tree('DT', ['the']), Tree('NN', ['restoration'])]), Tree('PP', [Tree('IN', ['of']), Tree('NP', [Tree('DT', ['the']), Tree('NNP', ['Church'])])])]), Tree(':', ['--']), Tree('NP', [Tree('NP', [Tree('DT', ['the']), Tree('NN', ['restoration'])]), Tree('ADVP', [Tree('RB', ['also'])]), Tree('PP', [Tree('IN', ['of']), Tree('NP', [Tree('DT', ['the']), Tree('JJ', ['ancient']), Tree('NN', ['graveyard']), Tree('NN', ['peace'])])]), Tree('PP', [Tree('IN', ['of']), Tree('NP', [Tree('JJ', ['classical']), Tree('NNP', ['Rome'])])])])])])])])])])])])])]), Tree('.', ['.'])])])]\n"
     ]
    }
   ],
   "source": [
    "parses = list(stanford.parser.parse_sents(paragraph[\"tokenized\"][2])) #Converting the iterator to a list so we can call by index. They are still \n",
    "fourthSentParseTree = list(parses[3]) #iterators so be careful about re-running code, without re-running this block\n",
    "print(fourthSentParseTree)"
   ]
  },
  {
   "cell_type": "code",
   "execution_count": 17,
   "metadata": {
    "scrolled": true
   },
   "outputs": [
    {
     "data": {
      "text/plain": [
       "[[('VP',\n",
       "   \"took place in the Renaissance a brilliantly sinister revival of the classical ideal , of the aristocratic valuation of all things : Rome herself , like a man waking up from a trance , stirred beneath the burden of the new Judaised Rome that had been built over her , which presented the appearance of an \\x9ccumenical synagogue and was called the `` Church '' :\")],\n",
       " [('VP',\n",
       "   \"stirred beneath the burden of the new Judaised Rome that had been built over her , which presented the appearance of an \\x9ccumenical synagogue and was called the `` Church ''\")],\n",
       " [('VP',\n",
       "   'triumphed again , thanks to that fundamentally popular German and English movement of revenge , which is called the Reformation , and taking also into account its inevitable corollary , the restoration of the Church -- the restoration also of the ancient graveyard peace of classical Rome')],\n",
       " [('VP',\n",
       "   'is called the Reformation , and taking also into account its inevitable corollary , the restoration of the Church -- the restoration also of the ancient graveyard peace of classical Rome')],\n",
       " [('VP',\n",
       "   'called the Reformation , and taking also into account its inevitable corollary , the restoration of the Church -- the restoration also of the ancient graveyard peace of classical Rome')],\n",
       " [('VP',\n",
       "   'taking also into account its inevitable corollary , the restoration of the Church -- the restoration also of the ancient graveyard peace of classical Rome')]]"
      ]
     },
     "execution_count": 17,
     "metadata": {},
     "output_type": "execute_result"
    }
   ],
   "source": [
    "treeRelation(fourthSentParseTree, 'VP', 'Rome')"
   ]
  },
  {
   "cell_type": "code",
   "execution_count": 18,
   "metadata": {},
   "outputs": [
    {
     "data": {
      "text/plain": [
       "{'corollary', 'graveyard', 'peace', 'restoration'}"
      ]
     },
     "execution_count": 18,
     "metadata": {},
     "output_type": "execute_result"
    }
   ],
   "source": [
    "treeSubRelation(fourthSentParseTree, 'NP', 'NN', 'ancient')"
   ]
  },
  {
   "cell_type": "code",
   "execution_count": 19,
   "metadata": {
    "scrolled": false
   },
   "outputs": [
    {
     "name": "stdout",
     "output_type": "stream",
     "text": [
      "                                                                                                                                                                                                                                                                                                                                                                                                              ROOT                                                                                                                                                                                                                                                                                                                                                                                                                                \n",
      "                                                                                                                                                                                                                                                                                                                                                                                                               |                                                                                                                                                                                                                                                                                                                                                                                                                                   \n",
      "                                                                                                                                                                                                                                                                                                                                                                                                               S                                                                                                                                                                                                                                                                                                                                                                                                                                  \n",
      "                               ________________________________________________________________________________________________________________________________________________________________________________________________________________________________________________________________________________________________________________________________________________________________________________|________________________________________________________________________________________________________________________________________________________________________________________________________________________________________________________________________________________________________________________________________________________________________________________________________________________________   \n",
      "                              S                                                                                                                                                                                                                                                                                                                                                                                                                             |       |                                  |                                                                                                                                                                                                                                                                                                                                        | \n",
      "      ________________________|_______________________________________________________                                                                                                                                                                                                                                                                                                                                                                      |       |                                  |                                                                                                                                                                                                                                                                                                                                        |  \n",
      "     |             |                                                                  VP                                                                                                                                                                                                                                                                                                                                                                    |       |                                  |                                                                                                                                                                                                                                                                                                                                        | \n",
      "     |             |     _____________________________________________________________|_____________________________________________________________                                                                                                                                                                                                                                                                                                        |       |                                  |                                                                                                                                                                                                                                                                                                                                        |  \n",
      "     |             |    |                                                                                                                           NP                                                                                                                                                                                                                                                                                                      |       |                                  |                                                                                                                                                                                                                                                                                                                                        | \n",
      "     |             |    |      _____________________________________________________________________________________________________________________|______________________________________________________________________________________________                                                                                                                                                                                                         |       |                                  |                                                                                                                                                                                                                                                                                                                                        |  \n",
      "     |             |    |     |                                                                                                                                                                                                                    PP                                                                                                                                                                                                       |       |                                  |                                                                                                                                                                                                                                                                                                                                        | \n",
      "     |             |    |     |     _______________________________________________________________________________________________________________________________________________________________________________________________________________|_____                                                                                                                                                                                                   |       |                                  |                                                                                                                                                                                                                                                                                                                                        |  \n",
      "     |             |    |     |    |                                                                                                                                                                                                                     NP                                                                                                                                                                                                 |       |                                  |                                                                                                                                                                                                                                                                                                                                        | \n",
      "     |             |    |     |    |                                          ___________________________________________________________________________________________________________________________________________________________________________|______________________________________________________________________________________________________________________________________________________________________________________________    |       |                                  |                                                                                                                                                                                                                                                                                                                                        |  \n",
      "     |             |    |     |    |                                         |                                          |       |                                             |                    NP                                                                                                                                                                                                                                                   |   |       |                                  |                                                                                                                                                                                                                                                                                                                                        | \n",
      "     |             |    |     |    |                                         |                                          |       |                                             |    ________________|_________________                                                                                                                                                                                                                                   |   |       |                                  |                                                                                                                                                                                                                                                                                                                                        |  \n",
      "     |             |    |     |    |                                         |                                          |       |                                             |   |                                 SBAR                                                                                                                                                                                                                                |   |       |                                  |                                                                                                                                                                                                                                                                                                                                        | \n",
      "     |             |    |     |    |                                         |                                          |       |                                             |   |                                  |                                                                                                                                                                                                                                  |   |       |                                  |                                                                                                                                                                                                                                                                                                                                        |  \n",
      "     |             |    |     |    |                                         |                                          |       |                                             |   |                                  S                                                                                                                                                                                                                                  |   |       |                                  |                                                                                                                                                                                                                                                                                                                                        | \n",
      "     |             |    |     |    |                                         |                                          |       |                                             |   |       ___________________________|___________________________________________                                                                                                                                                                                       |   |       |                                  |                                                                                                                                                                                                                                                                                                                                        |  \n",
      "     |             |    |     |    |                                         |                                          |       |                                             |   |      |     |                     |                             |             VP                                                                                                                                                                                     |   |       |                                  |                                                                                                                                                                                                                                                                                                                                        | \n",
      "     |             |    |     |    |                                         |                                          |       |                                             |   |      |     |                     |                             |      _______|______________                                                                                                                                                                        |   |       |                                  |                                                                                                                                                                                                                                                                                                                                        |  \n",
      "     |             |    |     |    |                                         |                                          |       |                                             |   |      |     |                     |                             |     |                      PP                                                                                                                                                                      |   |       |                                  |                                                                                                                                                                                                                                                                                                                                        | \n",
      "     |             |    |     |    |                                         |                                          |       |                                             |   |      |     |                     |                             |     |        ______________|_________                                                                                                                                                              |   |       |                                  |                                                                                                                                                                                                                                                                                                                                        |  \n",
      "     |             |    |     |    |                                         |                                          |       |                                             |   |      |     |                     |                             |     |       |                        NP                                                                                                                                                            |   |       |                                  |                                                                                                                                                                                                                                                                                                                                        | \n",
      "     |             |    |     |    |                                         |                                          |       |                                             |   |      |     |                     |                             |     |       |          ______________|__________________________                                                                                                                                   |   |       |                                  |                                                                                                                                                                                                                                                                                                                                        |  \n",
      "     |             |    |     |    |                                         |                                          |       |                                             |   |      |     |                     |                             |     |       |         |              |                         SBAR                                                                                                                                |   |       |                                  |                                                                                                                                                                                                                                                                                                                                        | \n",
      "     |             |    |     |    |                                         |                                          |       |                                             |   |      |     |                     |                             |     |       |         |              |                      ____|____                                                                                                                              |   |       |                                  |                                                                                                                                                                                                                                                                                                                                        |  \n",
      "     |             |    |     |    |                                         |                                          |       |                                             |   |      |     |                     |                             |     |       |         |              |                     |         S                                                                                                                             |   |       |                                  S                                                                                                                                                                                                                                                                                                                                        | \n",
      "     |             |    |     |    |                                         |                                          |       |                                             |   |      |     |                     |                             |     |       |         |              |                     |         |                                                                                                                             |   |       |         _________________________|___________________________________                                                                                                                                                                                                                                                                                                     |  \n",
      "     |             |    |     |    |                                         |                                          |       |                                             |   |      |     |                     |                             |     |       |         |              |                     |         VP                                                                                                                            |   |       |        |                                                             VP                                                                                                                                                                                                                                                                                                   | \n",
      "     |             |    |     |    |                                         |                                          |       |                                             |   |      |     |                     |                             |     |       |         |              |                     |     ____|_____                                                                                                                        |   |       |        |        _____________________________________________________|______________________________________________________________________________________________                                                                                                                                                                                                      |  \n",
      "     |             |    |     |    |                                         |                                          |       |                                             |   |      |     |                     |                             |     |       |         |              |                     |    |          VP                                                                                                                      |   |       |        |       |       |    |                        |                                                                             |                               SBAR                                                                                                                                                                                                   | \n",
      "     |             |    |     |    |                                         |                                          |       |                                             |   |      |     |                     |                             |     |       |         |              |                     |    |     _____|____                                                                                                                   |   |       |        |       |       |    |                        |                                                                             |     ___________________________|______________________                                                                                                                                                                               |  \n",
      "     |             |    |     |    |                                         |                                          |       |                                             |   |      |     |                     |                             |     |       |         |              |                     |    |    |          VP                                                                                                                 |   |       |        |       |       |    |                        |                                                                             |    |                                                  S                                                                                                                                                                              | \n",
      "     |             |    |     |    |                                         |                                          |       |                                             |   |      |     |                     |                             |     |       |         |              |                     |    |    |      ____|____                                                                                                              |   |       |        |       |       |    |                        |                                                                             |    |                                                  |                                                                                                                                                                              |  \n",
      "     |             |    |     |    |                                         |                                          |       |                                             |   |      |     |                     |                             |     |       |         |              |                     |    |    |     |         PP                                                                                                            |   |       |        |       |       |    |                        |                                                                             |    |                                                  VP                                                                                                                                                                             | \n",
      "     |             |    |     |    |                                         |                                          |       |                                             |   |      |     |                     |                             |     |       |         |              |                     |    |    |     |     ____|________                                                                                                     |   |       |        |       |       |    |                        |                                                                             |    |     _____________________________________________|_______________________________________________________________                                                                                                               |  \n",
      "     |             |    |     |    |                                         |                                          |       |                                             |   |      |     |                     |                             |     |       |         |              |                     |    |    |     |    |             NP                                                                                                   |   |       |        |       |       |    |                        |                                                                             |    |    |                                                                                                             VP                                                                                                             | \n",
      "     |             |    |     |    |                                         |                                          |       |                                             |   |      |     |                     |                             |     |       |         |              |                     |    |    |     |    |     ________|_________________________                                                                           |   |       |        |       |       |    |                        |                                                                             |    |    |     ________________________________________________________________________________________________________|_______                                                                                                       |  \n",
      "     |             |    |     |    |                                         |                                          |       |                                             |   |      |     |                     |                             |     |       |         |              |                     |    |    |     |    |    |   |                             SBAR                                                                        |   |       |        |       |       |    |                       ADVP                                                                           |    |    |    |                                                                                                               UCP                                                                                                     | \n",
      "     |             |    |     |    |                                         |                                          |       |                                             |   |      |     |                     |                             |     |       |         |              |                     |    |    |     |    |    |   |     _________________________|_________________________________                                         |   |       |        |       |       |    |     ___________________|__________________________                                                   |    |    |    |          ______________________________________________________________________________________________________|____________                                                                                          |  \n",
      "     |             |    |     |    |                                         |                                          |       |                                             |   |      |     |                     |                             |     |       |         |              |                     |    |    |     |    |    |   |    |                                                           S                                        |   |       |        |       |       |    |    |                                              PP                                                 |    |    |    |         |               |   |                                                                                               VP                                                                                        | \n",
      "     |             |    |     |    |                                         |                                          |       |                                             |   |      |     |                     |                             |     |       |         |              |                     |    |    |     |    |    |   |    |                                                           |                                        |   |       |        |       |       |    |    |      ________________________________________|______                                            |    |    |    |         |               |   |     __________________________________________________________________________________________|_________                                                                                |  \n",
      "     |             |    |     |    |                                         |                                          |       |                                             |   |      |     |                     PP                            |     |       |         |              |                     |    |    |     |    |    |   |    |                                                           VP                                       |   |       |        |       |       |    |    |     |                                               NP                                          |    |    |    |         |               |   |    |     |         |                                                                                    NP                                                                              | \n",
      "     |             |    |     |    |                                         |                                          |       |                                             |   |      |     |    _________________|_____                        |     |       |         |              |                     |    |    |     |    |    |   |    |               ____________________________________________|_______________                         |   |       |        |       |       |    |    |     |                                         ______|_______________________________            |    |    |    |         |               |   |    |     |         |                    ________________________________________________________________|___________________                                                            |  \n",
      "     |             |    |     |    |                                         NP                                         |       PP                                            |   |      |     |   |                       S                       |     |       |         |              |                     |    |    |     |    |    |   |    |              VP                                                  |        |                        |   |       |        |       |       |    |    |     |                                        NP                                     |           |    |    |    |         |               |   |    |     |         |                   |                 |                                                                  NP                                                          | \n",
      "     |             |    |     |    |        _________________________________|________                                  |    ___|___________________                          |   |      |     |   |         ______________|___                    |     |       |         |              |                     |    |    |     |    |    |   |    |        ______|__________________                                 |        |                        |   |       |        |       |       |    |    |     |    ____________________________________|___________________________           |           |    |    |    |         |               |   |    |     |         |                   |                 |                        __________________________________________|______________                                             |  \n",
      "     |             |    |     |    |       |                                          NP                                |   |                       NP                        |   |      |     |   |        |                  VP                  |     |       |         |              |                     |    |    |     |    |    |   |    |       |                         NP                               |        VP                       |   |       |        |       |       |    |    |     |   |                  |                       PRN                   |          |           |    |    |    |         |               |   |    |     |         |                   |                 |                       NP                 |                                      NP                                           | \n",
      "     |             |    |     |    |       |                        __________________|_____________                    |   |            ___________|__________               |   |      |     |   |        |         _________|____               |     |       |         |              |                     |    |    |     |    |    |   |    |       |           ______________|_______                         |    ____|_____                   |   |       |        |       |       |    |    |     |   |                  |                        |                    |          |           |    |    |    |         |               |   |    |     |         |                   |                 |        _______________|___               |        ______________________________|____________________________                |  \n",
      "     PP            |    |     |    |       |                       |                                PP                  |   |           NP                     PP             |   |      |     |   |        |        |     |        PP             |     |       |         |              PP                    |    |    |     |    |    |   |    |       |          |                      PP                       |   |          VP                 |   |       |        |       |       |    |    |     |   |                  |                      -LRB-                  |          PP          |    |    |    |         |               |   |    |     |         PP                  |                 |       |                   PP             |       |               |        PP                                 PP              | \n",
      "  ___|___          |    |     |    |       |                       |                         _______|______             |   |    _______|___________        ___|___           |   |      |     |   |        |        |     |    ____|___           |     |       |         |           ___|___                  |    |    |     |    |    |   |    |       |          |               _______|______                  |   |     _____|___               |   |       |        |       |       |    |    |     |   |                  |             ___________|_____________       |       ___|_____      |    |    |    |         |               |   |    |     |     ____|_____              |                 |       |                ___|___           |       |               |     ___|_____                       ______|______         |  \n",
      " |       NP        NP   |     NP   |       NP                      NP                       |              NP           |   |   |      ADJP         |      |       NP         |   NP     NP    |   |        NP       |    PRT  |        NP         |     |       |         NP         |       NP               WHNP  |    |     |    |    NP  |   WHNP     |          NP             |              NP                |   |    |         NP             |   |      ADVP      NP      |      ADVP  |    |     |   |                 ADJP          |           NP            |      |      |         NP    |   WHNP  |    |         NP              |   |    |    ADVP  |          NP            NP                |       NP              |       NP         |       NP             ADVP  |         NP                    |             NP       | \n",
      " |    ___|___      |    |     |    |    ___|_______         _______|__________________      |    __________|_______     |   |   |       |           |      |    ___|____      |   |      |     |   |     ___|___     |     |   |     ___|____      |     |       |      ___|____      |    ___|____________     |    |    |     |    |    |   |    |       |       ___|______        |    __________|__________       |   |    |      ___|__________    |   |       |        |       |       |    |    |     |   |          ________|______      |     ______|______       |      |      |         |     |    |    |    |      ___|_______        |   |    |     |    |          |      _______|__________       |    ___|_______        |    ___|____      |    ___|_______        |    |    _____|________________     |       ______|___     |  \n",
      " IN  DT      NN    EX  VBD    NN   IN  DT         NNP      DT      JJ        JJ       NN    IN  DT         JJ      NN   ,   IN  DT      JJ          NN     IN  DT      NNS    :  NNP    PRP    ,   IN   DT      NN  VBG    RP  IN   DT       NN    ,    VBD      IN    DT       NN    IN  DT  JJ   NNP    NNP  WDT  VBD  VBN   VBN   IN  PRP  ,   WDT     VBD     DT         NN      IN  DT         JJ         NN     CC VBD  VBN    DT  ``  NNP    ''  :   CC      RB      NNP     VBD      RB   ,   NNS    TO  DT        RB              JJ         JJ     CC     JJ   -RRB-    NN     IN        NN    ,   WDT  VBZ  VBN    DT          NN      ,   CC  VBG    RB   IN         NN   PRP$     JJ         NN     ,   DT          NN      IN  DT      NNP    :   DT          NN      RB   IN  DT    JJ       NN      NN   IN     JJ        NNP   . \n",
      " |   |       |     |    |     |    |   |           |       |       |         |        |     |   |          |       |    |   |   |       |           |      |   |        |     |   |      |     |   |    |       |    |     |   |    |        |     |     |       |     |        |     |   |   |     |      |    |    |    |     |    |    |   |    |       |      |          |       |   |          |          |      |   |    |     |   |    |     |   |   |       |        |       |       |    |    |     |   |         |               |     |    |      |      |      |      |      |         |     |    |    |    |     |           |       |   |    |     |    |          |     |       |          |      |   |           |       |   |        |     |   |           |       |    |   |     |        |       |    |      |          |    |  \n",
      " At any     rate there took place  in the     Renaissance  a  brilliantly sinister revival  of the     classical ideal  ,   of the aristocratic valuation  of all     things  :  Rome herself  ,  like  a      man waking  up from  a      trance  ,  stirred beneath the     burden  of the new Judaised Rome that had  been built over her  ,  which presented the     appearance  of  an     cumenical synagogue and was called the  `` Church  ''  :  but immediately Judæa triumphed again  ,  thanks  to that fundamentally      popular ... German  and  English  ...  movement  of     revenge  ,  which  is called the     Reformation  ,  and taking also into     account its  inevitable corollary  ,  the     restoration  of the     Church  -- the     restoration also  of the ancient graveyard peace  of classical     Rome  . \n",
      "\n"
     ]
    }
   ],
   "source": [
    "fourthSentParseTree[0].pretty_print()"
   ]
  },
  {
   "cell_type": "code",
   "execution_count": 24,
   "metadata": {
    "scrolled": false
   },
   "outputs": [
    {
     "ename": "NameError",
     "evalue": "name 'paragraph_text' is not defined",
     "output_type": "error",
     "traceback": [
      "\u001b[1;31m---------------------------------------------------------------------------\u001b[0m",
      "\u001b[1;31mNameError\u001b[0m                                 Traceback (most recent call last)",
      "\u001b[1;32m<ipython-input-24-b844f1b3cfa9>\u001b[0m in \u001b[0;36m<module>\u001b[1;34m()\u001b[0m\n\u001b[1;32m----> 1\u001b[1;33m \u001b[0mdepParses\u001b[0m \u001b[1;33m=\u001b[0m \u001b[0mlist\u001b[0m\u001b[1;33m(\u001b[0m\u001b[0mstanford\u001b[0m\u001b[1;33m.\u001b[0m\u001b[0mdepParser\u001b[0m\u001b[1;33m.\u001b[0m\u001b[0mraw_parse_sents\u001b[0m\u001b[1;33m(\u001b[0m\u001b[0mparagraph_text\u001b[0m\u001b[1;33m)\u001b[0m\u001b[1;33m)\u001b[0m \u001b[1;31m#Converting the iterator to a list so we can call by index. They are still\u001b[0m\u001b[1;33m\u001b[0m\u001b[0m\n\u001b[0m\u001b[0;32m      2\u001b[0m \u001b[0msecondSentDepParseTree\u001b[0m \u001b[1;33m=\u001b[0m \u001b[0mlist\u001b[0m\u001b[1;33m(\u001b[0m\u001b[0mdepParses\u001b[0m\u001b[1;33m[\u001b[0m\u001b[1;36m3\u001b[0m\u001b[1;33m]\u001b[0m\u001b[1;33m)\u001b[0m\u001b[1;33m[\u001b[0m\u001b[1;36m0\u001b[0m\u001b[1;33m]\u001b[0m \u001b[1;31m#iterators so be careful about re-running code, without re-running this block\u001b[0m\u001b[1;33m\u001b[0m\u001b[0m\n\u001b[0;32m      3\u001b[0m \u001b[0mprint\u001b[0m\u001b[1;33m(\u001b[0m\u001b[0msecondSentDepParseTree\u001b[0m\u001b[1;33m)\u001b[0m\u001b[1;33m\u001b[0m\u001b[0m\n",
      "\u001b[1;31mNameError\u001b[0m: name 'paragraph_text' is not defined"
     ]
    }
   ],
   "source": [
    "depParses = list(stanford.depParser.raw_parse_sents(paragraph_text)) #Converting the iterator to a list so we can call by index. They are still \n",
    "secondSentDepParseTree = list(depParses[3])[0] #iterators so be careful about re-running code, without re-running this block\n",
    "print(secondSentDepParseTree)"
   ]
  },
  {
   "cell_type": "code",
   "execution_count": null,
   "metadata": {
    "scrolled": true
   },
   "outputs": [],
   "source": [
    "try:\n",
    "    secondSentGraph = graphviz.Source(secondSentDepParseTree.to_dot())\n",
    "except:\n",
    "    secondSentGraph = None\n",
    "    print(\"There was a problem with graphviz, likely your missing the program, https://www.graphviz.org/download/\")\n",
    "secondSentGraph"
   ]
  },
  {
   "cell_type": "code",
   "execution_count": null,
   "metadata": {},
   "outputs": [],
   "source": [
    "try:\n",
    "    graph = graphviz.Source(list(depParses[1])[0].to_dot())\n",
    "except IndexError:\n",
    "    print(\"You likely have to rerun the depParses\")\n",
    "    raise\n",
    "except:\n",
    "    graph = None\n",
    "    print(\"There was a problem with graphviz, likely your missing the program, https://www.graphviz.org/download/\")\n",
    "graph"
   ]
  },
  {
   "cell_type": "code",
   "execution_count": null,
   "metadata": {},
   "outputs": [],
   "source": [
    "topPostDepParse = list(stanford.depParser.parse_sents(paragraph['tokenized'][0]))"
   ]
  },
  {
   "cell_type": "code",
   "execution_count": null,
   "metadata": {},
   "outputs": [],
   "source": [
    "targetSentence = 8\n",
    "print(' '.join(paragraph['tokenized'][0][targetSentence]))"
   ]
  },
  {
   "cell_type": "code",
   "execution_count": null,
   "metadata": {},
   "outputs": [],
   "source": [
    "try:\n",
    "    graph = graphviz.Source(list(topPostDepParse[targetSentence])[0].to_dot())\n",
    "except IndexError:\n",
    "    print(\"You likely have to rerun the depParses\")\n",
    "    raise\n",
    "except:\n",
    "    graph = None\n",
    "    print(\"There was a problem with graphviz, likely your missing the program, https://www.graphviz.org/download/\")\n",
    "graph"
   ]
  },
  {
   "cell_type": "markdown",
   "metadata": {},
   "source": [
    "# Information extraction\n",
    "\n",
    "Information extraction approaches typically (as here, with Stanford's Open IE engine) ride atop the dependency parse of a sentence. They are a pre-coded example of the type analyzed in the prior. "
   ]
  },
  {
   "cell_type": "code",
   "execution_count": 25,
   "metadata": {},
   "outputs": [],
   "source": [
    "text = ['I saw the elephant in my pajamas.', \n",
    "        'The quick brown fox jumped over the lazy dog.', \n",
    "        'While in France, Christine Lagarde discussed short-term stimulus efforts in a recent interview with the Wall Street Journal.', \n",
    "        'Trayvon Benjamin Martin was an African American from Miami Gardens, Florida, who, at 17 years old, was fatally shot by George Zimmerman, a neighborhood watch volunteer, in Sanford, Florida.', \n",
    "        'Buffalo buffalo Buffalo buffalo buffalo buffalo Buffalo buffalo']\n",
    "tokenized_text = [nltk.word_tokenize(t) for t in text]"
   ]
  },
  {
   "cell_type": "code",
   "execution_count": 26,
   "metadata": {},
   "outputs": [
    {
     "name": "stdout",
     "output_type": "stream",
     "text": [
      "Starting OpenIE run\n",
      "Error: Could not find or load main class edu.stanford.nlp.naturalli.OpenIE\n",
      "Caused by: java.lang.ClassNotFoundException: edu.stanford.nlp.naturalli.OpenIE\n",
      "\n"
     ]
    }
   ],
   "source": [
    "ieDF = stanford.openIE(text)"
   ]
  },
  {
   "cell_type": "markdown",
   "metadata": {},
   "source": [
    "`openIE()` prints everything stanford core produces and we can see from looking at it that initializing the dependency parser takes most of the time, so calling the function will always take at least 12 seconds."
   ]
  },
  {
   "cell_type": "code",
   "execution_count": null,
   "metadata": {},
   "outputs": [],
   "source": [
    "ieDF"
   ]
  },
  {
   "cell_type": "markdown",
   "metadata": {},
   "source": [
    "No buffalos (because there were no verbs), but the rest is somewhat promising. Note, however, that it abandoned the key theme of the sentence about the tragic Trayvon Martin death (\"fatally shot\"), likely because it was buried so deeply within the complex phrase structure. This is obviously a challenge. "
   ]
  },
  {
   "cell_type": "markdown",
   "metadata": {},
   "source": [
    "## <span style=\"color:red\">*Exercise 4*</span>\n",
    "\n",
    "<span style=\"color:red\">How would you extract relevant information about the Trayvon Martin sentence directly from the dependency parse (above)? Code an example here. (For instance, what compound nouns show up with what verb phrases within the sentence?) How could these approaches inform your research project?"
   ]
  },
  {
   "cell_type": "code",
   "execution_count": null,
   "metadata": {},
   "outputs": [],
   "source": [
    "ieDF[ieDF['subject'] == 'Trayvon Benjamin Martin']['verb']"
   ]
  },
  {
   "cell_type": "markdown",
   "metadata": {},
   "source": [
    "And we can also look for subject, object, target triples in one of the reddit stories."
   ]
  },
  {
   "cell_type": "code",
   "execution_count": null,
   "metadata": {
    "scrolled": true
   },
   "outputs": [],
   "source": [
    "ieDF[ieDF['subject'] == 'Trayvon Benjamin Martin']['object']"
   ]
  },
  {
   "cell_type": "markdown",
   "metadata": {},
   "source": [
    "<span style=\"color:blue\"> I may use this method to find the usage of concepts in philosophical work. For instance, the verb and object can give me information about what a concept means in a specific paragraph."
   ]
  },
  {
   "cell_type": "markdown",
   "metadata": {
    "collapsed": true
   },
   "source": [
    "## <span style=\"color:red\">*Exercise 5*</span>\n",
    "\n",
    "<span style=\"color:red\">In the cells immediately following, perform open information extraction on a modest subset of texts relevant to your final project. Analyze the relative attachment of several subjects relative to verbs and objects and visa versa. Describe how you would select among these statements to create a database of high-value statements for your project and then do it by extracting relevant statements into a pandas dataframe."
   ]
  },
  {
   "cell_type": "code",
   "execution_count": null,
   "metadata": {},
   "outputs": [],
   "source": [
    "text_p= \"\"\n",
    "for sen in paragraph[\"text\"][1]:\n",
    "    text_p+= sen.lower()"
   ]
  },
  {
   "cell_type": "code",
   "execution_count": null,
   "metadata": {
    "scrolled": true
   },
   "outputs": [],
   "source": [
    "ieDF = stanford.openIE(text_p)"
   ]
  },
  {
   "cell_type": "code",
   "execution_count": null,
   "metadata": {},
   "outputs": [],
   "source": [
    "ieDF"
   ]
  }
 ],
 "metadata": {
  "anaconda-cloud": {},
  "kernelspec": {
   "display_name": "Python 3",
   "language": "python",
   "name": "python3"
  },
  "language_info": {
   "codemirror_mode": {
    "name": "ipython",
    "version": 3
   },
   "file_extension": ".py",
   "mimetype": "text/x-python",
   "name": "python",
   "nbconvert_exporter": "python",
   "pygments_lexer": "ipython3",
   "version": "3.6.3"
  }
 },
 "nbformat": 4,
 "nbformat_minor": 1
}
