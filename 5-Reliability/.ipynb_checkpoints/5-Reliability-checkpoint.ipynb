{
 "cells": [
  {
   "cell_type": "markdown",
   "metadata": {},
   "source": [
    "# Week 5 - Sampling & Reliability\n",
    "\n",
    "Up until this week, we have assumed that the corpus you have used for analysis assignments represented a *meaningful* assemblage of texts from which reasonable inferences could be drawn about the social game, social world and social actors that produced it. This week, we ask you to articulate what your sample represents in context of your final project, and draw upon methods we have developed over the last three weeks to draw reasonable and representative samples. \n",
    "\n",
    "This week we also pivot from our recent work on unsupervized machine learning approaches to explore how we can get *human* readings of content at scale. We want to gather and utilize human responses for several reasons. First, we may want to use crowdsourced human scores as the primary method of coding, extracting or organizing content (as it was in the two of the assigned readings). Second, we may want to validate or tune a computational algorithm we may have developed in terms of how it is associated with human meanings or experience. Finally, we may want to use human coding on a sample of data as the basis for training a model or algorithm to then extrapolate *human-like* annotations to the entire population. Here intelligent sampling is critical to maximize effective maching training. \n",
    "\n",
    "For this notebook we will be using the following packages"
   ]
  },
  {
   "cell_type": "code",
   "execution_count": 2,
   "metadata": {},
   "outputs": [],
   "source": [
    "#Special module written for this class\n",
    "#This provides access to data and to helper functions from previous weeks\n",
    "#Make sure you update it before starting this notebook\n",
    "import lucem_illud #pip install -U git+git://github.com/Computational-Content-Analysis-2018/lucem_illud.git\n",
    "\n",
    "#All these packages need to be installed from pip\n",
    "import numpy as np #For arrays\n",
    "import scipy as sp #For some stats\n",
    "import pandas #Gives us DataFrames\n",
    "import matplotlib.pyplot as plt #For graphics\n",
    "import seaborn #Makes the graphics look nicer\n",
    "import pyanno #On python3 make sure to pip install pyanno3\n",
    "\n",
    "#We need to import these this way due to how pyanno is setup\n",
    "from pyanno.measures import pairwise_matrix, agreement, cohens_kappa, cohens_weighted_kappa, fleiss_kappa, krippendorffs_alpha, pearsons_rho, scotts_pi, spearmans_rho\n",
    "from pyanno.annotations import AnnotationsContainer\n",
    "from pyanno.models import ModelA, ModelBt, ModelB\n",
    "\n",
    "from functools import reduce\n",
    "from itertools import permutations\n",
    "import math\n",
    "\n",
    "import sklearn\n",
    "import sklearn.feature_extraction.text\n",
    "import sklearn.pipeline\n",
    "import sklearn.preprocessing\n",
    "import sklearn.datasets\n",
    "import sklearn.cluster\n",
    "import sklearn.decomposition\n",
    "import sklearn.metrics\n",
    "#This 'magic' command makes the plots work better\n",
    "#in the notebook, don't use it outside of a notebook.\n",
    "#Also you can ignore the warning\n",
    "%matplotlib inline\n",
    "\n",
    "import os #For looking through files\n",
    "import os.path #For managing file paths"
   ]
  },
  {
   "cell_type": "markdown",
   "metadata": {},
   "source": [
    "## <span style=\"color:red\">*Pitch Your Project*</span>\n",
    "\n",
    "<span style=\"color:red\">In the three cells immediately following, describe **WHAT** you are planning to analyze for your final project (i.e., texts, contexts and the social game, world and actors you intend to learn about through your analysis) (<200 words), **WHY** you are going to do it (i.e., why would theory and/or the average person benefit from knowing the results of your investigation) (<200 words), and **HOW** you plan to investigate it (i.e., what are the approaches and operations you plan to perform, in sequence, to yield this insight) (<400 words)."
   ]
  },
  {
   "cell_type": "markdown",
   "metadata": {},
   "source": [
    "## ***What?*** \n",
    "I plan to analyze the change of concepts and topic in philosophical texts and the social game lying behind them. My hypothesis is that the philosophical discussion in different eras has systematically differences and the texts in the same eras have some shared similarity. This kind of differences include writing styles, conceptual meanings and social implications. Therefore, I will analyze famous philosophers's texts."
   ]
  },
  {
   "cell_type": "markdown",
   "metadata": {},
   "source": [
    "## ***Why?***\n",
    "Traditional philosophical research mainly focuses on qualitative study of philosophical texts and most studies only foucs on a very limited number of books since philosophical books are very difficult to read. If we can use computational method to analyze philosophical texts, we may have a much broader range and a new perspective to understand philosophical text. Besides, instead of reading obscure philosophical texts, the visualization of philosophical topics and contents might provide a more clear and overall development path of the history of philosophy and help us to understand concrete books. Finally, we may use some methods, such as word embedding, to understand the social implication behind many philosophers. This might provde us a new perspective to analyze the texts."
   ]
  },
  {
   "cell_type": "markdown",
   "metadata": {},
   "source": [
    "## ***How?***\n",
    "I will select some representative philosophers in different eras and use their philosophical texts for analysis. Specifically, I will analyze the concepts they frequenctly use through word frequency analysis, explore their general similarity and difference by cluster analysis, and also look for the social game behind them through word embedding. If possible, I can also study the relationship between philosophers by network analysis and compare the results with the traditional idea. For the word frequency analysis, I can explore the superficial conceptual relationship among different philosophers. For cluster analysis and network analysis, it is possible for me to look at the general relationship among different philosophers. And for word embedding, I may dig out the different social contexts when two philosophers use the same concept. Generally, in this study, I can explore the differences and similairties among philosophers in different ears and also might trace the change of philosophical theory.  "
   ]
  },
  {
   "cell_type": "markdown",
   "metadata": {},
   "source": [
    "## <span style=\"color:red\">*Pitch Your Sample*</span>\n",
    "\n",
    "<span style=\"color:red\">In the cell immediately following, describe the rationale behind your proposed sample design for your final project. What is the social game, social work, or social actors you about whom you are seeking to make inferences? What are its virtues with respect to your research questions? What are its limitations? What are alternatives? What would be a reasonable path to \"scale up\" your sample for further analysis (i.e., high-profile publication)? (<200 words)."
   ]
  },
  {
   "cell_type": "markdown",
   "metadata": {},
   "source": [
    "## ***Which (words)?***\n",
    "I only select famous philosophers because of the discipline attributes. In other words, in philosophy, we typically only focus on the books that have big names. Therefore, famous philosophers have nearly represented the whole development of this discipline. The main social game I'm planning to make inferences are philosophers' discussion will influeced by the idea and social context in the eras. The virtues and limitations in my sample are the same thing: I only use famous philosophers' texts. Since philosophers' ideas are often ahead of their time, it cannot completely reflect the society at that time. However, I believe that they are still limited by their own era so that most philosophers can only be slightly ahead of their time instead of throw away the time.  \n",
    "\n",
    "The words I will use including 2 categories. The first category contains some important concepts in the history of philosophy such as moral/morality, ethics, virtue, human, etc. The second category contains words related to social meaning such as male, female, etc."
   ]
  },
  {
   "cell_type": "markdown",
   "metadata": {},
   "source": [
    "## <span style=\"color:red\">*Exercise 1*</span>\n",
    "\n",
    "<span style=\"color:red\">In the cells immediately following, demonstrate three approaches drawn from any of the last three weeks to create subsamples of your corpus (e.g., for crowd-sourced subcoding like we'll be doing this week). Methods of subsampling include (a) corpus linguistic approaches drawing on word presence or co-presence, conditional frequencies, weighted words (e.g., tf.idf), KL or JS divergences, etc.; (b) hierarchical or flat clustering approaches; (c) topic modeling; or (d) word-embedding. (<200 words)."
   ]
  },
  {
   "cell_type": "code",
   "execution_count": 3,
   "metadata": {},
   "outputs": [],
   "source": [
    "import os\n",
    "import re\n",
    "\n",
    "targetDir = '../Plato'\n",
    "platoText = []\n",
    "platoFileName = []\n",
    "\n",
    "for file in (file for file in os.scandir(targetDir) if file.is_file() and not file.name.startswith('.')):\n",
    "    with open(file.path, encoding = 'latin-1') as f:\n",
    "        platoText.append(f.read())\n",
    "    platoFileName.append(file.name)\n",
    "\n",
    "Plato = pandas.DataFrame({'text' : platoText, 'book' : platoFileName, 'author' : 'Plato'})\n",
    "\n",
    "targetDir = '../Aristotle'\n",
    "platoText = []\n",
    "platoFileName = []\n",
    "\n",
    "for file in (file for file in os.scandir(targetDir) if file.is_file() and not file.name.startswith('.')):\n",
    "    with open(file.path, encoding = 'latin-1') as f:\n",
    "        platoText.append(f.read())\n",
    "    platoFileName.append(file.name)\n",
    "\n",
    "Aristotle = pandas.DataFrame({'text' : platoText, 'book' : platoFileName, 'author' : 'Aristotle'})\n",
    "\n",
    "\n",
    "\n",
    "targetDir = '../Kant'\n",
    "platoText = []\n",
    "platoFileName = []\n",
    "\n",
    "for file in (file for file in os.scandir(targetDir) if file.is_file() and not file.name.startswith('.')):\n",
    "    with open(file.path, encoding = 'latin-1') as f:\n",
    "        platoText.append(f.read())\n",
    "    platoFileName.append(file.name)\n",
    "\n",
    "Kant = pandas.DataFrame({'text' : platoText, 'book' : platoFileName, 'author' : 'Kant'})\n",
    "\n",
    "\n",
    "targetDir = '../Hegel'\n",
    "platoText = []\n",
    "platoFileName = []\n",
    "\n",
    "for file in (file for file in os.scandir(targetDir) if file.is_file() and not file.name.startswith('.')):\n",
    "    with open(file.path, encoding = 'latin-1') as f:\n",
    "        platoText.append(f.read())\n",
    "    platoFileName.append(file.name)\n",
    "\n",
    "Hegel = pandas.DataFrame({'text' : platoText, 'book' : platoFileName, 'author' : 'Hegel'})\n",
    "\n",
    "\n",
    "targetDir = '../Nietzsche'\n",
    "platoText = []\n",
    "platoFileName = []\n",
    "\n",
    "for file in (file for file in os.scandir(targetDir) if file.is_file() and not file.name.startswith('.')):\n",
    "    with open(file.path, encoding = 'latin-1') as f:\n",
    "        platoText.append(f.read())\n",
    "    platoFileName.append(file.name)\n",
    "\n",
    "Nietzsche = pandas.DataFrame({'text' : platoText, 'book' : platoFileName, 'author' : 'Nietzsche'})\n",
    "\n",
    "\n",
    "corpora_df = pandas.concat([Aristotle, Kant, Nietzsche, Plato, Hegel])\n",
    "corpora_no_remove = pandas.concat([Aristotle, Kant, Nietzsche, Plato, Hegel])\n",
    "\n",
    "# Remove some features vectors \n",
    "remove = np.array(['replied', 'Crito', 'Cleinias', 'Timaeus', 'Protagoras', 'Theaetetus', r'\\[\\d+\\]',\n",
    "                   'Phaedrus', 'Phaedo', 'SOCRATES', 'Socrates', 'Philebus', 'Parmenides',r'\\(\\d+\\)',\n",
    "                   'Euthyphro', 'Meno', 'Nicias', 'Polus', 'Cratylus', 'Theodorus', 'Menexenus', \n",
    "                   'Nicias', 'Ion', 'Dion', 'Simmias', 'Agathon', 'Hellenes', 'Gorgias', '\\n', '\\t'\n",
    "                   'theodorus', 'DIALOGUE', 'Athens', 'Athenian', 'Author', 'Athenians', 'THEODORUS',])\n",
    "       \n",
    "for i in range(corpora_df.shape[0]):\n",
    "    for j in range(len(remove)):\n",
    "        corpora_df[\"text\"].iloc[i] = re.sub(remove[j], ' ', corpora_df[\"text\"].iloc[i])"
   ]
  },
  {
   "cell_type": "code",
   "execution_count": 4,
   "metadata": {
    "scrolled": false
   },
   "outputs": [
    {
     "data": {
      "text/html": [
       "<div>\n",
       "<style scoped>\n",
       "    .dataframe tbody tr th:only-of-type {\n",
       "        vertical-align: middle;\n",
       "    }\n",
       "\n",
       "    .dataframe tbody tr th {\n",
       "        vertical-align: top;\n",
       "    }\n",
       "\n",
       "    .dataframe thead th {\n",
       "        text-align: right;\n",
       "    }\n",
       "</style>\n",
       "<table border=\"1\" class=\"dataframe\">\n",
       "  <thead>\n",
       "    <tr style=\"text-align: right;\">\n",
       "      <th></th>\n",
       "      <th>author</th>\n",
       "      <th>book</th>\n",
       "      <th>text</th>\n",
       "    </tr>\n",
       "  </thead>\n",
       "  <tbody>\n",
       "    <tr>\n",
       "      <th>0</th>\n",
       "      <td>Aristotle</td>\n",
       "      <td>Aristotle_Category.txt</td>\n",
       "      <td>The Categories   By  Aristotle   Section 1  Pa...</td>\n",
       "    </tr>\n",
       "    <tr>\n",
       "      <th>10</th>\n",
       "      <td>Aristotle</td>\n",
       "      <td>Heavens.txt</td>\n",
       "      <td>Aristotle - On the Heavens  Book I 1 The scien...</td>\n",
       "    </tr>\n",
       "    <tr>\n",
       "      <th>20</th>\n",
       "      <td>Aristotle</td>\n",
       "      <td>On Sophistical Refutations.txt</td>\n",
       "      <td>Aristotle - On Sophistical Refutations  1 Let ...</td>\n",
       "    </tr>\n",
       "    <tr>\n",
       "      <th>30</th>\n",
       "      <td>Aristotle</td>\n",
       "      <td>Politics.txt</td>\n",
       "      <td>Title: Politics        A Treatise on Governmen...</td>\n",
       "    </tr>\n",
       "    <tr>\n",
       "      <th>2</th>\n",
       "      <td>Kant</td>\n",
       "      <td>Kant_Judgement.txt</td>\n",
       "      <td>1790    ...</td>\n",
       "    </tr>\n",
       "    <tr>\n",
       "      <th>12</th>\n",
       "      <td>Kant</td>\n",
       "      <td>persp-model_W18-master (1).zip</td>\n",
       "      <td>PK\u0003\u0004 \u0000\u0000\u0000\u0000\u0000ÝKEL\u0000\u0000\u0000\u0000\u0000\u0000\u0000\u0000\u0000\u0000\u0000\u0000\u0017\u0000\\t\u0000persp-model_W18...</td>\n",
       "    </tr>\n",
       "    <tr>\n",
       "      <th>1</th>\n",
       "      <td>Nietzsche</td>\n",
       "      <td>Birth_of_Tragedy.txt</td>\n",
       "      <td>ï»¿FRIEDRICH NIETZSCHE  THE  BIRTH OF TRAGEDY ...</td>\n",
       "    </tr>\n",
       "    <tr>\n",
       "      <th>11</th>\n",
       "      <td>Nietzsche</td>\n",
       "      <td>The Gay Science.txt</td>\n",
       "      <td>The Gay Science  I This hook might need more t...</td>\n",
       "    </tr>\n",
       "    <tr>\n",
       "      <th>1</th>\n",
       "      <td>Plato</td>\n",
       "      <td>Plato_Charmides.txt</td>\n",
       "      <td>Charmidest SCENE: The Palaestra of Taureas, wh...</td>\n",
       "    </tr>\n",
       "    <tr>\n",
       "      <th>11</th>\n",
       "      <td>Plato</td>\n",
       "      <td>Plato_Lysis.txt</td>\n",
       "      <td>Lysis, or Friendship PERSONS OF THE  :  , who ...</td>\n",
       "    </tr>\n",
       "    <tr>\n",
       "      <th>21</th>\n",
       "      <td>Plato</td>\n",
       "      <td>Plato_Sophist.txt</td>\n",
       "      <td>Sophist PERSONS OF THE  :  ,  ,  . An Eleatic ...</td>\n",
       "    </tr>\n",
       "    <tr>\n",
       "      <th>5</th>\n",
       "      <td>Hegel</td>\n",
       "      <td>folk religion.txt</td>\n",
       "      <td>On the Prospects for a Folk Religion Hegel, Tu...</td>\n",
       "    </tr>\n",
       "    <tr>\n",
       "      <th>15</th>\n",
       "      <td>Hegel</td>\n",
       "      <td>Philosophy of Nature.txt</td>\n",
       "      <td>Preliminary Concepts  192. Nature has presente...</td>\n",
       "    </tr>\n",
       "    <tr>\n",
       "      <th>25</th>\n",
       "      <td>Hegel</td>\n",
       "      <td>The Science of Logic.txt</td>\n",
       "      <td>The Science of Logic preface to the first edit...</td>\n",
       "    </tr>\n",
       "  </tbody>\n",
       "</table>\n",
       "</div>"
      ],
      "text/plain": [
       "       author                            book  \\\n",
       "0   Aristotle          Aristotle_Category.txt   \n",
       "10  Aristotle                     Heavens.txt   \n",
       "20  Aristotle  On Sophistical Refutations.txt   \n",
       "30  Aristotle                    Politics.txt   \n",
       "2        Kant              Kant_Judgement.txt   \n",
       "12       Kant  persp-model_W18-master (1).zip   \n",
       "1   Nietzsche            Birth_of_Tragedy.txt   \n",
       "11  Nietzsche             The Gay Science.txt   \n",
       "1       Plato             Plato_Charmides.txt   \n",
       "11      Plato                 Plato_Lysis.txt   \n",
       "21      Plato               Plato_Sophist.txt   \n",
       "5       Hegel               folk religion.txt   \n",
       "15      Hegel        Philosophy of Nature.txt   \n",
       "25      Hegel        The Science of Logic.txt   \n",
       "\n",
       "                                                 text  \n",
       "0   The Categories   By  Aristotle   Section 1  Pa...  \n",
       "10  Aristotle - On the Heavens  Book I 1 The scien...  \n",
       "20  Aristotle - On Sophistical Refutations  1 Let ...  \n",
       "30  Title: Politics        A Treatise on Governmen...  \n",
       "2                                         1790    ...  \n",
       "12  PK\u0003\u0004 \u0000\u0000\u0000\u0000\u0000ÝKEL\u0000\u0000\u0000\u0000\u0000\u0000\u0000\u0000\u0000\u0000\u0000\u0000\u0017\u0000\\t\u0000persp-model_W18...  \n",
       "1   ï»¿FRIEDRICH NIETZSCHE  THE  BIRTH OF TRAGEDY ...  \n",
       "11  The Gay Science  I This hook might need more t...  \n",
       "1   Charmidest SCENE: The Palaestra of Taureas, wh...  \n",
       "11  Lysis, or Friendship PERSONS OF THE  :  , who ...  \n",
       "21  Sophist PERSONS OF THE  :  ,  ,  . An Eleatic ...  \n",
       "5   On the Prospects for a Folk Religion Hegel, Tu...  \n",
       "15  Preliminary Concepts  192. Nature has presente...  \n",
       "25  The Science of Logic preface to the first edit...  "
      ]
     },
     "execution_count": 4,
     "metadata": {},
     "output_type": "execute_result"
    }
   ],
   "source": [
    "corpora_df[::10]"
   ]
  },
  {
   "cell_type": "code",
   "execution_count": 5,
   "metadata": {},
   "outputs": [
    {
     "name": "stderr",
     "output_type": "stream",
     "text": [
      "F:\\python\\lib\\site-packages\\gensim\\utils.py:860: UserWarning: detected Windows; aliasing chunkize to chunkize_serial\n",
      "  warnings.warn(\"detected Windows; aliasing chunkize to chunkize_serial\")\n"
     ]
    }
   ],
   "source": [
    "import gensim#For word2vec, etc\n",
    "import requests #For downloading our datasets\n",
    "import nltk #For stop words and stemmers\n",
    "corpora_df['tokenized_sents'] = corpora_df['text'].apply(lambda x: [nltk.word_tokenize(s) for s in nltk.sent_tokenize(x)])\n",
    "corpora_df['normalized_sents'] = corpora_df['tokenized_sents'].apply(lambda x: \n",
    "                                                                 [lucem_illud.normalizeTokens(s, stopwordLst = \n",
    "                                                                                              lucem_illud.stop_words_basic,\n",
    "                                                                                              stemmer = None)\n",
    "                                                                  for s in x])"
   ]
  },
  {
   "cell_type": "code",
   "execution_count": 6,
   "metadata": {
    "scrolled": false
   },
   "outputs": [
    {
     "data": {
      "text/html": [
       "<div>\n",
       "<style scoped>\n",
       "    .dataframe tbody tr th:only-of-type {\n",
       "        vertical-align: middle;\n",
       "    }\n",
       "\n",
       "    .dataframe tbody tr th {\n",
       "        vertical-align: top;\n",
       "    }\n",
       "\n",
       "    .dataframe thead th {\n",
       "        text-align: right;\n",
       "    }\n",
       "</style>\n",
       "<table border=\"1\" class=\"dataframe\">\n",
       "  <thead>\n",
       "    <tr style=\"text-align: right;\">\n",
       "      <th></th>\n",
       "      <th>author</th>\n",
       "      <th>book</th>\n",
       "      <th>text</th>\n",
       "      <th>tokenized_sents</th>\n",
       "      <th>normalized_sents</th>\n",
       "      <th>kmeans_predictions</th>\n",
       "    </tr>\n",
       "  </thead>\n",
       "  <tbody>\n",
       "    <tr>\n",
       "      <th>0</th>\n",
       "      <td>Aristotle</td>\n",
       "      <td>Aristotle_Category.txt</td>\n",
       "      <td>The Categories   By  Aristotle   Section 1  Pa...</td>\n",
       "      <td>[[The, Categories, By, Aristotle, Section, 1, ...</td>\n",
       "      <td>[[categories, aristotle, section, part, things...</td>\n",
       "      <td>6</td>\n",
       "    </tr>\n",
       "    <tr>\n",
       "      <th>10</th>\n",
       "      <td>Aristotle</td>\n",
       "      <td>Heavens.txt</td>\n",
       "      <td>Aristotle - On the Heavens  Book I 1 The scien...</td>\n",
       "      <td>[[Aristotle, -, On, the, Heavens, Book, I, 1, ...</td>\n",
       "      <td>[[aristotle, heavens, book, science, nature, c...</td>\n",
       "      <td>4</td>\n",
       "    </tr>\n",
       "    <tr>\n",
       "      <th>20</th>\n",
       "      <td>Aristotle</td>\n",
       "      <td>On Sophistical Refutations.txt</td>\n",
       "      <td>Aristotle - On Sophistical Refutations  1 Let ...</td>\n",
       "      <td>[[Aristotle, -, On, Sophistical, Refutations, ...</td>\n",
       "      <td>[[aristotle, sophistical, refutations, let, us...</td>\n",
       "      <td>6</td>\n",
       "    </tr>\n",
       "    <tr>\n",
       "      <th>30</th>\n",
       "      <td>Aristotle</td>\n",
       "      <td>Politics.txt</td>\n",
       "      <td>Title: Politics        A Treatise on Governmen...</td>\n",
       "      <td>[[Title, :, Politics, A, Treatise, on, Governm...</td>\n",
       "      <td>[[title, politics, treatise, government, treat...</td>\n",
       "      <td>7</td>\n",
       "    </tr>\n",
       "    <tr>\n",
       "      <th>2</th>\n",
       "      <td>Kant</td>\n",
       "      <td>Kant_Judgement.txt</td>\n",
       "      <td>1790    ...</td>\n",
       "      <td>[[1790, THE, CRITIQUE, OF, JUDGEMENT, by, Imma...</td>\n",
       "      <td>[[critique, judgement, immanuel, kant, transla...</td>\n",
       "      <td>3</td>\n",
       "    </tr>\n",
       "    <tr>\n",
       "      <th>12</th>\n",
       "      <td>Kant</td>\n",
       "      <td>persp-model_W18-master (1).zip</td>\n",
       "      <td>PK\u0003\u0004 \u0000\u0000\u0000\u0000\u0000ÝKEL\u0000\u0000\u0000\u0000\u0000\u0000\u0000\u0000\u0000\u0000\u0000\u0000\u0017\u0000\\t\u0000persp-model_W18...</td>\n",
       "      <td>[[PK\u0003\u0004, \u0000\u0000\u0000\u0000\u0000ÝKEL\u0000\u0000\u0000\u0000\u0000\u0000\u0000\u0000\u0000\u0000\u0000\u0000\u0017\u0000, \u0000persp-model_...</td>\n",
       "      <td>[[], [ð, ÿbe, pz, ê, q, iý, p, õ], [ràâ, ç, ç,...</td>\n",
       "      <td>0</td>\n",
       "    </tr>\n",
       "    <tr>\n",
       "      <th>1</th>\n",
       "      <td>Nietzsche</td>\n",
       "      <td>Birth_of_Tragedy.txt</td>\n",
       "      <td>ï»¿FRIEDRICH NIETZSCHE  THE  BIRTH OF TRAGEDY ...</td>\n",
       "      <td>[[ï, », ¿FRIEDRICH, NIETZSCHE, THE, BIRTH, OF,...</td>\n",
       "      <td>[[ï, nietzsche, birth, tragedy, attempt], [], ...</td>\n",
       "      <td>5</td>\n",
       "    </tr>\n",
       "    <tr>\n",
       "      <th>11</th>\n",
       "      <td>Nietzsche</td>\n",
       "      <td>The Gay Science.txt</td>\n",
       "      <td>The Gay Science  I This hook might need more t...</td>\n",
       "      <td>[[The, Gay, Science, I, This, hook, might, nee...</td>\n",
       "      <td>[[gay, science, hook, might, need, one, prefac...</td>\n",
       "      <td>5</td>\n",
       "    </tr>\n",
       "    <tr>\n",
       "      <th>1</th>\n",
       "      <td>Plato</td>\n",
       "      <td>Plato_Charmides.txt</td>\n",
       "      <td>Charmidest SCENE: The Palaestra of Taureas, wh...</td>\n",
       "      <td>[[Charmidest, SCENE, :, The, Palaestra, of, Ta...</td>\n",
       "      <td>[[charmidest, scene, palaestra, taureas, near,...</td>\n",
       "      <td>2</td>\n",
       "    </tr>\n",
       "    <tr>\n",
       "      <th>11</th>\n",
       "      <td>Plato</td>\n",
       "      <td>Plato_Lysis.txt</td>\n",
       "      <td>Lysis, or Friendship PERSONS OF THE  :  , who ...</td>\n",
       "      <td>[[Lysis, ,, or, Friendship, PERSONS, OF, THE, ...</td>\n",
       "      <td>[[lysis, friendship, persons, narrator, hippot...</td>\n",
       "      <td>2</td>\n",
       "    </tr>\n",
       "    <tr>\n",
       "      <th>21</th>\n",
       "      <td>Plato</td>\n",
       "      <td>Plato_Sophist.txt</td>\n",
       "      <td>Sophist PERSONS OF THE  :  ,  ,  . An Eleatic ...</td>\n",
       "      <td>[[Sophist, PERSONS, OF, THE, :, ,, ,, .], [An,...</td>\n",
       "      <td>[[sophist, persons], [eleatic, stranger, bring...</td>\n",
       "      <td>7</td>\n",
       "    </tr>\n",
       "    <tr>\n",
       "      <th>5</th>\n",
       "      <td>Hegel</td>\n",
       "      <td>folk religion.txt</td>\n",
       "      <td>On the Prospects for a Folk Religion Hegel, Tu...</td>\n",
       "      <td>[[On, the, Prospects, for, a, Folk, Religion, ...</td>\n",
       "      <td>[[prospects, folk, religion, hegel, tubingen, ...</td>\n",
       "      <td>1</td>\n",
       "    </tr>\n",
       "    <tr>\n",
       "      <th>15</th>\n",
       "      <td>Hegel</td>\n",
       "      <td>Philosophy of Nature.txt</td>\n",
       "      <td>Preliminary Concepts  192. Nature has presente...</td>\n",
       "      <td>[[Preliminary, Concepts, 192, .], [Nature, has...</td>\n",
       "      <td>[[preliminary, concepts], [nature, presented, ...</td>\n",
       "      <td>1</td>\n",
       "    </tr>\n",
       "    <tr>\n",
       "      <th>25</th>\n",
       "      <td>Hegel</td>\n",
       "      <td>The Science of Logic.txt</td>\n",
       "      <td>The Science of Logic preface to the first edit...</td>\n",
       "      <td>[[The, Science, of, Logic, preface, to, the, f...</td>\n",
       "      <td>[[science, logic, preface, first, edition, com...</td>\n",
       "      <td>1</td>\n",
       "    </tr>\n",
       "  </tbody>\n",
       "</table>\n",
       "</div>"
      ],
      "text/plain": [
       "       author                            book  \\\n",
       "0   Aristotle          Aristotle_Category.txt   \n",
       "10  Aristotle                     Heavens.txt   \n",
       "20  Aristotle  On Sophistical Refutations.txt   \n",
       "30  Aristotle                    Politics.txt   \n",
       "2        Kant              Kant_Judgement.txt   \n",
       "12       Kant  persp-model_W18-master (1).zip   \n",
       "1   Nietzsche            Birth_of_Tragedy.txt   \n",
       "11  Nietzsche             The Gay Science.txt   \n",
       "1       Plato             Plato_Charmides.txt   \n",
       "11      Plato                 Plato_Lysis.txt   \n",
       "21      Plato               Plato_Sophist.txt   \n",
       "5       Hegel               folk religion.txt   \n",
       "15      Hegel        Philosophy of Nature.txt   \n",
       "25      Hegel        The Science of Logic.txt   \n",
       "\n",
       "                                                 text  \\\n",
       "0   The Categories   By  Aristotle   Section 1  Pa...   \n",
       "10  Aristotle - On the Heavens  Book I 1 The scien...   \n",
       "20  Aristotle - On Sophistical Refutations  1 Let ...   \n",
       "30  Title: Politics        A Treatise on Governmen...   \n",
       "2                                         1790    ...   \n",
       "12  PK\u0003\u0004 \u0000\u0000\u0000\u0000\u0000ÝKEL\u0000\u0000\u0000\u0000\u0000\u0000\u0000\u0000\u0000\u0000\u0000\u0000\u0017\u0000\\t\u0000persp-model_W18...   \n",
       "1   ï»¿FRIEDRICH NIETZSCHE  THE  BIRTH OF TRAGEDY ...   \n",
       "11  The Gay Science  I This hook might need more t...   \n",
       "1   Charmidest SCENE: The Palaestra of Taureas, wh...   \n",
       "11  Lysis, or Friendship PERSONS OF THE  :  , who ...   \n",
       "21  Sophist PERSONS OF THE  :  ,  ,  . An Eleatic ...   \n",
       "5   On the Prospects for a Folk Religion Hegel, Tu...   \n",
       "15  Preliminary Concepts  192. Nature has presente...   \n",
       "25  The Science of Logic preface to the first edit...   \n",
       "\n",
       "                                      tokenized_sents  \\\n",
       "0   [[The, Categories, By, Aristotle, Section, 1, ...   \n",
       "10  [[Aristotle, -, On, the, Heavens, Book, I, 1, ...   \n",
       "20  [[Aristotle, -, On, Sophistical, Refutations, ...   \n",
       "30  [[Title, :, Politics, A, Treatise, on, Governm...   \n",
       "2   [[1790, THE, CRITIQUE, OF, JUDGEMENT, by, Imma...   \n",
       "12  [[PK\u0003\u0004, \u0000\u0000\u0000\u0000\u0000ÝKEL\u0000\u0000\u0000\u0000\u0000\u0000\u0000\u0000\u0000\u0000\u0000\u0000\u0017\u0000, \u0000persp-model_...   \n",
       "1   [[ï, », ¿FRIEDRICH, NIETZSCHE, THE, BIRTH, OF,...   \n",
       "11  [[The, Gay, Science, I, This, hook, might, nee...   \n",
       "1   [[Charmidest, SCENE, :, The, Palaestra, of, Ta...   \n",
       "11  [[Lysis, ,, or, Friendship, PERSONS, OF, THE, ...   \n",
       "21  [[Sophist, PERSONS, OF, THE, :, ,, ,, .], [An,...   \n",
       "5   [[On, the, Prospects, for, a, Folk, Religion, ...   \n",
       "15  [[Preliminary, Concepts, 192, .], [Nature, has...   \n",
       "25  [[The, Science, of, Logic, preface, to, the, f...   \n",
       "\n",
       "                                     normalized_sents  kmeans_predictions  \n",
       "0   [[categories, aristotle, section, part, things...                   6  \n",
       "10  [[aristotle, heavens, book, science, nature, c...                   4  \n",
       "20  [[aristotle, sophistical, refutations, let, us...                   6  \n",
       "30  [[title, politics, treatise, government, treat...                   7  \n",
       "2   [[critique, judgement, immanuel, kant, transla...                   3  \n",
       "12  [[], [ð, ÿbe, pz, ê, q, iý, p, õ], [ràâ, ç, ç,...                   0  \n",
       "1   [[ï, nietzsche, birth, tragedy, attempt], [], ...                   5  \n",
       "11  [[gay, science, hook, might, need, one, prefac...                   5  \n",
       "1   [[charmidest, scene, palaestra, taureas, near,...                   2  \n",
       "11  [[lysis, friendship, persons, narrator, hippot...                   2  \n",
       "21  [[sophist, persons], [eleatic, stranger, bring...                   7  \n",
       "5   [[prospects, folk, religion, hegel, tubingen, ...                   1  \n",
       "15  [[preliminary, concepts], [nature, presented, ...                   1  \n",
       "25  [[science, logic, preface, first, edition, com...                   1  "
      ]
     },
     "execution_count": 6,
     "metadata": {},
     "output_type": "execute_result"
    }
   ],
   "source": [
    "ngCountVectorizer = sklearn.feature_extraction.text.CountVectorizer()\n",
    "corporaVects = ngCountVectorizer.fit_transform(corpora_df['text'])\n",
    "ngCountVectorizer.vocabulary_.get('vector')\n",
    "corporaTFTransformer = sklearn.feature_extraction.text.TfidfTransformer().fit(corporaVects)\n",
    "corporaTF = corporaTFTransformer.transform(corporaVects)\n",
    "ngTFVectorizer = sklearn.feature_extraction.text.TfidfVectorizer(max_df=0.5, max_features=1000, min_df=3, stop_words='english', norm='l2')\n",
    "corporaTFVects = ngTFVectorizer.fit_transform(corpora_df['text'])\n",
    "corporaTFTransformer = sklearn.feature_extraction.text.TfidfTransformer().fit(corporaVects)\n",
    "  \n",
    "numClusters = 8\n",
    "km_remove = sklearn.cluster.KMeans(n_clusters=numClusters, init='k-means++')\n",
    "km_remove.fit(corporaTFVects)\n",
    "corpora_df['kmeans_predictions'] = km_remove.labels_\n",
    "terms_remove = ngTFVectorizer.get_feature_names()\n",
    "order_centroids = km_remove.cluster_centers_.argsort()[:, ::-1]\n",
    "corpora_df[::10]"
   ]
  },
  {
   "cell_type": "markdown",
   "metadata": {},
   "source": [
    "I first use flat modeling to initially explore dividng the corpus. Every cluster would have some words. I will use professional knowledge to decide which words are important and further look at their conditional frequency in every philosopher's books. Actually I don't think philosophical texts can be subsampled completely by computational methods."
   ]
  },
  {
   "cell_type": "markdown",
   "metadata": {},
   "source": [
    "## <span style=\"color:red\">*Excercise 2*</span>\n",
    "<span style=\"color:red\">Perform a content annotation survey of some kind in which at least 3 people evaluate and code each piece of content, using Amazon Mechanical Turk as described in the MTurk slides on this week's Canvas page. With the resulting data, calculate, visualize and discuss inter-coder agreement or covariation with appropriate metrics. What does this means for the reliability of human assessments regarding content in your domain?"
   ]
  },
  {
   "cell_type": "code",
   "execution_count": 7,
   "metadata": {},
   "outputs": [],
   "source": [
    "x = np.loadtxt(\"../survey.txt\")\n",
    "anno = AnnotationsContainer.from_array(x, missing_values=[-1])"
   ]
  },
  {
   "cell_type": "code",
   "execution_count": 8,
   "metadata": {},
   "outputs": [
    {
     "data": {
      "text/plain": [
       "array([[0, 1, 0, 0],\n",
       "       [1, 1, 2, 2],\n",
       "       [0, 0, 0, 0],\n",
       "       [0, 0, 1, 1],\n",
       "       [3, 2, 2, 2],\n",
       "       [0, 1, 1, 1],\n",
       "       [0, 1, 0, 1],\n",
       "       [1, 0, 1, 0],\n",
       "       [1, 1, 2, 1],\n",
       "       [0, 0, 0, 1],\n",
       "       [0, 1, 2, 1],\n",
       "       [0, 1, 1, 0],\n",
       "       [0, 1, 2, 1],\n",
       "       [0, 0, 0, 1],\n",
       "       [0, 2, 0, 0],\n",
       "       [1, 0, 1, 2],\n",
       "       [2, 0, 0, 1],\n",
       "       [1, 1, 1, 1],\n",
       "       [1, 1, 3, 1],\n",
       "       [0, 0, 0, 0],\n",
       "       [1, 0, 0, 2],\n",
       "       [0, 2, 0, 1],\n",
       "       [0, 1, 2, 1],\n",
       "       [0, 0, 0, 0],\n",
       "       [1, 1, 0, 1],\n",
       "       [0, 0, 2, 0],\n",
       "       [1, 0, 0, 0],\n",
       "       [1, 0, 0, 1],\n",
       "       [1, 1, 1, 0],\n",
       "       [1, 1, 1, 1],\n",
       "       [0, 0, 0, 2],\n",
       "       [0, 1, 1, 0],\n",
       "       [3, 2, 2, 2]])"
      ]
     },
     "execution_count": 8,
     "metadata": {},
     "output_type": "execute_result"
    }
   ],
   "source": [
    "anno.annotations"
   ]
  },
  {
   "cell_type": "code",
   "execution_count": 9,
   "metadata": {},
   "outputs": [
    {
     "data": {
      "text/plain": [
       "[1.0, 2.0, 3.0, 4.0]"
      ]
     },
     "execution_count": 9,
     "metadata": {},
     "output_type": "execute_result"
    }
   ],
   "source": [
    "anno.labels"
   ]
  },
  {
   "cell_type": "code",
   "execution_count": 10,
   "metadata": {},
   "outputs": [
    {
     "data": {
      "text/plain": [
       "array([0.43939394, 0.39393939, 0.14393939, 0.02272727])"
      ]
     },
     "execution_count": 10,
     "metadata": {},
     "output_type": "execute_result"
    }
   ],
   "source": [
    "pyanno.measures.agreement.labels_frequency(anno.annotations,4)"
   ]
  },
  {
   "cell_type": "code",
   "execution_count": 11,
   "metadata": {},
   "outputs": [
    {
     "name": "stdout",
     "output_type": "stream",
     "text": [
      "[[8. 8. 2. 0.]\n",
      " [5. 7. 0. 0.]\n",
      " [1. 0. 0. 0.]\n",
      " [0. 0. 2. 0.]]\n"
     ]
    },
    {
     "data": {
      "image/png": "[encoded data removed]",
      "text/plain": [
       "<matplotlib.figure.Figure at 0x1b91d2f2470>"
      ]
     },
     "metadata": {},
     "output_type": "display_data"
    }
   ],
   "source": [
    "c = pyanno.measures.agreement.confusion_matrix(anno.annotations[:,0], anno.annotations[:,1],4)\n",
    "print(c)\n",
    "ac = seaborn.heatmap(c)\n",
    "plt.show()"
   ]
  },
  {
   "cell_type": "code",
   "execution_count": 12,
   "metadata": {},
   "outputs": [
    {
     "data": {
      "text/plain": [
       "0.07692307692307696"
      ]
     },
     "execution_count": 12,
     "metadata": {},
     "output_type": "execute_result"
    }
   ],
   "source": [
    "scotts_pi(anno.annotations[:,0], anno.annotations[:,1])"
   ]
  },
  {
   "cell_type": "code",
   "execution_count": 13,
   "metadata": {},
   "outputs": [
    {
     "data": {
      "text/plain": [
       "0.15892954669579476"
      ]
     },
     "execution_count": 13,
     "metadata": {},
     "output_type": "execute_result"
    }
   ],
   "source": [
    "fleiss_kappa(anno.annotations[::])"
   ]
  },
  {
   "cell_type": "code",
   "execution_count": 14,
   "metadata": {},
   "outputs": [
    {
     "data": {
      "text/plain": [
       "0.2994652406417111"
      ]
     },
     "execution_count": 14,
     "metadata": {},
     "output_type": "execute_result"
    }
   ],
   "source": [
    "krippendorffs_alpha(anno.annotations[::])"
   ]
  },
  {
   "cell_type": "code",
   "execution_count": 15,
   "metadata": {},
   "outputs": [
    {
     "data": {
      "text/plain": [
       "0.09035222052067382"
      ]
     },
     "execution_count": 15,
     "metadata": {},
     "output_type": "execute_result"
    }
   ],
   "source": [
    "cohens_kappa(anno.annotations[:,0], anno.annotations[:,1])"
   ]
  },
  {
   "cell_type": "code",
   "execution_count": 16,
   "metadata": {
    "scrolled": true
   },
   "outputs": [
    {
     "name": "stdout",
     "output_type": "stream",
     "text": [
      "[[1.         0.09035222 0.15263909 0.0952381 ]\n",
      " [0.09035222 1.         0.30477528 0.26229508]\n",
      " [0.15263909 0.30477528 1.         0.09836066]\n",
      " [0.0952381  0.26229508 0.09836066 1.        ]]\n"
     ]
    }
   ],
   "source": [
    "m = pairwise_matrix(cohens_kappa, anno.annotations)\n",
    "print(m)"
   ]
  },
  {
   "cell_type": "code",
   "execution_count": 17,
   "metadata": {},
   "outputs": [
    {
     "data": {
      "image/png": "[encoded data removed]",
      "text/plain": [
       "<matplotlib.figure.Figure at 0x1b91d239d68>"
      ]
     },
     "metadata": {},
     "output_type": "display_data"
    }
   ],
   "source": [
    "ax = seaborn.heatmap(m)\n",
    "plt.show()"
   ]
  },
  {
   "cell_type": "code",
   "execution_count": 18,
   "metadata": {},
   "outputs": [
    {
     "data": {
      "text/plain": [
       "0.16727673689685144"
      ]
     },
     "execution_count": 18,
     "metadata": {},
     "output_type": "execute_result"
    }
   ],
   "source": [
    "def pairwise_metric_average(metric, array):\n",
    "    \"\"\"Calculate the pairwise metric average for the real elements of metric function run on an array of annotations\"\"\"\n",
    "    p = permutations(range(array[0,:].size),2)\n",
    "    m = [metric(array[:,x[0]], array[:,x[1]]) for x in p]\n",
    "    clean_m = [c for c in m if not math.isnan(c)]\n",
    "    return reduce(lambda a, b: a + b, clean_m)/len(clean_m)    \n",
    " \n",
    "pairwise_metric_average(cohens_kappa, anno.annotations)"
   ]
  },
  {
   "cell_type": "code",
   "execution_count": 19,
   "metadata": {},
   "outputs": [
    {
     "data": {
      "text/plain": [
       "0.16000000000000003"
      ]
     },
     "execution_count": 19,
     "metadata": {},
     "output_type": "execute_result"
    }
   ],
   "source": [
    "cohens_weighted_kappa(anno.annotations[:,0], anno.annotations[:,1])"
   ]
  },
  {
   "cell_type": "code",
   "execution_count": 20,
   "metadata": {},
   "outputs": [
    {
     "data": {
      "text/plain": [
       "0.21949366075063334"
      ]
     },
     "execution_count": 20,
     "metadata": {},
     "output_type": "execute_result"
    }
   ],
   "source": [
    "pairwise_metric_average(cohens_weighted_kappa,anno.annotations)"
   ]
  },
  {
   "cell_type": "code",
   "execution_count": 21,
   "metadata": {},
   "outputs": [
    {
     "data": {
      "image/png": "[encoded data removed]",
      "text/plain": [
       "<matplotlib.figure.Figure at 0x1b91d53abe0>"
      ]
     },
     "metadata": {},
     "output_type": "display_data"
    },
    {
     "data": {
      "image/png": "[encoded data removed]",
      "text/plain": [
       "<matplotlib.figure.Figure at 0x1b91d688a20>"
      ]
     },
     "metadata": {},
     "output_type": "display_data"
    }
   ],
   "source": [
    "n = pairwise_matrix(pearsons_rho, anno.annotations)\n",
    "m = pairwise_matrix(spearmans_rho, anno.annotations)\n",
    "an = seaborn.heatmap(n)\n",
    "plt.show()\n",
    "am = seaborn.heatmap(m)\n",
    "plt.show()"
   ]
  },
  {
   "cell_type": "code",
   "execution_count": 22,
   "metadata": {
    "scrolled": true
   },
   "outputs": [
    {
     "name": "stdout",
     "output_type": "stream",
     "text": [
      "0.3071634799014643 0.26269795330154166\n"
     ]
    }
   ],
   "source": [
    "print(pairwise_metric_average(pearsons_rho,anno.annotations), pairwise_metric_average(spearmans_rho,anno.annotations))"
   ]
  },
  {
   "cell_type": "markdown",
   "metadata": {},
   "source": [
    "I select some extracts from philosophers' books and let people identify the attitudes toward gender. Actually, I find the results (almost all scores) are not as well as espected. I this there are two reasons. First, I don't have a large sample size in the survey due to the time limitation. With the increase of the sample size, the results might be better. Second and most importantly, philosophical books are difficult to understand and people may have big divergence on the same or similar contents. In this case, their choice would be diverse. For this reason, even human-coding can be problematic since some texts should be identified by professionals."
   ]
  },
  {
   "cell_type": "markdown",
   "metadata": {},
   "source": [
    "## <span style=\"color:red\">*Exercise 3*</span>\n",
    "\n",
    "<span style=\"color:red\">In the cells immediately following, use the results of your content annotation survey to predict high and low-quality analysts, then predict MLE or MAP estimates for your codes in question. What do these estimates suggest about the distribution of skill among your coders? How different are these estimates from a majority vote?"
   ]
  },
  {
   "cell_type": "code",
   "execution_count": 23,
   "metadata": {
    "scrolled": false
   },
   "outputs": [
    {
     "name": "stdout",
     "output_type": "stream",
     "text": [
      "[[[0.65761723 0.28777799 0.03835717 0.01624761]\n",
      "  [0.27469296 0.44278202 0.17965235 0.10287267]\n",
      "  [0.10232762 0.16853397 0.4903551  0.23878331]\n",
      "  [0.0453635  0.04021375 0.30267696 0.6117458 ]]\n",
      "\n",
      " [[0.73673011 0.20191293 0.04937546 0.01198149]\n",
      "  [0.13389314 0.63401852 0.18472468 0.04736365]\n",
      "  [0.03738604 0.0265228  0.75839275 0.17769841]\n",
      "  [0.01247406 0.03448749 0.14985696 0.80318149]]\n",
      "\n",
      " [[0.57411756 0.3379823  0.0749374  0.01296275]\n",
      "  [0.10866916 0.63005804 0.21462886 0.04664394]\n",
      "  [0.10730581 0.0816728  0.55889772 0.25212367]\n",
      "  [0.03528631 0.08942558 0.17886836 0.69641975]]\n",
      "\n",
      " [[0.72485981 0.15680927 0.04070084 0.07763008]\n",
      "  [0.1294319  0.51206368 0.21676852 0.1417359 ]\n",
      "  [0.0336702  0.11104588 0.6034946  0.25178933]\n",
      "  [0.12088312 0.11934182 0.04047459 0.71930046]]]\n",
      "-183.2634526860381\n"
     ]
    }
   ],
   "source": [
    "# create a new instance of model B, with 4 label classes\n",
    "model = ModelB.create_initial_state(4,4)\n",
    "# other model parameters are initialized from the model prior\n",
    "print(model.theta)\n",
    "print(model.log_likelihood(anno.annotations))"
   ]
  },
  {
   "cell_type": "code",
   "execution_count": 24,
   "metadata": {},
   "outputs": [],
   "source": [
    "samples = model.sample_posterior_over_accuracy(anno.annotations, 31, burn_in_samples=31, thin_samples=3)"
   ]
  },
  {
   "cell_type": "code",
   "execution_count": 25,
   "metadata": {},
   "outputs": [
    {
     "name": "stdout",
     "output_type": "stream",
     "text": [
      "[[[7.56229988e-001 1.91734546e-001 5.20354663e-002 3.34595383e-053]\n",
      "  [2.36326888e-001 6.47457392e-001 8.75760235e-002 2.86396960e-002]\n",
      "  [4.19237852e-002 1.28621166e-001 6.22506271e-001 2.06948778e-001]\n",
      "  [8.07890215e-317 5.26315789e-002 1.57894737e-001 7.89473684e-001]]\n",
      "\n",
      " [[7.44822239e-001 1.76412514e-001 7.87652474e-002 0.00000000e+000]\n",
      "  [1.34941009e-001 7.48176040e-001 8.86025903e-002 2.82803607e-002]\n",
      "  [4.20015396e-002 1.28556513e-001 7.04956333e-001 1.24485614e-001]\n",
      "  [2.55259214e-317 5.26315789e-002 1.57894737e-001 7.89473684e-001]]\n",
      "\n",
      " [[7.72407159e-001 1.65039125e-001 6.25537155e-002 2.74841780e-038]\n",
      "  [1.34894493e-001 5.92764013e-001 2.15841233e-001 5.65002614e-002]\n",
      "  [4.17390926e-002 1.24863239e-001 7.08823343e-001 1.24574326e-001]\n",
      "  [0.00000000e+000 5.26315789e-002 1.57894737e-001 7.89473684e-001]]\n",
      "\n",
      " [[6.52090758e-001 2.61269514e-001 8.66397287e-002 0.00000000e+000]\n",
      "  [1.46237992e-001 6.91050572e-001 1.34431075e-001 2.82803607e-002]\n",
      "  [4.15451022e-002 1.25205514e-001 7.08763769e-001 1.24485614e-001]\n",
      "  [0.00000000e+000 5.26315789e-002 1.57894737e-001 7.89473684e-001]]]\n",
      "-129.81833681670426\n"
     ]
    },
    {
     "name": "stderr",
     "output_type": "stream",
     "text": [
      "F:\\python\\lib\\site-packages\\pyanno\\util.py:80: RuntimeWarning: divide by zero encountered in log\n",
      "  log_theta = ninf_to_num(log(theta))\n"
     ]
    }
   ],
   "source": [
    "model.map(anno.annotations)\n",
    "print(model.theta)\n",
    "print(model.log_likelihood(anno.annotations))"
   ]
  },
  {
   "cell_type": "code",
   "execution_count": 26,
   "metadata": {},
   "outputs": [],
   "source": [
    "#model = ModelB.create_initial_state(4,8)\n",
    "#model.mle(anno.annotations)\n",
    "#print(model.theta)\n",
    "#print(model.log_likelihood(anno.annotations))"
   ]
  },
  {
   "cell_type": "code",
   "execution_count": 27,
   "metadata": {},
   "outputs": [
    {
     "name": "stdout",
     "output_type": "stream",
     "text": [
      "[[9.61951369e-01 3.80326197e-02 1.60116493e-05 0.00000000e+00]\n",
      " [1.54264138e-02 9.00914284e-01 8.36593018e-02 6.46468628e-31]\n",
      " [9.98312601e-01 1.68611266e-03 1.28587095e-06 0.00000000e+00]\n",
      " [7.09316785e-01 2.90587000e-01 9.62154845e-05 0.00000000e+00]\n",
      " [1.61803948e-54 6.35305503e-03 9.93646945e-01 3.91614964e-29]\n",
      " [9.44129949e-02 9.05421509e-01 1.65496430e-04 0.00000000e+00]\n",
      " [6.81927141e-01 3.17987481e-01 8.53775843e-05 0.00000000e+00]\n",
      " [7.26980445e-01 2.72860916e-01 1.58639017e-04 0.00000000e+00]\n",
      " [9.91362311e-03 9.86936947e-01 3.14942999e-03 4.59221248e-32]\n",
      " [9.80459759e-01 1.95307415e-02 9.49912360e-06 0.00000000e+00]\n",
      " [9.76624858e-02 8.99773492e-01 2.56402259e-03 0.00000000e+00]\n",
      " [5.51467176e-01 4.48404309e-01 1.28514932e-04 0.00000000e+00]\n",
      " [9.76624858e-02 8.99773492e-01 2.56402259e-03 0.00000000e+00]\n",
      " [9.80459759e-01 1.95307415e-02 9.49912360e-06 0.00000000e+00]\n",
      " [9.89421922e-01 1.03758103e-02 2.02268084e-04 0.00000000e+00]\n",
      " [2.75871021e-01 7.16399219e-01 7.72975988e-03 0.00000000e+00]\n",
      " [9.01412604e-01 9.67028142e-02 1.88458217e-03 0.00000000e+00]\n",
      " [9.55587540e-03 9.90241434e-01 2.02690230e-04 5.59248710e-33]\n",
      " [1.68239172e-38 9.97862099e-01 2.13790089e-03 8.86864059e-31]\n",
      " [9.98312601e-01 1.68611266e-03 1.28587095e-06 0.00000000e+00]\n",
      " [8.86311240e-01 1.11914998e-01 1.77376143e-03 0.00000000e+00]\n",
      " [8.88714685e-01 1.09918748e-01 1.36656760e-03 0.00000000e+00]\n",
      " [9.76624858e-02 8.99773492e-01 2.56402259e-03 0.00000000e+00]\n",
      " [9.98312601e-01 1.68611266e-03 1.28587095e-06 0.00000000e+00]\n",
      " [1.65555390e-01 8.34193794e-01 2.50815685e-04 0.00000000e+00]\n",
      " [9.67454931e-01 3.22837630e-02 2.61306228e-04 0.00000000e+00]\n",
      " [9.82061706e-01 1.79229872e-02 1.53064716e-05 0.00000000e+00]\n",
      " [8.22797455e-01 1.77106084e-01 9.64610945e-05 0.00000000e+00]\n",
      " [1.02155144e-01 8.97556785e-01 2.88071069e-04 0.00000000e+00]\n",
      " [9.55587540e-03 9.90241434e-01 2.02690230e-04 5.59248710e-33]\n",
      " [9.88287828e-01 1.15487212e-02 1.63450750e-04 0.00000000e+00]\n",
      " [5.51467176e-01 4.48404309e-01 1.28514932e-04 0.00000000e+00]\n",
      " [1.61803948e-54 6.35305503e-03 9.93646945e-01 3.91614964e-29]]\n"
     ]
    }
   ],
   "source": [
    "posterior = model.infer_labels(anno.annotations)\n",
    "print(posterior)"
   ]
  },
  {
   "cell_type": "code",
   "execution_count": 28,
   "metadata": {},
   "outputs": [],
   "source": [
    "def makeQuestionComparison(model, anno_target, num_questions = 10):\n",
    "    votes = []\n",
    "    for r in anno_target.annotations:\n",
    "        v = [0] * len(anno_target.labels)\n",
    "        votes.append(v)\n",
    "        for a in r:\n",
    "            if a > -1:\n",
    "                v[a] += 1\n",
    "    votes_array = np.array(votes)\n",
    "    posterior = model.infer_labels(anno_target.annotations)\n",
    "    fig, (ax1, ax2) = plt.subplots(ncols=2, figsize = (15, 10), sharey=True)\n",
    "\n",
    "    seaborn.heatmap(votes_array[:num_questions], annot = True, ax=ax2)\n",
    "    seaborn.heatmap(np.nan_to_num(posterior,0)[:num_questions], annot=True, ax =ax1)\n",
    "    ax1.set_title(\"Model\")\n",
    "    ax2.set_title(\"Votes\")\n",
    "    return fig, (ax1, ax2)"
   ]
  },
  {
   "cell_type": "code",
   "execution_count": 29,
   "metadata": {},
   "outputs": [
    {
     "data": {
      "text/plain": [
       "(<matplotlib.figure.Figure at 0x1b91da41470>,\n",
       " (<matplotlib.axes._subplots.AxesSubplot at 0x1b91d3b3748>,\n",
       "  <matplotlib.axes._subplots.AxesSubplot at 0x1b91d456470>))"
      ]
     },
     "execution_count": 29,
     "metadata": {},
     "output_type": "execute_result"
    },
    {
     "data": {
      "image/png": "[encoded data removed]",
      "text/plain": [
       "<matplotlib.figure.Figure at 0x1b91da41470>"
      ]
     },
     "metadata": {},
     "output_type": "display_data"
    }
   ],
   "source": [
    "makeQuestionComparison(model, anno)"
   ]
  },
  {
   "cell_type": "code",
   "execution_count": 30,
   "metadata": {},
   "outputs": [
    {
     "name": "stdout",
     "output_type": "stream",
     "text": [
      "[0.64602355 0.79650157 0.73817929 0.60783758]\n",
      "-185.3398820095177\n"
     ]
    }
   ],
   "source": [
    "# create a new instance of model B, with 4 label classes and 8 annotators.\n",
    "model = ModelBt.create_initial_state(4, 4)\n",
    "print(model.theta)\n",
    "print(model.log_likelihood(anno.annotations))"
   ]
  },
  {
   "cell_type": "code",
   "execution_count": 31,
   "metadata": {},
   "outputs": [
    {
     "name": "stdout",
     "output_type": "stream",
     "text": [
      "[0.60462434 0.82136056 0.64709912 0.64376344]\n",
      "-151.08002758033481\n"
     ]
    }
   ],
   "source": [
    "model.map(anno.annotations)\n",
    "print(model.theta)\n",
    "print(model.log_likelihood(anno.annotations))"
   ]
  },
  {
   "cell_type": "code",
   "execution_count": 32,
   "metadata": {
    "scrolled": false
   },
   "outputs": [
    {
     "data": {
      "text/plain": [
       "array([[0.67146771, 0.61574391, 0.51371782, 0.64278098],\n",
       "       [0.79844352, 0.57031116, 0.59440588, 0.66651688],\n",
       "       [0.74938451, 0.66320956, 0.59913602, 0.63592997],\n",
       "       [0.74938451, 0.66320956, 0.59913602, 0.63592997],\n",
       "       [0.61240017, 0.67581616, 0.68918383, 0.58396614],\n",
       "       [0.63527554, 0.65272098, 0.74998733, 0.67304797],\n",
       "       [0.74579711, 0.63239069, 0.75844543, 0.5474079 ],\n",
       "       [0.74579711, 0.63239069, 0.75844543, 0.5474079 ],\n",
       "       [0.74579711, 0.63239069, 0.75844543, 0.5474079 ],\n",
       "       [0.57735602, 0.7417658 , 0.62207334, 0.51386822],\n",
       "       [0.6385339 , 0.82685267, 0.7812889 , 0.6054441 ],\n",
       "       [0.6385339 , 0.82685267, 0.7812889 , 0.6054441 ],\n",
       "       [0.6385339 , 0.82685267, 0.7812889 , 0.6054441 ],\n",
       "       [0.67945226, 0.86582403, 0.6572238 , 0.65400287],\n",
       "       [0.7178699 , 0.87950731, 0.67668709, 0.60410891],\n",
       "       [0.71137895, 0.72951327, 0.61480446, 0.5365819 ],\n",
       "       [0.71137895, 0.72951327, 0.61480446, 0.5365819 ],\n",
       "       [0.69162665, 0.67244379, 0.66829513, 0.42158893],\n",
       "       [0.69881731, 0.69675618, 0.74000452, 0.35411643],\n",
       "       [0.69881731, 0.69675618, 0.74000452, 0.35411643],\n",
       "       [0.66372832, 0.69908226, 0.66749336, 0.46687525],\n",
       "       [0.58710747, 0.70074826, 0.81585967, 0.52500404],\n",
       "       [0.67458503, 0.82852152, 0.51649377, 0.44239392],\n",
       "       [0.77340885, 0.81838489, 0.52570909, 0.57799798],\n",
       "       [0.65908603, 0.77760232, 0.80684739, 0.49197025],\n",
       "       [0.65908603, 0.77760232, 0.80684739, 0.49197025],\n",
       "       [0.68917851, 0.95014894, 0.6709746 , 0.48933443],\n",
       "       [0.59984376, 0.8203529 , 0.78970895, 0.52958724],\n",
       "       [0.59984376, 0.8203529 , 0.78970895, 0.52958724],\n",
       "       [0.70961722, 0.64512762, 0.66862201, 0.59127762],\n",
       "       [0.70961722, 0.64512762, 0.66862201, 0.59127762]])"
      ]
     },
     "execution_count": 32,
     "metadata": {},
     "output_type": "execute_result"
    }
   ],
   "source": [
    "model.sample_posterior_over_accuracy(anno.annotations, 31, burn_in_samples=31, thin_samples=3)"
   ]
  },
  {
   "cell_type": "code",
   "execution_count": 33,
   "metadata": {},
   "outputs": [
    {
     "name": "stdout",
     "output_type": "stream",
     "text": [
      "[[9.46717799e-01 5.22447324e-02 1.03746685e-03 2.24757306e-09]\n",
      " [2.49312172e-02 8.63590322e-01 1.11478452e-01 8.09808103e-09]\n",
      " [9.99630644e-01 2.89938575e-04 7.94173667e-05 1.72050157e-10]\n",
      " [7.93439344e-01 2.04680738e-01 1.87991432e-03 4.07265522e-09]\n",
      " [1.58166128e-02 8.65771021e-03 9.75525653e-01 2.35694298e-08]\n",
      " [1.99543890e-02 9.79393470e-01 6.52139523e-04 1.41279813e-09]\n",
      " [3.80531845e-01 6.17207394e-01 2.26075638e-03 4.89771326e-09]\n",
      " [8.42647633e-01 1.55662864e-01 1.68950006e-03 3.66014089e-09]\n",
      " [5.27383970e-03 9.90376399e-01 4.34976003e-03 1.71303233e-09]\n",
      " [9.91123971e-01 8.44914115e-03 4.26887045e-04 9.24810101e-10]\n",
      " [9.89889866e-02 8.83214765e-01 1.77962417e-02 7.00855613e-09]\n",
      " [3.73696637e-01 6.24050612e-01 2.25274588e-03 4.88035927e-09]\n",
      " [9.89889866e-02 8.83214765e-01 1.77962417e-02 7.00855613e-09]\n",
      " [9.91123971e-01 8.44914115e-03 4.26887045e-04 9.24810101e-10]\n",
      " [9.81242000e-01 3.92572914e-03 1.48322685e-02 2.32953588e-09]\n",
      " [4.85337333e-01 4.86062127e-01 2.86005282e-02 1.14289036e-08]\n",
      " [9.54039463e-01 3.73119444e-02 8.64858881e-03 4.08402020e-09]\n",
      " [9.66950274e-04 9.98888071e-01 1.44978361e-04 3.14081803e-10]\n",
      " [5.29267647e-03 9.93913764e-01 7.93550177e-04 9.45699830e-09]\n",
      " [9.99630644e-01 2.89938575e-04 7.94173667e-05 1.72050157e-10]\n",
      " [9.58030554e-01 3.17065353e-02 1.02629068e-02 4.10110513e-09]\n",
      " [8.33655510e-01 9.80277365e-02 6.83167423e-02 1.07297345e-08]\n",
      " [9.89889866e-02 8.83214765e-01 1.77962417e-02 7.00855613e-09]\n",
      " [9.99630644e-01 2.89938575e-04 7.94173667e-05 1.72050157e-10]\n",
      " [2.84374169e-02 9.70787495e-01 7.75085945e-04 1.67914984e-09]\n",
      " [9.96016288e-01 1.58917677e-03 2.39453406e-03 9.43020818e-10]\n",
      " [9.93572456e-01 6.06540629e-03 3.62136602e-04 7.84534439e-10]\n",
      " [8.46453976e-01 1.51873447e-01 1.67257385e-03 3.62347185e-09]\n",
      " [2.76432747e-02 9.71592220e-01 7.64503471e-04 1.65622392e-09]\n",
      " [9.66950274e-04 9.98888071e-01 1.44978361e-04 3.14081803e-10]\n",
      " [9.96107724e-01 1.56632478e-03 2.32595001e-03 9.29460403e-10]\n",
      " [3.73696637e-01 6.24050612e-01 2.25274588e-03 4.88035927e-09]\n",
      " [1.58166128e-02 8.65771021e-03 9.75525653e-01 2.35694298e-08]]\n"
     ]
    }
   ],
   "source": [
    "posterior = model.infer_labels(anno.annotations)\n",
    "print(posterior)"
   ]
  },
  {
   "cell_type": "code",
   "execution_count": 34,
   "metadata": {},
   "outputs": [
    {
     "data": {
      "text/plain": [
       "(<matplotlib.figure.Figure at 0x1b91d3a6e80>,\n",
       " (<matplotlib.axes._subplots.AxesSubplot at 0x1b91d678898>,\n",
       "  <matplotlib.axes._subplots.AxesSubplot at 0x1b91d4e1320>))"
      ]
     },
     "execution_count": 34,
     "metadata": {},
     "output_type": "execute_result"
    },
    {
     "data": {
      "image/png": "[encoded data removed]",
      "text/plain": [
       "<matplotlib.figure.Figure at 0x1b91d3a6e80>"
      ]
     },
     "metadata": {},
     "output_type": "display_data"
    }
   ],
   "source": [
    "makeQuestionComparison(model, anno)"
   ]
  },
  {
   "cell_type": "code",
   "execution_count": 35,
   "metadata": {},
   "outputs": [],
   "source": [
    "model = ModelBt.create_initial_state(4,4)\n",
    "model.mle(anno.annotations)\n",
    "samples = model.sample_posterior_over_accuracy(anno.annotations, 200, burn_in_samples=100, thin_samples=3)\n",
    "y =  samples.mean(axis=0)\n",
    "y_ci = samples.std(axis=0)"
   ]
  },
  {
   "cell_type": "code",
   "execution_count": 36,
   "metadata": {
    "scrolled": true
   },
   "outputs": [
    {
     "data": {
      "image/png": "[encoded data removed]",
      "text/plain": [
       "<matplotlib.figure.Figure at 0x1b91d998940>"
      ]
     },
     "metadata": {},
     "output_type": "display_data"
    }
   ],
   "source": [
    "plt.figure()\n",
    "plt.errorbar(range(4),y, yerr = y_ci)\n",
    "plt.show()"
   ]
  },
  {
   "cell_type": "markdown",
   "metadata": {},
   "source": [
    "Actually, the general accurary, excluding myself(the second one) is not high (only around 0.6). Therefore, we need more professional people to code it."
   ]
  }
 ],
 "metadata": {
  "anaconda-cloud": {},
  "kernelspec": {
   "display_name": "Python 3",
   "language": "python",
   "name": "python3"
  },
  "language_info": {
   "codemirror_mode": {
    "name": "ipython",
    "version": 3
   },
   "file_extension": ".py",
   "mimetype": "text/x-python",
   "name": "python",
   "nbconvert_exporter": "python",
   "pygments_lexer": "ipython3",
   "version": "3.6.3"
  }
 },
 "nbformat": 4,
 "nbformat_minor": 1
}
