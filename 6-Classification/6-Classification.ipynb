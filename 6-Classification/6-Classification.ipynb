{
 "cells": [
  {
   "cell_type": "markdown",
   "metadata": {},
   "source": [
    "# Week 6 - Classification\n",
    "\n",
    "This week, we shift from gathering human textual classifications through crowdsourcing, to using machine learning models and algorithms that train on those human classifications and extend them to documents far too numerous to read. If you recall, *clustering* allows us to stably partition text data (e.g., documents, turns of conversation) according to all patterns of covariation among available text features. *Classification*, by contrast, partitions text data according to only those features and their variation that enable us to mimic and extrapolate human annotations.\n",
    "\n",
    "In this notebook, we will show how to use a variety of classification methods, including Naïve Bayes, Logistic regression, K-nearest neighbor, decision trees and random forests, support vector machines and even a simple neural network, the perceptron. We will also demonstrate ensemble techniques that can link several such methods into a single, more accurate, classification pipeline. We will finally learn to use conventions and metrics to evaluate classifier performance on out-of-sample data. \n",
    "\n",
    "For this notebook we will be using the following packages."
   ]
  },
  {
   "cell_type": "code",
   "execution_count": 1,
   "metadata": {},
   "outputs": [
    {
     "name": "stderr",
     "output_type": "stream",
     "text": [
      "F:\\python\\lib\\site-packages\\gensim\\utils.py:860: UserWarning: detected Windows; aliasing chunkize to chunkize_serial\n",
      "  warnings.warn(\"detected Windows; aliasing chunkize to chunkize_serial\")\n"
     ]
    }
   ],
   "source": [
    "#Special module written for this class\n",
    "#This provides access to data and to helper functions from previous weeks\n",
    "#Make sure you update it before starting this notebook\n",
    "import lucem_illud #pip install -U git+git://github.com/Computational-Content-Analysis-2018/lucem_illud.git\n",
    "\n",
    "#All these packages need to be installed from pip\n",
    "#For ML\n",
    "import sklearn\n",
    "import sklearn.naive_bayes\n",
    "import sklearn.tree\n",
    "import sklearn.ensemble\n",
    "import sklearn.neural_network\n",
    "import sklearn.decomposition\n",
    "\n",
    "import nltk #For tokenizing and normalizing\n",
    "import numpy as np #arrays\n",
    "import matplotlib.pyplot as plt #Plots\n",
    "import matplotlib.colors # For nice colours\n",
    "import seaborn #Makes plots look nice, also heatmaps\n",
    "import scipy as sp #for interp\n",
    "\n",
    "#These are from the standard library\n",
    "import collections\n",
    "import os\n",
    "import os.path\n",
    "import random\n",
    "import re\n",
    "import glob\n",
    "import pandas\n",
    "import requests\n",
    "import json\n",
    "import math\n",
    "import warnings\n",
    "warnings.filterwarnings(\"ignore\", category=DeprecationWarning) \n",
    "\n",
    "#This 'magic' command makes the plots work better\n",
    "#in the notebook, don't use it outside of a notebook.\n",
    "#Also you can ignore the warning\n",
    "%matplotlib inline"
   ]
  },
  {
   "cell_type": "markdown",
   "metadata": {},
   "source": [
    "## <span style=\"color:red\">*Exercise 1*</span>\n",
    "\n",
    "<span style=\"color:red\">Go back through all of the cells above and generate 10 distinct artificial datasets and classify them with all of the available methods. Add a cell immediately below and describe which classifier(s) worked best with which artificially constructed data source and why. Then go through all of the empirical datasets (i.e., Newsgroups, Senate Small, Senate Large, Email Spam) and classify them with all available methods. Add a second cell immediately below and describe which classifier(s) worked best with which data set and why.\n",
    "\n",
    "<span style=\"color:red\">***Stretch*** (but also required) Wander through the SKLearn documentation available [here](http://scikit-learn.org/stable/), particularly perusing the classifiers. In cells following, identify and implement a new classifier that we have not yet used (e.g., AdaBoost, CART) on one artificial dataset and one real dataset (used above). Then, in the next cell describe the classifier, detail how it compares with the approaches above, and why it performed better or worse than others."
   ]
  },
  {
   "cell_type": "markdown",
   "metadata": {},
   "source": [
    "<span style=\"color:blue\">The output of the first excercise is too loooooooooong! So I only show the code and don't leave the output here. It's kinda meaningless. I know the intention of this exercise is to let us know which kind of distribution of data should use which algorithms. However, I think we should understand it by mathmatical mechanisms. Some of them are not complex at all..."
   ]
  },
  {
   "cell_type": "code",
   "execution_count": null,
   "metadata": {},
   "outputs": [],
   "source": [
    "clf_bayes = sklearn.naive_bayes.GaussianNB()\n",
    "\n",
    "\n",
    "clf_linear = sklearn.svm.SVC(kernel = 'linear', probability = True)\n",
    "clf_poly = sklearn.svm.SVC(kernel = 'poly', degree = 3, probability = True)\n",
    "clf_KN = sklearn.neighbors.KNeighborsClassifier(5, weights='distance')\n",
    "\n",
    "\n",
    "clf_log = sklearn.linear_model.LogisticRegression()\n",
    "\n",
    "\n",
    "clf_decison = sklearn.tree.DecisionTreeClassifier()\n",
    "clf_forest = sklearn.ensemble.RandomForestClassifier()\n",
    "\n",
    "\n",
    "clf_network = sklearn.neural_network.MLPClassifier()\n",
    "\n",
    "\n",
    "clf_ensemble = sklearn.ensemble.GradientBoostingClassifier()"
   ]
  },
  {
   "cell_type": "code",
   "execution_count": null,
   "metadata": {
    "scrolled": false
   },
   "outputs": [],
   "source": [
    "noise = 0.3\n",
    "\n",
    "#dfTrain, dfTest = lucem_illud.trainTestSplit(lucem_illud.random())\n",
    "#dfTrain, dfTest = lucem_illud.trainTestSplit(lucem_illud.andSplit(noise))\n",
    "dfTrain, dfTest = lucem_illud.trainTestSplit(lucem_illud.xorSplit(noise)) #Please try this one\n",
    "#dfTrain, dfTest = lucem_illud.trainTestSplit(lucem_illud.targetSplit(noise))\n",
    "#dfTrain, dfTest = lucem_illud.trainTestSplit(lucem_illud.multiBlobs(noise))\n",
    "\n",
    "lucem_illud.plotter(dfTrain)\n",
    "\n",
    "\n",
    "clf = sklearn.neighbors.KNeighborsClassifier(5, weights='distance')# k, 'distance' or 'uniform'\n",
    "\n",
    "clf.fit(np.stack(dfTrain['vect'], axis=0), dfTrain['category'])\n",
    "\n",
    "\n",
    "clf_linear.fit(np.stack(dfTrain['vect'], axis=0), dfTrain['category'])\n",
    "\n",
    "\n",
    "clf_bayes.fit(np.stack(dfTrain['vect'], axis=0), dfTrain['category'])\n",
    "\n",
    "\n",
    "clf_poly.fit(np.stack(dfTrain['vect'], axis=0), dfTrain['category'])\n",
    "\n",
    "\n",
    "clf_log.fit(np.stack(dfTrain['vect'], axis=0), dfTrain['category'])\n",
    "\n",
    "\n",
    "clf_decison.fit(np.stack(dfTrain['vect'], axis=0), dfTrain['category'])\n",
    "\n",
    "\n",
    "clf_forest.fit(np.stack(dfTrain['vect'], axis=0), dfTrain['category'])\n",
    "\n",
    "\n",
    "clf_network.fit(np.stack(dfTrain['vect'], axis=0), dfTrain['category'])\n",
    "\n",
    "\n",
    "clf_ensemble.fit(np.stack(dfTrain['vect'], axis=0), dfTrain['category'])\n",
    "\n",
    "\n",
    "print(lucem_illud.evaluateClassifier(clf, dfTest))\n",
    "print('')\n",
    "print(lucem_illud.evaluateClassifier(clf_linear, dfTest))\n",
    "print('')\n",
    "print(lucem_illud.evaluateClassifier(clf_bayes, dfTest))\n",
    "print('')\n",
    "print(lucem_illud.evaluateClassifier(clf_poly, dfTest))\n",
    "print('')\n",
    "print(lucem_illud.evaluateClassifier(clf_log, dfTest))\n",
    "print('')\n",
    "print(lucem_illud.evaluateClassifier(clf_decison, dfTest))\n",
    "print('')\n",
    "print(lucem_illud.evaluateClassifier(clf_forest, dfTest))\n",
    "print('')\n",
    "print(lucem_illud.evaluateClassifier(clf_network, dfTest))\n",
    "print('')\n",
    "print(lucem_illud.evaluateClassifier(clf_ensemble, dfTest))\n"
   ]
  },
  {
   "cell_type": "code",
   "execution_count": null,
   "metadata": {},
   "outputs": [],
   "source": [
    "noise = 0.6\n",
    "\n",
    "#dfTrain, dfTest = lucem_illud.trainTestSplit(lucem_illud.random())\n",
    "dfTrain, dfTest = lucem_illud.trainTestSplit(lucem_illud.andSplit(noise))\n",
    "#dfTrain, dfTest = lucem_illud.trainTestSplit(lucem_illud.xorSplit(noise)) #Please try this one\n",
    "#dfTrain, dfTest = lucem_illud.trainTestSplit(lucem_illud.targetSplit(noise))\n",
    "#dfTrain, dfTest = lucem_illud.trainTestSplit(lucem_illud.multiBlobs(noise))\n",
    "\n",
    "lucem_illud.plotter(dfTrain)\n",
    "\n",
    "\n",
    "clf = sklearn.neighbors.KNeighborsClassifier(5, weights='distance')# k, 'distance' or 'uniform'\n",
    "\n",
    "clf.fit(np.stack(dfTrain['vect'], axis=0), dfTrain['category'])\n",
    "\n",
    "\n",
    "clf_linear.fit(np.stack(dfTrain['vect'], axis=0), dfTrain['category'])\n",
    "\n",
    "\n",
    "clf_bayes.fit(np.stack(dfTrain['vect'], axis=0), dfTrain['category'])\n",
    "\n",
    "\n",
    "clf_poly.fit(np.stack(dfTrain['vect'], axis=0), dfTrain['category'])\n",
    "\n",
    "\n",
    "clf_log.fit(np.stack(dfTrain['vect'], axis=0), dfTrain['category'])\n",
    "\n",
    "\n",
    "clf_decison.fit(np.stack(dfTrain['vect'], axis=0), dfTrain['category'])\n",
    "\n",
    "\n",
    "clf_forest.fit(np.stack(dfTrain['vect'], axis=0), dfTrain['category'])\n",
    "\n",
    "\n",
    "clf_network.fit(np.stack(dfTrain['vect'], axis=0), dfTrain['category'])\n",
    "\n",
    "\n",
    "clf_ensemble.fit(np.stack(dfTrain['vect'], axis=0), dfTrain['category'])\n",
    "\n",
    "\n",
    "print(lucem_illud.evaluateClassifier(clf, dfTest))\n",
    "print('')\n",
    "print(lucem_illud.evaluateClassifier(clf_linear, dfTest))\n",
    "print('')\n",
    "print(lucem_illud.evaluateClassifier(clf_bayes, dfTest))\n",
    "print('')\n",
    "print(lucem_illud.evaluateClassifier(clf_poly, dfTest))\n",
    "print('')\n",
    "print(lucem_illud.evaluateClassifier(clf_log, dfTest))\n",
    "print('')\n",
    "print(lucem_illud.evaluateClassifier(clf_decison, dfTest))\n",
    "print('')\n",
    "print(lucem_illud.evaluateClassifier(clf_forest, dfTest))\n",
    "print('')\n",
    "print(lucem_illud.evaluateClassifier(clf_network, dfTest))\n",
    "print('')\n",
    "print(lucem_illud.evaluateClassifier(clf_ensemble, dfTest))"
   ]
  },
  {
   "cell_type": "code",
   "execution_count": null,
   "metadata": {
    "scrolled": false
   },
   "outputs": [],
   "source": [
    "noise = 0.1\n",
    "\n",
    "#dfTrain, dfTest = lucem_illud.trainTestSplit(lucem_illud.random())\n",
    "#dfTrain, dfTest = lucem_illud.trainTestSplit(lucem_illud.andSplit(noise))\n",
    "#dfTrain, dfTest = lucem_illud.trainTestSplit(lucem_illud.xorSplit(noise)) #Please try this one\n",
    "#dfTrain, dfTest = lucem_illud.trainTestSplit(lucem_illud.targetSplit(noise))\n",
    "dfTrain, dfTest = lucem_illud.trainTestSplit(lucem_illud.multiBlobs(noise))\n",
    "\n",
    "lucem_illud.plotter(dfTrain)\n",
    "\n",
    "\n",
    "clf = sklearn.neighbors.KNeighborsClassifier(3, weights='distance')# k, 'distance' or 'uniform'\n",
    "\n",
    "clf.fit(np.stack(dfTrain['vect'], axis=0), dfTrain['category'])\n",
    "\n",
    "\n",
    "clf_linear.fit(np.stack(dfTrain['vect'], axis=0), dfTrain['category'])\n",
    "\n",
    "\n",
    "clf_bayes.fit(np.stack(dfTrain['vect'], axis=0), dfTrain['category'])\n",
    "\n",
    "\n",
    "clf_poly.fit(np.stack(dfTrain['vect'], axis=0), dfTrain['category'])\n",
    "\n",
    "\n",
    "clf_log.fit(np.stack(dfTrain['vect'], axis=0), dfTrain['category'])\n",
    "\n",
    "\n",
    "clf_decison.fit(np.stack(dfTrain['vect'], axis=0), dfTrain['category'])\n",
    "\n",
    "\n",
    "clf_forest.fit(np.stack(dfTrain['vect'], axis=0), dfTrain['category'])\n",
    "\n",
    "\n",
    "clf_network.fit(np.stack(dfTrain['vect'], axis=0), dfTrain['category'])\n",
    "\n",
    "\n",
    "clf_ensemble.fit(np.stack(dfTrain['vect'], axis=0), dfTrain['category'])\n",
    "\n",
    "\n",
    "print(lucem_illud.evaluateClassifier(clf, dfTest))\n",
    "print('')\n",
    "print(lucem_illud.evaluateClassifier(clf_linear, dfTest))\n",
    "print('')\n",
    "print(lucem_illud.evaluateClassifier(clf_bayes, dfTest))\n",
    "print('')\n",
    "print(lucem_illud.evaluateClassifier(clf_poly, dfTest))\n",
    "print('')\n",
    "print(lucem_illud.evaluateClassifier(clf_log, dfTest))\n",
    "print('')\n",
    "print(lucem_illud.evaluateClassifier(clf_decison, dfTest))\n",
    "print('')\n",
    "print(lucem_illud.evaluateClassifier(clf_forest, dfTest))\n",
    "print('')\n",
    "print(lucem_illud.evaluateClassifier(clf_network, dfTest))\n",
    "print('')\n",
    "print(lucem_illud.evaluateClassifier(clf_ensemble, dfTest))"
   ]
  },
  {
   "cell_type": "code",
   "execution_count": null,
   "metadata": {
    "scrolled": false
   },
   "outputs": [],
   "source": [
    "noise = 0.7\n",
    "\n",
    "#dfTrain, dfTest = lucem_illud.trainTestSplit(lucem_illud.random())\n",
    "#dfTrain, dfTest = lucem_illud.trainTestSplit(lucem_illud.andSplit(noise))\n",
    "#dfTrain, dfTest = lucem_illud.trainTestSplit(lucem_illud.xorSplit(noise)) #Please try this one\n",
    "#dfTrain, dfTest = lucem_illud.trainTestSplit(lucem_illud.targetSplit(noise))\n",
    "dfTrain, dfTest = lucem_illud.trainTestSplit(lucem_illud.multiBlobs(noise))\n",
    "\n",
    "lucem_illud.plotter(dfTrain)\n",
    "\n",
    "\n",
    "clf = sklearn.neighbors.KNeighborsClassifier(5, weights='distance')# k, 'distance' or 'uniform'\n",
    "\n",
    "clf.fit(np.stack(dfTrain['vect'], axis=0), dfTrain['category'])\n",
    "\n",
    "\n",
    "clf_linear.fit(np.stack(dfTrain['vect'], axis=0), dfTrain['category'])\n",
    "\n",
    "\n",
    "clf_bayes.fit(np.stack(dfTrain['vect'], axis=0), dfTrain['category'])\n",
    "\n",
    "\n",
    "clf_poly.fit(np.stack(dfTrain['vect'], axis=0), dfTrain['category'])\n",
    "\n",
    "\n",
    "clf_log.fit(np.stack(dfTrain['vect'], axis=0), dfTrain['category'])\n",
    "\n",
    "\n",
    "clf_decison.fit(np.stack(dfTrain['vect'], axis=0), dfTrain['category'])\n",
    "\n",
    "\n",
    "clf_forest.fit(np.stack(dfTrain['vect'], axis=0), dfTrain['category'])\n",
    "\n",
    "\n",
    "clf_network.fit(np.stack(dfTrain['vect'], axis=0), dfTrain['category'])\n",
    "\n",
    "\n",
    "clf_ensemble.fit(np.stack(dfTrain['vect'], axis=0), dfTrain['category'])\n",
    "\n",
    "\n",
    "print(lucem_illud.evaluateClassifier(clf, dfTest))\n",
    "print('')\n",
    "print(lucem_illud.evaluateClassifier(clf_linear, dfTest))\n",
    "print('')\n",
    "print(lucem_illud.evaluateClassifier(clf_bayes, dfTest))\n",
    "print('')\n",
    "print(lucem_illud.evaluateClassifier(clf_poly, dfTest))\n",
    "print('')\n",
    "print(lucem_illud.evaluateClassifier(clf_log, dfTest))\n",
    "print('')\n",
    "print(lucem_illud.evaluateClassifier(clf_decison, dfTest))\n",
    "print('')\n",
    "print(lucem_illud.evaluateClassifier(clf_forest, dfTest))\n",
    "print('')\n",
    "print(lucem_illud.evaluateClassifier(clf_network, dfTest))\n",
    "print('')\n",
    "print(lucem_illud.evaluateClassifier(clf_ensemble, dfTest))"
   ]
  },
  {
   "cell_type": "code",
   "execution_count": null,
   "metadata": {
    "scrolled": false
   },
   "outputs": [],
   "source": [
    "noise = 0.2\n",
    "\n",
    "dfTrain, dfTest = lucem_illud.trainTestSplit(lucem_illud.random())\n",
    "#dfTrain, dfTest = lucem_illud.trainTestSplit(lucem_illud.andSplit(noise))\n",
    "#dfTrain, dfTest = lucem_illud.trainTestSplit(lucem_illud.xorSplit(noise)) #Please try this one\n",
    "#dfTrain, dfTest = lucem_illud.trainTestSplit(lucem_illud.targetSplit(noise))\n",
    "#dfTrain, dfTest = lucem_illud.trainTestSplit(lucem_illud.multiBlobs(noise))\n",
    "\n",
    "lucem_illud.plotter(dfTrain)\n",
    "\n",
    "\n",
    "clf = sklearn.neighbors.KNeighborsClassifier(2, weights='distance')# k, 'distance' or 'uniform'\n",
    "\n",
    "clf.fit(np.stack(dfTrain['vect'], axis=0), dfTrain['category'])\n",
    "\n",
    "\n",
    "clf_linear.fit(np.stack(dfTrain['vect'], axis=0), dfTrain['category'])\n",
    "\n",
    "\n",
    "clf_bayes.fit(np.stack(dfTrain['vect'], axis=0), dfTrain['category'])\n",
    "\n",
    "\n",
    "clf_poly.fit(np.stack(dfTrain['vect'], axis=0), dfTrain['category'])\n",
    "\n",
    "\n",
    "clf_log.fit(np.stack(dfTrain['vect'], axis=0), dfTrain['category'])\n",
    "\n",
    "\n",
    "clf_decison.fit(np.stack(dfTrain['vect'], axis=0), dfTrain['category'])\n",
    "\n",
    "\n",
    "clf_forest.fit(np.stack(dfTrain['vect'], axis=0), dfTrain['category'])\n",
    "\n",
    "\n",
    "clf_network.fit(np.stack(dfTrain['vect'], axis=0), dfTrain['category'])\n",
    "\n",
    "\n",
    "clf_ensemble.fit(np.stack(dfTrain['vect'], axis=0), dfTrain['category'])\n",
    "\n",
    "\n",
    "print(lucem_illud.evaluateClassifier(clf, dfTest))\n",
    "print('')\n",
    "print(lucem_illud.evaluateClassifier(clf_linear, dfTest))\n",
    "print('')\n",
    "print(lucem_illud.evaluateClassifier(clf_bayes, dfTest))\n",
    "print('')\n",
    "print(lucem_illud.evaluateClassifier(clf_poly, dfTest))\n",
    "print('')\n",
    "print(lucem_illud.evaluateClassifier(clf_log, dfTest))\n",
    "print('')\n",
    "print(lucem_illud.evaluateClassifier(clf_decison, dfTest))\n",
    "print('')\n",
    "print(lucem_illud.evaluateClassifier(clf_forest, dfTest))\n",
    "print('')\n",
    "print(lucem_illud.evaluateClassifier(clf_network, dfTest))\n",
    "print('')\n",
    "print(lucem_illud.evaluateClassifier(clf_ensemble, dfTest))"
   ]
  },
  {
   "cell_type": "code",
   "execution_count": null,
   "metadata": {},
   "outputs": [],
   "source": [
    "noise = 0.8\n",
    "\n",
    "#dfTrain, dfTest = lucem_illud.trainTestSplit(lucem_illud.random())\n",
    "#dfTrain, dfTest = lucem_illud.trainTestSplit(lucem_illud.andSplit(noise))\n",
    "#dfTrain, dfTest = lucem_illud.trainTestSplit(lucem_illud.xorSplit(noise)) #Please try this one\n",
    "dfTrain, dfTest = lucem_illud.trainTestSplit(lucem_illud.targetSplit(noise))\n",
    "#dfTrain, dfTest = lucem_illud.trainTestSplit(lucem_illud.multiBlobs(noise))\n",
    "\n",
    "lucem_illud.plotter(dfTrain)\n",
    "\n",
    "\n",
    "clf = sklearn.neighbors.KNeighborsClassifier(5, weights='distance')# k, 'distance' or 'uniform'\n",
    "\n",
    "clf.fit(np.stack(dfTrain['vect'], axis=0), dfTrain['category'])\n",
    "\n",
    "\n",
    "clf_linear.fit(np.stack(dfTrain['vect'], axis=0), dfTrain['category'])\n",
    "\n",
    "\n",
    "clf_bayes.fit(np.stack(dfTrain['vect'], axis=0), dfTrain['category'])\n",
    "\n",
    "\n",
    "clf_poly.fit(np.stack(dfTrain['vect'], axis=0), dfTrain['category'])\n",
    "\n",
    "\n",
    "clf_log.fit(np.stack(dfTrain['vect'], axis=0), dfTrain['category'])\n",
    "\n",
    "\n",
    "clf_decison.fit(np.stack(dfTrain['vect'], axis=0), dfTrain['category'])\n",
    "\n",
    "\n",
    "clf_forest.fit(np.stack(dfTrain['vect'], axis=0), dfTrain['category'])\n",
    "\n",
    "\n",
    "clf_network.fit(np.stack(dfTrain['vect'], axis=0), dfTrain['category'])\n",
    "\n",
    "\n",
    "clf_ensemble.fit(np.stack(dfTrain['vect'], axis=0), dfTrain['category'])\n",
    "\n",
    "\n",
    "print(lucem_illud.evaluateClassifier(clf, dfTest))\n",
    "print('')\n",
    "print(lucem_illud.evaluateClassifier(clf_linear, dfTest))\n",
    "print('')\n",
    "print(lucem_illud.evaluateClassifier(clf_bayes, dfTest))\n",
    "print('')\n",
    "print(lucem_illud.evaluateClassifier(clf_poly, dfTest))\n",
    "print('')\n",
    "print(lucem_illud.evaluateClassifier(clf_log, dfTest))\n",
    "print('')\n",
    "print(lucem_illud.evaluateClassifier(clf_decison, dfTest))\n",
    "print('')\n",
    "print(lucem_illud.evaluateClassifier(clf_forest, dfTest))\n",
    "print('')\n",
    "print(lucem_illud.evaluateClassifier(clf_network, dfTest))\n",
    "print('')\n",
    "print(lucem_illud.evaluateClassifier(clf_ensemble, dfTest))"
   ]
  },
  {
   "cell_type": "code",
   "execution_count": null,
   "metadata": {
    "scrolled": false
   },
   "outputs": [],
   "source": [
    "noise = 0.2\n",
    "\n",
    "#dfTrain, dfTest = lucem_illud.trainTestSplit(lucem_illud.random())\n",
    "#dfTrain, dfTest = lucem_illud.trainTestSplit(lucem_illud.andSplit(noise))\n",
    "#dfTrain, dfTest = lucem_illud.trainTestSplit(lucem_illud.xorSplit(noise)) #Please try this one\n",
    "dfTrain, dfTest = lucem_illud.trainTestSplit(lucem_illud.targetSplit(noise))\n",
    "#dfTrain, dfTest = lucem_illud.trainTestSplit(lucem_illud.multiBlobs(noise))\n",
    "\n",
    "lucem_illud.plotter(dfTrain)\n",
    "\n",
    "\n",
    "clf = sklearn.neighbors.KNeighborsClassifier(5, weights='distance')# k, 'distance' or 'uniform'\n",
    "\n",
    "clf.fit(np.stack(dfTrain['vect'], axis=0), dfTrain['category'])\n",
    "\n",
    "\n",
    "clf_linear.fit(np.stack(dfTrain['vect'], axis=0), dfTrain['category'])\n",
    "\n",
    "\n",
    "clf_bayes.fit(np.stack(dfTrain['vect'], axis=0), dfTrain['category'])\n",
    "\n",
    "\n",
    "clf_poly.fit(np.stack(dfTrain['vect'], axis=0), dfTrain['category'])\n",
    "\n",
    "\n",
    "clf_log.fit(np.stack(dfTrain['vect'], axis=0), dfTrain['category'])\n",
    "\n",
    "\n",
    "clf_decison.fit(np.stack(dfTrain['vect'], axis=0), dfTrain['category'])\n",
    "\n",
    "\n",
    "clf_forest.fit(np.stack(dfTrain['vect'], axis=0), dfTrain['category'])\n",
    "\n",
    "\n",
    "clf_network.fit(np.stack(dfTrain['vect'], axis=0), dfTrain['category'])\n",
    "\n",
    "\n",
    "clf_ensemble.fit(np.stack(dfTrain['vect'], axis=0), dfTrain['category'])\n",
    "\n",
    "\n",
    "print(lucem_illud.evaluateClassifier(clf, dfTest))\n",
    "print('')\n",
    "print(lucem_illud.evaluateClassifier(clf_linear, dfTest))\n",
    "print('')\n",
    "print(lucem_illud.evaluateClassifier(clf_bayes, dfTest))\n",
    "print('')\n",
    "print(lucem_illud.evaluateClassifier(clf_poly, dfTest))\n",
    "print('')\n",
    "print(lucem_illud.evaluateClassifier(clf_log, dfTest))\n",
    "print('')\n",
    "print(lucem_illud.evaluateClassifier(clf_decison, dfTest))\n",
    "print('')\n",
    "print(lucem_illud.evaluateClassifier(clf_forest, dfTest))\n",
    "print('')\n",
    "print(lucem_illud.evaluateClassifier(clf_network, dfTest))\n",
    "print('')\n",
    "print(lucem_illud.evaluateClassifier(clf_ensemble, dfTest))"
   ]
  },
  {
   "cell_type": "code",
   "execution_count": null,
   "metadata": {},
   "outputs": [],
   "source": [
    "noise = 0.1\n",
    "\n",
    "#dfTrain, dfTest = lucem_illud.trainTestSplit(lucem_illud.random())\n",
    "#dfTrain, dfTest = lucem_illud.trainTestSplit(lucem_illud.andSplit(noise))\n",
    "dfTrain, dfTest = lucem_illud.trainTestSplit(lucem_illud.xorSplit(noise)) #Please try this one\n",
    "#dfTrain, dfTest = lucem_illud.trainTestSplit(lucem_illud.targetSplit(noise))\n",
    "#dfTrain, dfTest = lucem_illud.trainTestSplit(lucem_illud.multiBlobs(noise))\n",
    "\n",
    "lucem_illud.plotter(dfTrain)\n",
    "\n",
    "\n",
    "clf = sklearn.neighbors.KNeighborsClassifier(5, weights='distance')# k, 'distance' or 'uniform'\n",
    "\n",
    "clf.fit(np.stack(dfTrain['vect'], axis=0), dfTrain['category'])\n",
    "\n",
    "\n",
    "clf_linear.fit(np.stack(dfTrain['vect'], axis=0), dfTrain['category'])\n",
    "\n",
    "\n",
    "clf_bayes.fit(np.stack(dfTrain['vect'], axis=0), dfTrain['category'])\n",
    "\n",
    "\n",
    "clf_poly.fit(np.stack(dfTrain['vect'], axis=0), dfTrain['category'])\n",
    "\n",
    "\n",
    "clf_log.fit(np.stack(dfTrain['vect'], axis=0), dfTrain['category'])\n",
    "\n",
    "\n",
    "clf_decison.fit(np.stack(dfTrain['vect'], axis=0), dfTrain['category'])\n",
    "\n",
    "\n",
    "clf_forest.fit(np.stack(dfTrain['vect'], axis=0), dfTrain['category'])\n",
    "\n",
    "\n",
    "clf_network.fit(np.stack(dfTrain['vect'], axis=0), dfTrain['category'])\n",
    "\n",
    "\n",
    "clf_ensemble.fit(np.stack(dfTrain['vect'], axis=0), dfTrain['category'])\n",
    "\n",
    "\n",
    "print(lucem_illud.evaluateClassifier(clf, dfTest))\n",
    "print('')\n",
    "print(lucem_illud.evaluateClassifier(clf_linear, dfTest))\n",
    "print('')\n",
    "print(lucem_illud.evaluateClassifier(clf_bayes, dfTest))\n",
    "print('')\n",
    "print(lucem_illud.evaluateClassifier(clf_poly, dfTest))\n",
    "print('')\n",
    "print(lucem_illud.evaluateClassifier(clf_log, dfTest))\n",
    "print('')\n",
    "print(lucem_illud.evaluateClassifier(clf_decison, dfTest))\n",
    "print('')\n",
    "print(lucem_illud.evaluateClassifier(clf_forest, dfTest))\n",
    "print('')\n",
    "print(lucem_illud.evaluateClassifier(clf_network, dfTest))\n",
    "print('')\n",
    "print(lucem_illud.evaluateClassifier(clf_ensemble, dfTest))"
   ]
  },
  {
   "cell_type": "markdown",
   "metadata": {},
   "source": [
    "## Now we do the same for real data"
   ]
  },
  {
   "cell_type": "code",
   "execution_count": null,
   "metadata": {
    "scrolled": true
   },
   "outputs": [],
   "source": [
    "#dfTrain, dfTest = lucem_illud.trainTestSplit(lucem_illud.loadReddit())\n",
    "dfTrain, dfTest = lucem_illud.trainTestSplit(lucem_illud.loadNewsGroups())\n",
    "#dfTrain, dfTest = lucem_illud.trainTestSplit(lucem_illud.loadSenateSmall())\n",
    "#dfTrain, dfTest = lucem_illud.trainTestSplit(lucem_illud.loadSenateLarge())\n",
    "#dfTrain, dfTest = lucem_illud.trainTestSplit(lucem_illud.loadSpam())"
   ]
  },
  {
   "cell_type": "code",
   "execution_count": null,
   "metadata": {},
   "outputs": [],
   "source": [
    "clf.fit(np.stack(dfTrain['vect'], axis=0), dfTrain['category'])"
   ]
  },
  {
   "cell_type": "code",
   "execution_count": null,
   "metadata": {},
   "outputs": [],
   "source": [
    "clf.fit(np.stack(dfTrain['vect'], axis=0), dfTrain['category'])\n",
    "\n",
    "\n",
    "clf_linear.fit(np.stack(dfTrain['vect'], axis=0), dfTrain['category'])\n",
    "\n",
    "\n",
    "clf_bayes.fit(np.stack(dfTrain['vect'], axis=0), dfTrain['category'])\n",
    "\n",
    "\n",
    "clf_poly.fit(np.stack(dfTrain['vect'], axis=0), dfTrain['category'])\n",
    "\n",
    "\n",
    "clf_log.fit(np.stack(dfTrain['vect'], axis=0), dfTrain['category'])\n",
    "\n",
    "\n",
    "clf_decison.fit(np.stack(dfTrain['vect'], axis=0), dfTrain['category'])\n",
    "\n",
    "\n",
    "clf_forest.fit(np.stack(dfTrain['vect'], axis=0), dfTrain['category'])\n",
    "\n",
    "\n",
    "clf_network.fit(np.stack(dfTrain['vect'], axis=0), dfTrain['category'])\n",
    "\n",
    "\n",
    "clf_ensemble.fit(np.stack(dfTrain['vect'], axis=0), dfTrain['category'])\n",
    "\n",
    "\n",
    "print(lucem_illud.evaluateClassifier(clf, dfTest))\n",
    "print('')\n",
    "print(lucem_illud.evaluateClassifier(clf_linear, dfTest))\n",
    "print('')\n",
    "print(lucem_illud.evaluateClassifier(clf_bayes, dfTest))\n",
    "print('')\n",
    "print(lucem_illud.evaluateClassifier(clf_poly, dfTest))\n",
    "print('')\n",
    "print(lucem_illud.evaluateClassifier(clf_log, dfTest))\n",
    "print('')\n",
    "print(lucem_illud.evaluateClassifier(clf_decison, dfTest))\n",
    "print('')\n",
    "print(lucem_illud.evaluateClassifier(clf_forest, dfTest))\n",
    "print('')\n",
    "print(lucem_illud.evaluateClassifier(clf_network, dfTest))\n",
    "print('')\n",
    "print(lucem_illud.evaluateClassifier(clf_ensemble, dfTest))"
   ]
  },
  {
   "cell_type": "code",
   "execution_count": null,
   "metadata": {},
   "outputs": [],
   "source": [
    "#dfTrain, dfTest = lucem_illud.trainTestSplit(lucem_illud.loadReddit())\n",
    "#dfTrain, dfTest = lucem_illud.trainTestSplit(lucem_illud.loadNewsGroups())\n",
    "dfTrain, dfTest = lucem_illud.trainTestSplit(lucem_illud.loadSenateSmall())\n",
    "#dfTrain, dfTest = lucem_illud.trainTestSplit(lucem_illud.loadSenateLarge())\n",
    "#dfTrain, dfTest = lucem_illud.trainTestSplit(lucem_illud.loadSpam())\n",
    "\n",
    "clf.fit(np.stack(dfTrain['vect'], axis=0), dfTrain['category'])\n",
    "\n",
    "clf = sklearn.neighbors.KNeighborsClassifier(5, weights='distance')# k, 'distance' or 'uniform'\n",
    "\n",
    "clf.fit(np.stack(dfTrain['vect'], axis=0), dfTrain['category'])\n",
    "\n",
    "\n",
    "clf_linear.fit(np.stack(dfTrain['vect'], axis=0), dfTrain['category'])\n",
    "\n",
    "\n",
    "clf_bayes.fit(np.stack(dfTrain['vect'], axis=0), dfTrain['category'])\n",
    "\n",
    "\n",
    "clf_poly.fit(np.stack(dfTrain['vect'], axis=0), dfTrain['category'])\n",
    "\n",
    "\n",
    "clf_log.fit(np.stack(dfTrain['vect'], axis=0), dfTrain['category'])\n",
    "\n",
    "\n",
    "clf_decison.fit(np.stack(dfTrain['vect'], axis=0), dfTrain['category'])\n",
    "\n",
    "\n",
    "clf_forest.fit(np.stack(dfTrain['vect'], axis=0), dfTrain['category'])\n",
    "\n",
    "\n",
    "clf_network.fit(np.stack(dfTrain['vect'], axis=0), dfTrain['category'])\n",
    "\n",
    "\n",
    "clf_ensemble.fit(np.stack(dfTrain['vect'], axis=0), dfTrain['category'])\n",
    "\n",
    "\n",
    "print(lucem_illud.evaluateClassifier(clf, dfTest))\n",
    "print('')\n",
    "print(lucem_illud.evaluateClassifier(clf_linear, dfTest))\n",
    "print('')\n",
    "print(lucem_illud.evaluateClassifier(clf_bayes, dfTest))\n",
    "print('')\n",
    "print(lucem_illud.evaluateClassifier(clf_poly, dfTest))\n",
    "print('')\n",
    "print(lucem_illud.evaluateClassifier(clf_log, dfTest))\n",
    "print('')\n",
    "print(lucem_illud.evaluateClassifier(clf_decison, dfTest))\n",
    "print('')\n",
    "print(lucem_illud.evaluateClassifier(clf_forest, dfTest))\n",
    "print('')\n",
    "print(lucem_illud.evaluateClassifier(clf_network, dfTest))\n",
    "print('')\n",
    "print(lucem_illud.evaluateClassifier(clf_ensemble, dfTest))"
   ]
  },
  {
   "cell_type": "code",
   "execution_count": null,
   "metadata": {},
   "outputs": [],
   "source": [
    "#dfTrain, dfTest = lucem_illud.trainTestSplit(lucem_illud.loadReddit())\n",
    "#dfTrain, dfTest = lucem_illud.trainTestSplit(lucem_illud.loadNewsGroups())\n",
    "#dfTrain, dfTest = lucem_illud.trainTestSplit(lucem_illud.loadSenateSmall())\n",
    "dfTrain, dfTest = lucem_illud.trainTestSplit(lucem_illud.loadSenateLarge())\n",
    "#dfTrain, dfTest = lucem_illud.trainTestSplit(lucem_illud.loadSpam())\n",
    "\n",
    "clf.fit(np.stack(dfTrain['vect'], axis=0), dfTrain['category'])\n",
    "\n",
    "clf = sklearn.neighbors.KNeighborsClassifier(5, weights='distance')# k, 'distance' or 'uniform'\n",
    "\n",
    "clf.fit(np.stack(dfTrain['vect'], axis=0), dfTrain['category'])\n",
    "\n",
    "\n",
    "clf_linear.fit(np.stack(dfTrain['vect'], axis=0), dfTrain['category'])\n",
    "\n",
    "\n",
    "clf_bayes.fit(np.stack(dfTrain['vect'], axis=0), dfTrain['category'])\n",
    "\n",
    "\n",
    "clf_poly.fit(np.stack(dfTrain['vect'], axis=0), dfTrain['category'])\n",
    "\n",
    "\n",
    "clf_log.fit(np.stack(dfTrain['vect'], axis=0), dfTrain['category'])\n",
    "\n",
    "\n",
    "clf_decison.fit(np.stack(dfTrain['vect'], axis=0), dfTrain['category'])\n",
    "\n",
    "\n",
    "clf_forest.fit(np.stack(dfTrain['vect'], axis=0), dfTrain['category'])\n",
    "\n",
    "\n",
    "clf_network.fit(np.stack(dfTrain['vect'], axis=0), dfTrain['category'])\n",
    "\n",
    "\n",
    "clf_ensemble.fit(np.stack(dfTrain['vect'], axis=0), dfTrain['category'])\n",
    "\n",
    "\n",
    "print(lucem_illud.evaluateClassifier(clf, dfTest))\n",
    "print('')\n",
    "print(lucem_illud.evaluateClassifier(clf_linear, dfTest))\n",
    "print('')\n",
    "print(lucem_illud.evaluateClassifier(clf_bayes, dfTest))\n",
    "print('')\n",
    "print(lucem_illud.evaluateClassifier(clf_poly, dfTest))\n",
    "print('')\n",
    "print(lucem_illud.evaluateClassifier(clf_log, dfTest))\n",
    "print('')\n",
    "print(lucem_illud.evaluateClassifier(clf_decison, dfTest))\n",
    "print('')\n",
    "print(lucem_illud.evaluateClassifier(clf_forest, dfTest))\n",
    "print('')\n",
    "print(lucem_illud.evaluateClassifier(clf_network, dfTest))\n",
    "print('')\n",
    "print(lucem_illud.evaluateClassifier(clf_ensemble, dfTest))"
   ]
  },
  {
   "cell_type": "code",
   "execution_count": null,
   "metadata": {},
   "outputs": [],
   "source": [
    "#dfTrain, dfTest = lucem_illud.trainTestSplit(lucem_illud.loadReddit())\n",
    "#dfTrain, dfTest = lucem_illud.trainTestSplit(lucem_illud.loadNewsGroups())\n",
    "#dfTrain, dfTest = lucem_illud.trainTestSplit(lucem_illud.loadSenateSmall())\n",
    "#dfTrain, dfTest = lucem_illud.trainTestSplit(lucem_illud.loadSenateLarge())\n",
    "dfTrain, dfTest = lucem_illud.trainTestSplit(lucem_illud.loadSpam())\n",
    "\n",
    "clf.fit(np.stack(dfTrain['vect'], axis=0), dfTrain['category'])\n",
    "\n",
    "clf = sklearn.neighbors.KNeighborsClassifier(5, weights='distance')# k, 'distance' or 'uniform'\n",
    "\n",
    "clf.fit(np.stack(dfTrain['vect'], axis=0), dfTrain['category'])\n",
    "\n",
    "\n",
    "clf_linear.fit(np.stack(dfTrain['vect'], axis=0), dfTrain['category'])\n",
    "\n",
    "\n",
    "clf_bayes.fit(np.stack(dfTrain['vect'], axis=0), dfTrain['category'])\n",
    "\n",
    "\n",
    "clf_poly.fit(np.stack(dfTrain['vect'], axis=0), dfTrain['category'])\n",
    "\n",
    "\n",
    "clf_log.fit(np.stack(dfTrain['vect'], axis=0), dfTrain['category'])\n",
    "\n",
    "\n",
    "clf_decison.fit(np.stack(dfTrain['vect'], axis=0), dfTrain['category'])\n",
    "\n",
    "\n",
    "clf_forest.fit(np.stack(dfTrain['vect'], axis=0), dfTrain['category'])\n",
    "\n",
    "\n",
    "clf_network.fit(np.stack(dfTrain['vect'], axis=0), dfTrain['category'])\n",
    "\n",
    "\n",
    "clf_ensemble.fit(np.stack(dfTrain['vect'], axis=0), dfTrain['category'])\n",
    "\n",
    "\n",
    "print(lucem_illud.evaluateClassifier(clf, dfTest))\n",
    "print('')\n",
    "print(lucem_illud.evaluateClassifier(clf_linear, dfTest))\n",
    "print('')\n",
    "print(lucem_illud.evaluateClassifier(clf_bayes, dfTest))\n",
    "print('')\n",
    "print(lucem_illud.evaluateClassifier(clf_poly, dfTest))\n",
    "print('')\n",
    "print(lucem_illud.evaluateClassifier(clf_log, dfTest))\n",
    "print('')\n",
    "print(lucem_illud.evaluateClassifier(clf_decison, dfTest))\n",
    "print('')\n",
    "print(lucem_illud.evaluateClassifier(clf_forest, dfTest))\n",
    "print('')\n",
    "print(lucem_illud.evaluateClassifier(clf_network, dfTest))\n",
    "print('')\n",
    "print(lucem_illud.evaluateClassifier(clf_ensemble, dfTest))"
   ]
  },
  {
   "cell_type": "markdown",
   "metadata": {},
   "source": [
    "<span style=\"color:blue\">\n",
    "SVC's linear, naive bayses and high KNN and linear regression are all linear or quansi linear model. The are not suitable for models with nonlinear, flexible or high-noise data.\n",
    "<span style=\"color:blue\">\n",
    "low KNN, decision tree, random forest, SVC's \"rbf\", neural network, and ensemble model are suitable for non-linear data and some linear data. However, low KNN is not suitable highly linear model.\n",
    "<span style=\"color:blue\">\n",
    "However, in some real datasets, since we usually don't know much about the data structure, we have to test which algorithm performs the best by corss-validation."
   ]
  },
  {
   "cell_type": "code",
   "execution_count": 2,
   "metadata": {},
   "outputs": [],
   "source": [
    "targetDir = 'plato'\n",
    "platoText = []\n",
    "platoFileName = []\n",
    "\n",
    "for file in (file for file in os.scandir(targetDir) if file.is_file() and not file.name.startswith('.')):\n",
    "    with open(file.path, encoding = 'latin-1') as f:\n",
    "        platoText.append(f.read())\n",
    "    platoFileName.append(file.name)\n",
    "\n",
    "Plato = pandas.DataFrame({'text' : platoText, 'book' : platoFileName, 'author' : 'Plato'})\n",
    "\n",
    "targetDir = 'aristotle'\n",
    "platoText = []\n",
    "platoFileName = []\n",
    "\n",
    "for file in (file for file in os.scandir(targetDir) if file.is_file() and not file.name.startswith('.')):\n",
    "    with open(file.path, encoding = 'latin-1') as f:\n",
    "        platoText.append(f.read())\n",
    "    platoFileName.append(file.name)\n",
    "\n",
    "Aristotle = pandas.DataFrame({'text' : platoText, 'book' : platoFileName, 'author' : 'Aristotle'})\n",
    "\n",
    "\n",
    "\n",
    "targetDir = 'kant'\n",
    "platoText = []\n",
    "platoFileName = []\n",
    "\n",
    "for file in (file for file in os.scandir(targetDir) if file.is_file() and not file.name.startswith('.')):\n",
    "    with open(file.path, encoding = 'latin-1') as f:\n",
    "        platoText.append(f.read())\n",
    "    platoFileName.append(file.name)\n",
    "\n",
    "Kant = pandas.DataFrame({'text' : platoText, 'book' : platoFileName, 'author' : 'Kant'})\n",
    "\n",
    "\n",
    "targetDir = 'Hegel'\n",
    "platoText = []\n",
    "platoFileName = []\n",
    "\n",
    "for file in (file for file in os.scandir(targetDir) if file.is_file() and not file.name.startswith('.')):\n",
    "    with open(file.path, encoding = 'latin-1') as f:\n",
    "        platoText.append(f.read())\n",
    "    platoFileName.append(file.name)\n",
    "\n",
    "Hegel = pandas.DataFrame({'text' : platoText, 'book' : platoFileName, 'author' : 'Hegel'})\n",
    "\n",
    "\n",
    "targetDir = 'nietzsche'\n",
    "platoText = []\n",
    "platoFileName = []\n",
    "\n",
    "for file in (file for file in os.scandir(targetDir) if file.is_file() and not file.name.startswith('.')):\n",
    "    with open(file.path, encoding = 'latin-1') as f:\n",
    "        platoText.append(f.read())\n",
    "    platoFileName.append(file.name)\n",
    "\n",
    "Nietzsche = pandas.DataFrame({'text' : platoText, 'book' : platoFileName, 'author' : 'Nietzsche'})\n",
    "\n",
    "targetDir = 'Schopenhauer'\n",
    "platoText = []\n",
    "platoFileName = []\n",
    "\n",
    "for file in (file for file in os.scandir(targetDir) if file.is_file() and not file.name.startswith('.')):\n",
    "    with open(file.path, encoding = 'latin-1') as f:\n",
    "        platoText.append(f.read())\n",
    "    platoFileName.append(file.name)\n",
    "\n",
    "Schopenhauer = pandas.DataFrame({'text' : platoText, 'book' : platoFileName, 'author' : 'Schopenhauer'})\n",
    "\n",
    "\n",
    "corpora_df = pandas.concat([Aristotle, Plato, Kant, Hegel, Nietzsche, Schopenhauer])\n",
    "\n",
    "# Remove some features vectors \n",
    "remove = np.array([r'\\[\\d+\\]', r'\\(\\d+\\)', '\\n', '\\t', '\\d+'])\n",
    "       \n",
    "for i in range(corpora_df.shape[0]):\n",
    "    for j in range(len(remove)):\n",
    "        corpora_df[\"text\"].iloc[i] = re.sub(remove[j], ' ', corpora_df[\"text\"].iloc[i])\n",
    "        \n",
    "corpora_df.index = range(len(corpora_df))\n",
    "\n",
    "corpora_df['category'] = [s == 'Nietzsche' or s == 'Hegel' or s == 'Kant' or s == 'Schopenhauer' for s in corpora_df['author']]"
   ]
  },
  {
   "cell_type": "markdown",
   "metadata": {},
   "source": [
    "## <span style=\"color:red\">*Exercise 2*</span>\n",
    "\n",
    "<span style=\"color:red\">In the cells immediately following, perform Logistic and Naïve Bayes classification (binary or multinomial) using training, testing and extrapolation (uncoded) data from texts and hand-classifications associated with your final project (e.g., these could be crowd-sourced codes gathered through Amazon Mechanical Turk last week). Visualize the confusion matrix for training and testing sets. Calculate precision, recall, the F-measure, and AUC, then perform an ROC visualization. How do these classifiers perform? Exrapolate codes from these models to all uncoded data."
   ]
  },
  {
   "cell_type": "code",
   "execution_count": 3,
   "metadata": {},
   "outputs": [],
   "source": [
    "corpora_df['tokenized_text'] = corpora_df['text'].apply(lambda x: nltk.word_tokenize(x))\n",
    "corpora_df['normalized_text'] = corpora_df['tokenized_text'].apply(lambda x: lucem_illud.normalizeTokens(x, stopwordLst = lucem_illud.stop_words_basic, stemmer = lucem_illud.stemmer_basic))"
   ]
  },
  {
   "cell_type": "code",
   "execution_count": 4,
   "metadata": {},
   "outputs": [],
   "source": [
    "holdBackFraction = .3\n",
    "train_data_df, test_data_df = lucem_illud.trainTestSplit(corpora_df, holdBackFraction=holdBackFraction)"
   ]
  },
  {
   "cell_type": "code",
   "execution_count": 5,
   "metadata": {},
   "outputs": [
    {
     "name": "stdout",
     "output_type": "stream",
     "text": [
      "103\n",
      "44\n"
     ]
    }
   ],
   "source": [
    "print(len(train_data_df))\n",
    "print(len(test_data_df))"
   ]
  },
  {
   "cell_type": "markdown",
   "metadata": {},
   "source": [
    "## Logistic Regression"
   ]
  },
  {
   "cell_type": "code",
   "execution_count": 6,
   "metadata": {},
   "outputs": [],
   "source": [
    "TFVectorizer = sklearn.feature_extraction.text.TfidfVectorizer(max_df=100, min_df=2, stop_words='english', norm='l2')\n",
    "TFVects = TFVectorizer.fit_transform(train_data_df['text'])"
   ]
  },
  {
   "cell_type": "code",
   "execution_count": 7,
   "metadata": {
    "scrolled": true
   },
   "outputs": [
    {
     "data": {
      "text/plain": [
       "(103, 34356)"
      ]
     },
     "execution_count": 7,
     "metadata": {},
     "output_type": "execute_result"
    }
   ],
   "source": [
    "TFVects.shape"
   ]
  },
  {
   "cell_type": "code",
   "execution_count": 8,
   "metadata": {},
   "outputs": [],
   "source": [
    "train_data_df['vect'] = [np.array(v).flatten() for v in TFVects.todense()]"
   ]
  },
  {
   "cell_type": "code",
   "execution_count": 9,
   "metadata": {},
   "outputs": [],
   "source": [
    "pca = sklearn.decomposition.PCA()\n",
    "reduced_data = pca.fit_transform(np.stack(train_data_df['vect'], axis=0))"
   ]
  },
  {
   "cell_type": "code",
   "execution_count": 10,
   "metadata": {},
   "outputs": [],
   "source": [
    "train_data_df['pca'] = [r for r in reduced_data]"
   ]
  },
  {
   "cell_type": "code",
   "execution_count": 11,
   "metadata": {},
   "outputs": [
    {
     "data": {
      "image/png": "[encoded data removed]",
      "text/plain": [
       "<matplotlib.figure.Figure at 0x1d2d0e1eb70>"
      ]
     },
     "metadata": {},
     "output_type": "display_data"
    }
   ],
   "source": [
    "fig, ax = plt.subplots(figsize = (10,10))\n",
    "ax.axis('off')\n",
    "pallet = seaborn.color_palette(palette='coolwarm', n_colors = 2)\n",
    "\n",
    "#Plot Obama\n",
    "a = np.stack(train_data_df[train_data_df['category']]['pca'])\n",
    "ax.scatter(a[:,0], a[:, 1], c = pallet[0], label = \"German\")\n",
    "\n",
    "#Plot not Obama\n",
    "a = np.stack(train_data_df[train_data_df['category'].eq(False)]['pca'])\n",
    "ax.scatter(a[:,0], a[:, 1], c = pallet[1], label = \"Ancient Greek\")\n",
    "    \n",
    "ax.legend(loc = 'upper right', title = 'Philosophy Category')\n",
    "plt.title('True Classes, Training Set')\n",
    "plt.show()"
   ]
  },
  {
   "cell_type": "code",
   "execution_count": 12,
   "metadata": {},
   "outputs": [
    {
     "data": {
      "image/png": "[encoded data removed]",
      "text/plain": [
       "<matplotlib.figure.Figure at 0x1d2d131db70>"
      ]
     },
     "metadata": {},
     "output_type": "display_data"
    }
   ],
   "source": [
    "n = len(train_data_df)\n",
    "\n",
    "fig, (ax1, ax2, ax3) = plt.subplots(ncols=3, figsize = (16, 5), sharey=True)\n",
    "\n",
    "eigen_vals = np.arange(n) + 1\n",
    "ax1.plot(eigen_vals, pca.explained_variance_ratio_, 'ro-', linewidth=1)\n",
    "ax1.set_title('Scree Plot (Full)')\n",
    "ax1.set_xlabel('Principal Component')\n",
    "ax1.set_ylabel('Proportion of Explained Variance')\n",
    "\n",
    "eigen_vals = np.arange(50) + 1\n",
    "ax2.plot(eigen_vals, pca.explained_variance_ratio_[:50], 'ro-', linewidth=1)\n",
    "ax2.set_title('Scree Plot (First 50 Principal Components)')\n",
    "ax2.set_xlabel('Principal Component')\n",
    "ax2.set_ylabel('Proportion of Explained Variance')\n",
    "\n",
    "\n",
    "eigen_vals = np.arange(20) + 1\n",
    "ax3.plot(eigen_vals, pca.explained_variance_ratio_[:20], 'ro-', linewidth=2)\n",
    "ax3.set_title('Scree Plot (First  Principal Components)')\n",
    "ax3.set_xlabel('Principal Component')\n",
    "ax3.set_ylabel('Proportion of Explained Variance')\n",
    "\n",
    "plt.show()"
   ]
  },
  {
   "cell_type": "code",
   "execution_count": 13,
   "metadata": {},
   "outputs": [],
   "source": [
    "train_data_df['pca_reduced_10'] = train_data_df['pca'].apply(lambda x: x[:10])"
   ]
  },
  {
   "cell_type": "code",
   "execution_count": 14,
   "metadata": {},
   "outputs": [
    {
     "data": {
      "text/plain": [
       "LogisticRegression(C=1.0, class_weight=None, dual=False, fit_intercept=True,\n",
       "          intercept_scaling=1, max_iter=100, multi_class='ovr', n_jobs=1,\n",
       "          penalty='l2', random_state=None, solver='liblinear', tol=0.0001,\n",
       "          verbose=0, warm_start=False)"
      ]
     },
     "execution_count": 14,
     "metadata": {},
     "output_type": "execute_result"
    }
   ],
   "source": [
    "logistic = sklearn.linear_model.LogisticRegression()\n",
    "logistic.fit(np.stack(train_data_df['pca_reduced_10'], axis=0), train_data_df['category'])"
   ]
  },
  {
   "cell_type": "code",
   "execution_count": 15,
   "metadata": {},
   "outputs": [
    {
     "data": {
      "text/plain": [
       "0.9514563106796117"
      ]
     },
     "execution_count": 15,
     "metadata": {},
     "output_type": "execute_result"
    }
   ],
   "source": [
    "logistic.score(np.stack(train_data_df['pca_reduced_10'], axis=0), train_data_df['category'])"
   ]
  },
  {
   "cell_type": "code",
   "execution_count": 16,
   "metadata": {},
   "outputs": [
    {
     "data": {
      "text/plain": [
       "0.8409090909090909"
      ]
     },
     "execution_count": 16,
     "metadata": {},
     "output_type": "execute_result"
    }
   ],
   "source": [
    "#Create vectors\n",
    "TFVects_test = TFVectorizer.transform(test_data_df['text'])\n",
    "test_data_df['vect'] = [np.array(v).flatten() for v in TFVects_test.todense()]\n",
    "\n",
    "#PCA\n",
    "reduced_data_test = pca.transform(np.stack(test_data_df['vect'], axis=0))\n",
    "test_data_df['pca'] = [r for r in reduced_data_test]\n",
    "test_data_df['pca_reduced_10'] = test_data_df['pca'].apply(lambda x: x[:10])\n",
    "\n",
    "#Test\n",
    "logistic.score(np.stack(test_data_df['pca_reduced_10'], axis=0), test_data_df['category'])"
   ]
  },
  {
   "cell_type": "code",
   "execution_count": 17,
   "metadata": {},
   "outputs": [
    {
     "name": "stdout",
     "output_type": "stream",
     "text": [
      "Training:\n",
      "0.9902912621359223\n",
      "Testing:\n",
      "0.9090909090909091\n"
     ]
    }
   ],
   "source": [
    "train_data_df['pca_reduced_40'] = train_data_df['pca'].apply(lambda x: x[:40])\n",
    "test_data_df['pca_reduced_40'] = test_data_df['pca'].apply(lambda x: x[:40])\n",
    "\n",
    "logistic.fit(np.stack(train_data_df['pca_reduced_40'], axis=0), train_data_df['category'])\n",
    "\n",
    "print(\"Training:\")\n",
    "print(logistic.score(np.stack(train_data_df['pca_reduced_40'], axis=0), train_data_df['category']))\n",
    "print(\"Testing:\")\n",
    "print(logistic.score(np.stack(test_data_df['pca_reduced_40'], axis=0), test_data_df['category']))"
   ]
  },
  {
   "cell_type": "code",
   "execution_count": 18,
   "metadata": {},
   "outputs": [
    {
     "name": "stdout",
     "output_type": "stream",
     "text": [
      "Training:\n",
      "0.9902912621359223\n",
      "Testing:\n",
      "0.8863636363636364\n"
     ]
    }
   ],
   "source": [
    "train_data_df['pca_reduced_100'] = train_data_df['pca'].apply(lambda x: x[:100])\n",
    "test_data_df['pca_reduced_100'] = test_data_df['pca'].apply(lambda x: x[:100])\n",
    "\n",
    "logistic.fit(np.stack(train_data_df['pca_reduced_100'], axis=0), train_data_df['category'])\n",
    "\n",
    "print(\"Training:\")\n",
    "print(logistic.score(np.stack(train_data_df['pca_reduced_100'], axis=0), train_data_df['category']))\n",
    "print(\"Testing:\")\n",
    "print(logistic.score(np.stack(test_data_df['pca_reduced_100'], axis=0), test_data_df['category']))"
   ]
  },
  {
   "cell_type": "code",
   "execution_count": 19,
   "metadata": {},
   "outputs": [
    {
     "name": "stdout",
     "output_type": "stream",
     "text": [
      "Training:\n",
      "0.9902912621359223\n",
      "Testing:\n",
      "0.8863636363636364\n"
     ]
    }
   ],
   "source": [
    "train_data_df['pca_reduced_200'] = train_data_df['pca'].apply(lambda x: x[:200])\n",
    "test_data_df['pca_reduced_200'] = test_data_df['pca'].apply(lambda x: x[:200])\n",
    "\n",
    "logistic.fit(np.stack(train_data_df['pca_reduced_200'], axis=0), train_data_df['category'])\n",
    "\n",
    "print(\"Training:\")\n",
    "print(logistic.score(np.stack(train_data_df['pca_reduced_200'], axis=0), train_data_df['category']))\n",
    "print(\"Testing:\")\n",
    "print(logistic.score(np.stack(test_data_df['pca_reduced_200'], axis=0), test_data_df['category']))"
   ]
  },
  {
   "cell_type": "code",
   "execution_count": 20,
   "metadata": {},
   "outputs": [
    {
     "name": "stdout",
     "output_type": "stream",
     "text": [
      "Training:\n",
      "0.9902912621359223\n",
      "Testing:\n",
      "0.8863636363636364\n"
     ]
    }
   ],
   "source": [
    "train_data_df['pca_reduced_400'] = train_data_df['pca'].apply(lambda x: x[:400])\n",
    "test_data_df['pca_reduced_400'] = test_data_df['pca'].apply(lambda x: x[:400])\n",
    "\n",
    "logistic.fit(np.stack(train_data_df['pca_reduced_400'], axis=0), train_data_df['category'])\n",
    "\n",
    "print(\"Training:\")\n",
    "print(logistic.score(np.stack(train_data_df['pca_reduced_400'], axis=0), train_data_df['category']))\n",
    "print(\"Testing:\")\n",
    "print(logistic.score(np.stack(test_data_df['pca_reduced_400'], axis=0), test_data_df['category']))"
   ]
  },
  {
   "cell_type": "code",
   "execution_count": 21,
   "metadata": {},
   "outputs": [
    {
     "name": "stdout",
     "output_type": "stream",
     "text": [
      "0.7961165048543689\n"
     ]
    }
   ],
   "source": [
    "logistic_l1= sklearn.linear_model.LogisticRegression(penalty='l1')\n",
    "logistic_l1.fit(np.stack(train_data_df['vect'], axis=0), train_data_df['category'])\n",
    "print(logistic_l1.score(np.stack(train_data_df['vect'], axis=0), train_data_df['category']))"
   ]
  },
  {
   "cell_type": "code",
   "execution_count": 22,
   "metadata": {},
   "outputs": [
    {
     "name": "stdout",
     "output_type": "stream",
     "text": [
      "0.6363636363636364\n"
     ]
    }
   ],
   "source": [
    "print(logistic_l1.score(np.stack(test_data_df['vect'], axis=0), test_data_df['category']))"
   ]
  },
  {
   "cell_type": "markdown",
   "metadata": {},
   "source": [
    "<span style=\"color:blue\"> Although the original testing accuracy is relatively high, it becomes slightly poor when we add different penalties!  "
   ]
  },
  {
   "cell_type": "markdown",
   "metadata": {},
   "source": [
    "## Naive Bayes"
   ]
  },
  {
   "cell_type": "code",
   "execution_count": 23,
   "metadata": {},
   "outputs": [
    {
     "data": {
      "text/plain": [
       "BernoulliNB(alpha=1.0, binarize=0.0, class_prior=None, fit_prior=True)"
      ]
     },
     "execution_count": 23,
     "metadata": {},
     "output_type": "execute_result"
    }
   ],
   "source": [
    "naiveBayes = sklearn.naive_bayes.BernoulliNB()\n",
    "naiveBayes.fit(np.stack(train_data_df['vect'], axis=0), train_data_df['category'])"
   ]
  },
  {
   "cell_type": "code",
   "execution_count": 24,
   "metadata": {},
   "outputs": [
    {
     "name": "stdout",
     "output_type": "stream",
     "text": [
      "Training:\n",
      "0.7864077669902912\n",
      "Testing:\n",
      "0.6363636363636364\n"
     ]
    }
   ],
   "source": [
    "print(\"Training:\")\n",
    "print(naiveBayes.score(np.stack(train_data_df['vect'], axis=0), train_data_df['category']))\n",
    "print(\"Testing:\")\n",
    "print(naiveBayes.score(np.stack(test_data_df['vect'], axis=0), test_data_df['category']))"
   ]
  },
  {
   "cell_type": "code",
   "execution_count": 25,
   "metadata": {},
   "outputs": [],
   "source": [
    "test_data_df['nb_predict'] = naiveBayes.predict(np.stack(test_data_df['vect'], axis=0))\n",
    "test_data_df['nb_predict_prob_true'] = naiveBayes.predict_proba(np.stack(test_data_df['vect'], axis=0))[:,0] #other is prop false"
   ]
  },
  {
   "cell_type": "markdown",
   "metadata": {},
   "source": [
    "Precision"
   ]
  },
  {
   "cell_type": "code",
   "execution_count": 26,
   "metadata": {},
   "outputs": [
    {
     "data": {
      "text/plain": [
       "0.43478260869565216"
      ]
     },
     "execution_count": 26,
     "metadata": {},
     "output_type": "execute_result"
    }
   ],
   "source": [
    "sklearn.metrics.precision_score(test_data_df['nb_predict'], test_data_df['category'])"
   ]
  },
  {
   "cell_type": "markdown",
   "metadata": {},
   "source": [
    "Recall:"
   ]
  },
  {
   "cell_type": "code",
   "execution_count": 27,
   "metadata": {},
   "outputs": [
    {
     "data": {
      "text/plain": [
       "0.7692307692307693"
      ]
     },
     "execution_count": 27,
     "metadata": {},
     "output_type": "execute_result"
    }
   ],
   "source": [
    "sklearn.metrics.recall_score(test_data_df['nb_predict'], test_data_df['category'])"
   ]
  },
  {
   "cell_type": "markdown",
   "metadata": {},
   "source": [
    "F1-measure:"
   ]
  },
  {
   "cell_type": "code",
   "execution_count": 28,
   "metadata": {},
   "outputs": [
    {
     "data": {
      "text/plain": [
       "0.5555555555555555"
      ]
     },
     "execution_count": 28,
     "metadata": {},
     "output_type": "execute_result"
    }
   ],
   "source": [
    "sklearn.metrics.f1_score(test_data_df['nb_predict'], test_data_df['category'])"
   ]
  },
  {
   "cell_type": "code",
   "execution_count": 29,
   "metadata": {},
   "outputs": [
    {
     "data": {
      "image/png": "[encoded data removed]",
      "text/plain": [
       "<matplotlib.figure.Figure at 0x1d2d0ecf9e8>"
      ]
     },
     "metadata": {},
     "output_type": "display_data"
    }
   ],
   "source": [
    "fig, ax = plt.subplots()\n",
    "ax.grid(False)\n",
    "ax.set_frame_on(False)\n",
    "test_data_df[test_data_df['category'].eq(True)]['nb_predict_prob_true'].hist(alpha = 0.5, ax = ax, bins = 10, label = 'German', color = 'red')\n",
    "test_data_df[test_data_df['category'].eq(False)]['nb_predict_prob_true'].hist(alpha = 0.5, ax = ax, bins = 10, label = 'Ancient Greek', color = 'blue')\n",
    "ax.set_xlim((0,1.1))\n",
    "ax.legend(title = \"Philosopy Category\")\n",
    "ax.set_xlabel('posterior')\n",
    "ax.set_ylabel('counts')\n",
    "plt.show()"
   ]
  },
  {
   "cell_type": "markdown",
   "metadata": {},
   "source": [
    "<span style=\"color:blue\"> The prediction of Ancient Greek seems not accurate. Besides, naive bayes performs much worse than binary logistic regression."
   ]
  },
  {
   "cell_type": "code",
   "execution_count": 30,
   "metadata": {},
   "outputs": [
    {
     "data": {
      "text/html": [
       "<div>\n",
       "<style scoped>\n",
       "    .dataframe tbody tr th:only-of-type {\n",
       "        vertical-align: middle;\n",
       "    }\n",
       "\n",
       "    .dataframe tbody tr th {\n",
       "        vertical-align: top;\n",
       "    }\n",
       "\n",
       "    .dataframe thead th {\n",
       "        text-align: right;\n",
       "    }\n",
       "</style>\n",
       "<table border=\"1\" class=\"dataframe\">\n",
       "  <thead>\n",
       "    <tr style=\"text-align: right;\">\n",
       "      <th></th>\n",
       "      <th>Ancient Greek</th>\n",
       "      <th>Ancient_Greek_log_prob</th>\n",
       "      <th>German</th>\n",
       "      <th>German_log_prob</th>\n",
       "    </tr>\n",
       "  </thead>\n",
       "  <tbody>\n",
       "    <tr>\n",
       "      <th>0</th>\n",
       "      <td>merely</td>\n",
       "      <td>-0.029853</td>\n",
       "      <td>does</td>\n",
       "      <td>-0.052644</td>\n",
       "    </tr>\n",
       "    <tr>\n",
       "      <th>1</th>\n",
       "      <td>possible</td>\n",
       "      <td>-0.029853</td>\n",
       "      <td>given</td>\n",
       "      <td>-0.052644</td>\n",
       "    </tr>\n",
       "    <tr>\n",
       "      <th>2</th>\n",
       "      <td>thing</td>\n",
       "      <td>-0.029853</td>\n",
       "      <td>like</td>\n",
       "      <td>-0.052644</td>\n",
       "    </tr>\n",
       "    <tr>\n",
       "      <th>3</th>\n",
       "      <td>time</td>\n",
       "      <td>-0.029853</td>\n",
       "      <td>long</td>\n",
       "      <td>-0.052644</td>\n",
       "    </tr>\n",
       "    <tr>\n",
       "      <th>4</th>\n",
       "      <td>true</td>\n",
       "      <td>-0.029853</td>\n",
       "      <td>man</td>\n",
       "      <td>-0.052644</td>\n",
       "    </tr>\n",
       "    <tr>\n",
       "      <th>5</th>\n",
       "      <td>work</td>\n",
       "      <td>-0.029853</td>\n",
       "      <td>nature</td>\n",
       "      <td>-0.052644</td>\n",
       "    </tr>\n",
       "    <tr>\n",
       "      <th>6</th>\n",
       "      <td>does</td>\n",
       "      <td>-0.045120</td>\n",
       "      <td>reason</td>\n",
       "      <td>-0.052644</td>\n",
       "    </tr>\n",
       "    <tr>\n",
       "      <th>7</th>\n",
       "      <td>end</td>\n",
       "      <td>-0.045120</td>\n",
       "      <td>said</td>\n",
       "      <td>-0.052644</td>\n",
       "    </tr>\n",
       "    <tr>\n",
       "      <th>8</th>\n",
       "      <td>existence</td>\n",
       "      <td>-0.045120</td>\n",
       "      <td>things</td>\n",
       "      <td>-0.052644</td>\n",
       "    </tr>\n",
       "    <tr>\n",
       "      <th>9</th>\n",
       "      <td>far</td>\n",
       "      <td>-0.045120</td>\n",
       "      <td>able</td>\n",
       "      <td>-0.080043</td>\n",
       "    </tr>\n",
       "    <tr>\n",
       "      <th>10</th>\n",
       "      <td>free</td>\n",
       "      <td>-0.045120</td>\n",
       "      <td>appear</td>\n",
       "      <td>-0.080043</td>\n",
       "    </tr>\n",
       "    <tr>\n",
       "      <th>11</th>\n",
       "      <td>general</td>\n",
       "      <td>-0.045120</td>\n",
       "      <td>called</td>\n",
       "      <td>-0.080043</td>\n",
       "    </tr>\n",
       "    <tr>\n",
       "      <th>12</th>\n",
       "      <td>great</td>\n",
       "      <td>-0.045120</td>\n",
       "      <td>case</td>\n",
       "      <td>-0.080043</td>\n",
       "    </tr>\n",
       "    <tr>\n",
       "      <th>13</th>\n",
       "      <td>just</td>\n",
       "      <td>-0.045120</td>\n",
       "      <td>come</td>\n",
       "      <td>-0.080043</td>\n",
       "    </tr>\n",
       "    <tr>\n",
       "      <th>14</th>\n",
       "      <td>like</td>\n",
       "      <td>-0.045120</td>\n",
       "      <td>far</td>\n",
       "      <td>-0.080043</td>\n",
       "    </tr>\n",
       "  </tbody>\n",
       "</table>\n",
       "</div>"
      ],
      "text/plain": [
       "   Ancient Greek  Ancient_Greek_log_prob  German  German_log_prob\n",
       "0         merely               -0.029853    does        -0.052644\n",
       "1       possible               -0.029853   given        -0.052644\n",
       "2          thing               -0.029853    like        -0.052644\n",
       "3           time               -0.029853    long        -0.052644\n",
       "4           true               -0.029853     man        -0.052644\n",
       "5           work               -0.029853  nature        -0.052644\n",
       "6           does               -0.045120  reason        -0.052644\n",
       "7            end               -0.045120    said        -0.052644\n",
       "8      existence               -0.045120  things        -0.052644\n",
       "9            far               -0.045120    able        -0.080043\n",
       "10          free               -0.045120  appear        -0.080043\n",
       "11       general               -0.045120  called        -0.080043\n",
       "12         great               -0.045120    case        -0.080043\n",
       "13          just               -0.045120    come        -0.080043\n",
       "14          like               -0.045120     far        -0.080043"
      ]
     },
     "execution_count": 30,
     "metadata": {},
     "output_type": "execute_result"
    }
   ],
   "source": [
    "#Top indices\n",
    "trueVals, falseVals = naiveBayes.feature_log_prob_\n",
    "\n",
    "words_dict = {\n",
    "    'German' : [],\n",
    "    'German_log_prob' : [],\n",
    "    'Ancient Greek' : [],\n",
    "    'Ancient_Greek_log_prob' : [],\n",
    "}\n",
    "\n",
    "for i, prob in sorted(enumerate(trueVals), key = lambda x:x[1], reverse=True)[:15]:\n",
    "    words_dict['German'].append(TFVectorizer.get_feature_names()[i])\n",
    "    words_dict['German_log_prob'].append(prob)\n",
    "\n",
    "for i, prob in sorted(enumerate(falseVals), key = lambda x:x[1], reverse=True)[:15]:\n",
    "    words_dict['Ancient Greek'].append(TFVectorizer.get_feature_names()[i])\n",
    "    words_dict['Ancient_Greek_log_prob'].append(prob)\n",
    "    \n",
    "pandas.DataFrame(words_dict)"
   ]
  },
  {
   "cell_type": "markdown",
   "metadata": {},
   "source": [
    "## Multinomial Naive Bayes"
   ]
  },
  {
   "cell_type": "code",
   "execution_count": 92,
   "metadata": {},
   "outputs": [],
   "source": [
    "corpora_df['category'][0:58] = 'Ancient Greek'\n",
    "corpora_df['category'][58:104] = 'German Classics'\n",
    "corpora_df['category'][104:147] = 'Contemporary'"
   ]
  },
  {
   "cell_type": "code",
   "execution_count": 93,
   "metadata": {},
   "outputs": [],
   "source": [
    "holdBackFraction = .3\n",
    "train_ng_df, test_ng_df = lucem_illud.trainTestSplit(corpora_df, holdBackFraction=holdBackFraction)"
   ]
  },
  {
   "cell_type": "code",
   "execution_count": 94,
   "metadata": {},
   "outputs": [
    {
     "name": "stdout",
     "output_type": "stream",
     "text": [
      "103\n",
      "44\n"
     ]
    }
   ],
   "source": [
    "print(len(train_ng_df))\n",
    "print(len(test_ng_df))"
   ]
  },
  {
   "cell_type": "code",
   "execution_count": 95,
   "metadata": {},
   "outputs": [],
   "source": [
    "TFVectorizer_ng = sklearn.feature_extraction.text.TfidfVectorizer(max_df=100, min_df=2, stop_words='english', norm='l2')\n",
    "TFVects_ng = TFVectorizer_ng.fit_transform(train_ng_df['text'])\n",
    "train_ng_df['vect'] = [np.array(v).flatten() for v in TFVects_ng.todense()]"
   ]
  },
  {
   "cell_type": "code",
   "execution_count": 96,
   "metadata": {},
   "outputs": [
    {
     "data": {
      "text/plain": [
       "MultinomialNB(alpha=1.0, class_prior=None, fit_prior=True)"
      ]
     },
     "execution_count": 96,
     "metadata": {},
     "output_type": "execute_result"
    }
   ],
   "source": [
    "MultinomialNB_ng = sklearn.naive_bayes.MultinomialNB()\n",
    "MultinomialNB_ng.fit(np.stack(train_ng_df['vect'], axis = 0), train_ng_df['category'])"
   ]
  },
  {
   "cell_type": "code",
   "execution_count": 97,
   "metadata": {},
   "outputs": [
    {
     "name": "stdout",
     "output_type": "stream",
     "text": [
      "Training score:\n",
      "0.9902912621359223\n"
     ]
    }
   ],
   "source": [
    "train_ng_df['nb_predict'] = MultinomialNB_ng.predict(np.stack(train_ng_df['vect'], axis=0))\n",
    "print(\"Training score:\")\n",
    "print(MultinomialNB_ng.score(np.stack(train_ng_df['vect'], axis=0), train_ng_df['category']))"
   ]
  },
  {
   "cell_type": "code",
   "execution_count": 98,
   "metadata": {},
   "outputs": [
    {
     "data": {
      "text/html": [
       "<div>\n",
       "<style scoped>\n",
       "    .dataframe tbody tr th:only-of-type {\n",
       "        vertical-align: middle;\n",
       "    }\n",
       "\n",
       "    .dataframe tbody tr th {\n",
       "        vertical-align: top;\n",
       "    }\n",
       "\n",
       "    .dataframe thead th {\n",
       "        text-align: right;\n",
       "    }\n",
       "</style>\n",
       "<table border=\"1\" class=\"dataframe\">\n",
       "  <thead>\n",
       "    <tr style=\"text-align: right;\">\n",
       "      <th></th>\n",
       "      <th>category</th>\n",
       "      <th>nb_predict</th>\n",
       "    </tr>\n",
       "  </thead>\n",
       "  <tbody>\n",
       "    <tr>\n",
       "      <th>139</th>\n",
       "      <td>Contemporary</td>\n",
       "      <td>Contemporary</td>\n",
       "    </tr>\n",
       "    <tr>\n",
       "      <th>6</th>\n",
       "      <td>Ancient Greek</td>\n",
       "      <td>Ancient Greek</td>\n",
       "    </tr>\n",
       "    <tr>\n",
       "      <th>143</th>\n",
       "      <td>Contemporary</td>\n",
       "      <td>Contemporary</td>\n",
       "    </tr>\n",
       "    <tr>\n",
       "      <th>15</th>\n",
       "      <td>Ancient Greek</td>\n",
       "      <td>Ancient Greek</td>\n",
       "    </tr>\n",
       "    <tr>\n",
       "      <th>47</th>\n",
       "      <td>Ancient Greek</td>\n",
       "      <td>Ancient Greek</td>\n",
       "    </tr>\n",
       "    <tr>\n",
       "      <th>23</th>\n",
       "      <td>Ancient Greek</td>\n",
       "      <td>Ancient Greek</td>\n",
       "    </tr>\n",
       "    <tr>\n",
       "      <th>74</th>\n",
       "      <td>German Classics</td>\n",
       "      <td>German Classics</td>\n",
       "    </tr>\n",
       "    <tr>\n",
       "      <th>115</th>\n",
       "      <td>Contemporary</td>\n",
       "      <td>Contemporary</td>\n",
       "    </tr>\n",
       "    <tr>\n",
       "      <th>122</th>\n",
       "      <td>Contemporary</td>\n",
       "      <td>Contemporary</td>\n",
       "    </tr>\n",
       "    <tr>\n",
       "      <th>83</th>\n",
       "      <td>German Classics</td>\n",
       "      <td>German Classics</td>\n",
       "    </tr>\n",
       "  </tbody>\n",
       "</table>\n",
       "</div>"
      ],
      "text/plain": [
       "            category       nb_predict\n",
       "139     Contemporary     Contemporary\n",
       "6      Ancient Greek    Ancient Greek\n",
       "143     Contemporary     Contemporary\n",
       "15     Ancient Greek    Ancient Greek\n",
       "47     Ancient Greek    Ancient Greek\n",
       "23     Ancient Greek    Ancient Greek\n",
       "74   German Classics  German Classics\n",
       "115     Contemporary     Contemporary\n",
       "122     Contemporary     Contemporary\n",
       "83   German Classics  German Classics"
      ]
     },
     "execution_count": 98,
     "metadata": {},
     "output_type": "execute_result"
    }
   ],
   "source": [
    "train_ng_df[['category', 'nb_predict']][:10]"
   ]
  },
  {
   "cell_type": "code",
   "execution_count": 99,
   "metadata": {},
   "outputs": [
    {
     "name": "stdout",
     "output_type": "stream",
     "text": [
      "Testing score:\n",
      "0.9318181818181818\n"
     ]
    }
   ],
   "source": [
    "#Create vectors\n",
    "TFVects_test = TFVectorizer_ng.transform(test_ng_df['text'])\n",
    "test_ng_df['vect'] = [np.array(v).flatten() for v in TFVects_test.todense()]\n",
    "\n",
    "#Add to df\n",
    "test_ng_df['nb_predict'] = MultinomialNB_ng.predict(np.stack(test_ng_df['vect'], axis=0))\n",
    "\n",
    "#Test\n",
    "print(\"Testing score:\")\n",
    "print(MultinomialNB_ng.score(np.stack(test_ng_df['vect'], axis=0), test_ng_df['category']))"
   ]
  },
  {
   "cell_type": "code",
   "execution_count": 100,
   "metadata": {},
   "outputs": [
    {
     "data": {
      "image/png": "[encoded data removed]",
      "text/plain": [
       "<matplotlib.figure.Figure at 0x1d2d14e00f0>"
      ]
     },
     "metadata": {},
     "output_type": "display_data"
    }
   ],
   "source": [
    "fig, ax = plt.subplots(figsize = (7,7))\n",
    "lucem_illud.plotConfusionMatrix(MultinomialNB_ng, test_ng_df)"
   ]
  },
  {
   "cell_type": "code",
   "execution_count": 101,
   "metadata": {},
   "outputs": [
    {
     "name": "stdout",
     "output_type": "stream",
     "text": [
      "0.9348484848484848\n",
      "0.9318181818181818\n",
      "0.9326493777904435\n"
     ]
    }
   ],
   "source": [
    "print(sklearn.metrics.precision_score(test_ng_df['nb_predict'], test_ng_df['category'], average = 'weighted')) #precision\n",
    "print(sklearn.metrics.recall_score(test_ng_df['nb_predict'], test_ng_df['category'], average = 'weighted')) #recall\n",
    "print(sklearn.metrics.f1_score(test_ng_df['nb_predict'], test_ng_df['category'], average = 'weighted')) #F-1 measure"
   ]
  },
  {
   "cell_type": "code",
   "execution_count": 102,
   "metadata": {},
   "outputs": [
    {
     "data": {
      "text/html": [
       "<div>\n",
       "<style scoped>\n",
       "    .dataframe tbody tr th:only-of-type {\n",
       "        vertical-align: middle;\n",
       "    }\n",
       "\n",
       "    .dataframe tbody tr th {\n",
       "        vertical-align: top;\n",
       "    }\n",
       "\n",
       "    .dataframe thead th {\n",
       "        text-align: right;\n",
       "    }\n",
       "</style>\n",
       "<table border=\"1\" class=\"dataframe\">\n",
       "  <thead>\n",
       "    <tr style=\"text-align: right;\">\n",
       "      <th></th>\n",
       "      <th>AUC</th>\n",
       "      <th>Average_Precision</th>\n",
       "      <th>Error_Rate</th>\n",
       "      <th>Precision</th>\n",
       "      <th>Recall</th>\n",
       "    </tr>\n",
       "    <tr>\n",
       "      <th>Category</th>\n",
       "      <th></th>\n",
       "      <th></th>\n",
       "      <th></th>\n",
       "      <th></th>\n",
       "      <th></th>\n",
       "    </tr>\n",
       "  </thead>\n",
       "  <tbody>\n",
       "    <tr>\n",
       "      <th>German Classics</th>\n",
       "      <td>0.916092</td>\n",
       "      <td>0.850216</td>\n",
       "      <td>0.068182</td>\n",
       "      <td>0.928571</td>\n",
       "      <td>0.866667</td>\n",
       "    </tr>\n",
       "    <tr>\n",
       "      <th>Contemporary</th>\n",
       "      <td>0.945409</td>\n",
       "      <td>0.874798</td>\n",
       "      <td>0.045455</td>\n",
       "      <td>0.923077</td>\n",
       "      <td>0.923077</td>\n",
       "    </tr>\n",
       "    <tr>\n",
       "      <th>Ancient Greek</th>\n",
       "      <td>0.982143</td>\n",
       "      <td>0.941176</td>\n",
       "      <td>0.022727</td>\n",
       "      <td>0.941176</td>\n",
       "      <td>1.000000</td>\n",
       "    </tr>\n",
       "  </tbody>\n",
       "</table>\n",
       "</div>"
      ],
      "text/plain": [
       "                      AUC  Average_Precision  Error_Rate  Precision    Recall\n",
       "Category                                                                     \n",
       "German Classics  0.916092           0.850216    0.068182   0.928571  0.866667\n",
       "Contemporary     0.945409           0.874798    0.045455   0.923077  0.923077\n",
       "Ancient Greek    0.982143           0.941176    0.022727   0.941176  1.000000"
      ]
     },
     "execution_count": 102,
     "metadata": {},
     "output_type": "execute_result"
    }
   ],
   "source": [
    "lucem_illud.metrics.evaluateClassifier(MultinomialNB_ng, test_ng_df)"
   ]
  },
  {
   "cell_type": "code",
   "execution_count": 103,
   "metadata": {},
   "outputs": [
    {
     "data": {
      "image/png": "[encoded data removed]",
      "text/plain": [
       "<matplotlib.figure.Figure at 0x1d2d0fe3be0>"
      ]
     },
     "metadata": {},
     "output_type": "display_data"
    }
   ],
   "source": [
    "lucem_illud.plotMultiROC(MultinomialNB_ng, test_ng_df)"
   ]
  },
  {
   "cell_type": "code",
   "execution_count": 104,
   "metadata": {},
   "outputs": [],
   "source": [
    "def predict_category(s, model, tfidf): #We just define a simple function here\n",
    "    a = np.zeros((1, len(tfidf.vocabulary_)))\n",
    "    for w in nltk.word_tokenize(s):\n",
    "        try:\n",
    "            a[:,tfidf.vocabulary_[lucem_illud.stemmer_basic.stem(w.lower())]] = 1\n",
    "        except KeyError:\n",
    "            print(\"Warning: '{}' not in vocabulary\".format(w))\n",
    "    return model.predict(a)[0]"
   ]
  },
  {
   "cell_type": "markdown",
   "metadata": {},
   "source": [
    "<span style=\"color:blue\"> The predictive accuracy of Ancient Greek is the highest and that of German Classics is the lowest."
   ]
  },
  {
   "cell_type": "code",
   "execution_count": 105,
   "metadata": {},
   "outputs": [
    {
     "data": {
      "text/plain": [
       "'German Classics'"
      ]
     },
     "execution_count": 105,
     "metadata": {},
     "output_type": "execute_result"
    }
   ],
   "source": [
    "predict_category('moral philosophy', MultinomialNB_ng, TFVectorizer_ng)"
   ]
  },
  {
   "cell_type": "markdown",
   "metadata": {
    "collapsed": true
   },
   "source": [
    "# Decision Trees"
   ]
  },
  {
   "cell_type": "markdown",
   "metadata": {},
   "source": [
    "## <span style=\"color:red\">*Exercise 3*</span>\n",
    "\n",
    "<span style=\"color:red\">In the cells immediately following, perform decision tree and random forest classification (binary, multinomial or continuous) using training, testing and extrapolation (uncoded) data from texts and hand-classifications associated with your final project. As with ***Exercise 2***, these could be crowd-sourced codes gathered through Amazon Mechanical Turk last week. Visualize the classification of data points. Calculate relevant metrics (e.g., precision, recall, the F-measure, and AUC). Now build an ensemble classifier by bagging trees into a random forest. Visualize the result. How do these classifiers perform? What does ensemble learning do?"
   ]
  },
  {
   "cell_type": "code",
   "execution_count": 156,
   "metadata": {},
   "outputs": [],
   "source": [
    "holdBackFraction = .3\n",
    "train_ng_df, test_ng_df = lucem_illud.trainTestSplit(corpora_df, holdBackFraction=holdBackFraction)"
   ]
  },
  {
   "cell_type": "code",
   "execution_count": 157,
   "metadata": {},
   "outputs": [],
   "source": [
    "TFVectorizer_ng = sklearn.feature_extraction.text.TfidfVectorizer(max_df=100, min_df=2, stop_words='english', norm='l2')\n",
    "TFVects_ng = TFVectorizer_ng.fit_transform(train_ng_df['text'])\n",
    "train_ng_df['vect'] = [np.array(v).flatten() for v in TFVects_ng.todense()]\n",
    "TFVects_test = TFVectorizer_ng.transform(test_ng_df['text'])\n",
    "test_ng_df['vect'] = [np.array(v).flatten() for v in TFVects_test.todense()]"
   ]
  },
  {
   "cell_type": "code",
   "execution_count": 158,
   "metadata": {},
   "outputs": [
    {
     "data": {
      "text/plain": [
       "DecisionTreeClassifier(class_weight=None, criterion='gini', max_depth=4,\n",
       "            max_features=None, max_leaf_nodes=None,\n",
       "            min_impurity_decrease=0.0, min_impurity_split=None,\n",
       "            min_samples_leaf=1, min_samples_split=2,\n",
       "            min_weight_fraction_leaf=0.0, presort=False, random_state=0,\n",
       "            splitter='best')"
      ]
     },
     "execution_count": 158,
     "metadata": {},
     "output_type": "execute_result"
    }
   ],
   "source": [
    "clf_tree = sklearn.tree.DecisionTreeClassifier(max_depth=4,random_state=0)\n",
    "clf_tree.fit(np.stack(train_ng_df['vect'], axis =0), train_ng_df['category'])"
   ]
  },
  {
   "cell_type": "code",
   "execution_count": 159,
   "metadata": {},
   "outputs": [
    {
     "data": {
      "text/html": [
       "<div>\n",
       "<style scoped>\n",
       "    .dataframe tbody tr th:only-of-type {\n",
       "        vertical-align: middle;\n",
       "    }\n",
       "\n",
       "    .dataframe tbody tr th {\n",
       "        vertical-align: top;\n",
       "    }\n",
       "\n",
       "    .dataframe thead th {\n",
       "        text-align: right;\n",
       "    }\n",
       "</style>\n",
       "<table border=\"1\" class=\"dataframe\">\n",
       "  <thead>\n",
       "    <tr style=\"text-align: right;\">\n",
       "      <th></th>\n",
       "      <th>AUC</th>\n",
       "      <th>Average_Precision</th>\n",
       "      <th>Error_Rate</th>\n",
       "      <th>Precision</th>\n",
       "      <th>Recall</th>\n",
       "    </tr>\n",
       "    <tr>\n",
       "      <th>Category</th>\n",
       "      <th></th>\n",
       "      <th></th>\n",
       "      <th></th>\n",
       "      <th></th>\n",
       "      <th></th>\n",
       "    </tr>\n",
       "  </thead>\n",
       "  <tbody>\n",
       "    <tr>\n",
       "      <th>German Classics</th>\n",
       "      <td>0.802083</td>\n",
       "      <td>0.624242</td>\n",
       "      <td>0.136364</td>\n",
       "      <td>0.800000</td>\n",
       "      <td>0.666667</td>\n",
       "    </tr>\n",
       "    <tr>\n",
       "      <th>Contemporary</th>\n",
       "      <td>0.816092</td>\n",
       "      <td>0.719697</td>\n",
       "      <td>0.136364</td>\n",
       "      <td>0.909091</td>\n",
       "      <td>0.666667</td>\n",
       "    </tr>\n",
       "    <tr>\n",
       "      <th>Ancient Greek</th>\n",
       "      <td>0.793028</td>\n",
       "      <td>0.620902</td>\n",
       "      <td>0.227273</td>\n",
       "      <td>0.652174</td>\n",
       "      <td>0.882353</td>\n",
       "    </tr>\n",
       "  </tbody>\n",
       "</table>\n",
       "</div>"
      ],
      "text/plain": [
       "                      AUC  Average_Precision  Error_Rate  Precision    Recall\n",
       "Category                                                                     \n",
       "German Classics  0.802083           0.624242    0.136364   0.800000  0.666667\n",
       "Contemporary     0.816092           0.719697    0.136364   0.909091  0.666667\n",
       "Ancient Greek    0.793028           0.620902    0.227273   0.652174  0.882353"
      ]
     },
     "execution_count": 159,
     "metadata": {},
     "output_type": "execute_result"
    }
   ],
   "source": [
    "lucem_illud.evaluateClassifier(clf_tree, test_ng_df)"
   ]
  },
  {
   "cell_type": "markdown",
   "metadata": {},
   "source": [
    "Lets look at accuracy:"
   ]
  },
  {
   "cell_type": "code",
   "execution_count": 160,
   "metadata": {},
   "outputs": [
    {
     "data": {
      "text/plain": [
       "0.75"
      ]
     },
     "execution_count": 160,
     "metadata": {},
     "output_type": "execute_result"
    }
   ],
   "source": [
    "sklearn.metrics.accuracy_score(test_ng_df['category'],clf_tree.predict(np.stack(test_ng_df['vect'], axis = 0)))"
   ]
  },
  {
   "cell_type": "code",
   "execution_count": 161,
   "metadata": {},
   "outputs": [
    {
     "data": {
      "image/png": "[encoded data removed]",
      "text/plain": [
       "<matplotlib.figure.Figure at 0x1d2d1e4d5c0>"
      ]
     },
     "metadata": {},
     "output_type": "display_data"
    }
   ],
   "source": [
    "depthvec = []\n",
    "scorevec = []\n",
    "for i in range(1,20):\n",
    "    tree2 = sklearn.tree.DecisionTreeClassifier(max_depth=i,random_state=0)\n",
    "    tree2.fit(np.stack(train_ng_df['vect'], axis =0), train_ng_df['category'])\n",
    "    score = sklearn.metrics.accuracy_score(test_ng_df['category'], tree2.predict(np.stack(test_ng_df['vect'], axis = 0)))\n",
    "    depthvec.append(i)\n",
    "    scorevec.append(score)\n",
    "plt.scatter(depthvec,scorevec)\n",
    "plt.show()"
   ]
  },
  {
   "cell_type": "code",
   "execution_count": 162,
   "metadata": {},
   "outputs": [],
   "source": [
    "tree = sklearn.tree.DecisionTreeClassifier(max_depth=10) #Create an instance of our decision tree classifier.\n",
    "\n",
    "bag = sklearn.ensemble.BaggingClassifier(tree, n_estimators=100, max_samples=0.8, random_state=1) #Each tree uses up to 80% of the data"
   ]
  },
  {
   "cell_type": "code",
   "execution_count": 163,
   "metadata": {},
   "outputs": [
    {
     "data": {
      "text/plain": [
       "BaggingClassifier(base_estimator=DecisionTreeClassifier(class_weight=None, criterion='gini', max_depth=10,\n",
       "            max_features=None, max_leaf_nodes=None,\n",
       "            min_impurity_decrease=0.0, min_impurity_split=None,\n",
       "            min_samples_leaf=1, min_samples_split=2,\n",
       "            min_weight_fraction_leaf=0.0, presort=False, random_state=None,\n",
       "            splitter='best'),\n",
       "         bootstrap=True, bootstrap_features=False, max_features=1.0,\n",
       "         max_samples=0.8, n_estimators=100, n_jobs=1, oob_score=False,\n",
       "         random_state=1, verbose=0, warm_start=False)"
      ]
     },
     "execution_count": 163,
     "metadata": {},
     "output_type": "execute_result"
    }
   ],
   "source": [
    "bag.fit(np.stack(train_ng_df['vect'], axis =0), train_ng_df['category']) #Fit the bagged classifier"
   ]
  },
  {
   "cell_type": "code",
   "execution_count": 164,
   "metadata": {},
   "outputs": [
    {
     "data": {
      "text/html": [
       "<div>\n",
       "<style scoped>\n",
       "    .dataframe tbody tr th:only-of-type {\n",
       "        vertical-align: middle;\n",
       "    }\n",
       "\n",
       "    .dataframe tbody tr th {\n",
       "        vertical-align: top;\n",
       "    }\n",
       "\n",
       "    .dataframe thead th {\n",
       "        text-align: right;\n",
       "    }\n",
       "</style>\n",
       "<table border=\"1\" class=\"dataframe\">\n",
       "  <thead>\n",
       "    <tr style=\"text-align: right;\">\n",
       "      <th></th>\n",
       "      <th>AUC</th>\n",
       "      <th>Average_Precision</th>\n",
       "      <th>Error_Rate</th>\n",
       "      <th>Precision</th>\n",
       "      <th>Recall</th>\n",
       "    </tr>\n",
       "    <tr>\n",
       "      <th>Category</th>\n",
       "      <th></th>\n",
       "      <th></th>\n",
       "      <th></th>\n",
       "      <th></th>\n",
       "      <th></th>\n",
       "    </tr>\n",
       "  </thead>\n",
       "  <tbody>\n",
       "    <tr>\n",
       "      <th>German Classics</th>\n",
       "      <td>0.817708</td>\n",
       "      <td>0.683502</td>\n",
       "      <td>0.113636</td>\n",
       "      <td>0.888889</td>\n",
       "      <td>0.666667</td>\n",
       "    </tr>\n",
       "    <tr>\n",
       "      <th>Contemporary</th>\n",
       "      <td>0.916092</td>\n",
       "      <td>0.850216</td>\n",
       "      <td>0.068182</td>\n",
       "      <td>0.928571</td>\n",
       "      <td>0.866667</td>\n",
       "    </tr>\n",
       "    <tr>\n",
       "      <th>Ancient Greek</th>\n",
       "      <td>0.830065</td>\n",
       "      <td>0.675707</td>\n",
       "      <td>0.181818</td>\n",
       "      <td>0.714286</td>\n",
       "      <td>0.882353</td>\n",
       "    </tr>\n",
       "  </tbody>\n",
       "</table>\n",
       "</div>"
      ],
      "text/plain": [
       "                      AUC  Average_Precision  Error_Rate  Precision    Recall\n",
       "Category                                                                     \n",
       "German Classics  0.817708           0.683502    0.113636   0.888889  0.666667\n",
       "Contemporary     0.916092           0.850216    0.068182   0.928571  0.866667\n",
       "Ancient Greek    0.830065           0.675707    0.181818   0.714286  0.882353"
      ]
     },
     "execution_count": 164,
     "metadata": {},
     "output_type": "execute_result"
    }
   ],
   "source": [
    "lucem_illud.evaluateClassifier(bag, test_ng_df)"
   ]
  },
  {
   "cell_type": "code",
   "execution_count": 165,
   "metadata": {},
   "outputs": [
    {
     "data": {
      "image/png": "[encoded data removed]",
      "text/plain": [
       "<matplotlib.figure.Figure at 0x1d2d1e4d470>"
      ]
     },
     "metadata": {},
     "output_type": "display_data"
    }
   ],
   "source": [
    "lucem_illud.plotConfusionMatrix(bag, test_ng_df)"
   ]
  },
  {
   "cell_type": "markdown",
   "metadata": {},
   "source": [
    "<span style=\"color:blue\"> Decision Tree performs not well. But when we build an ensemble classifier by bagging trees into a random forest, the accuracy is improved a lot."
   ]
  },
  {
   "cell_type": "markdown",
   "metadata": {
    "collapsed": true
   },
   "source": [
    "# K-Nearest Neighbors"
   ]
  },
  {
   "cell_type": "markdown",
   "metadata": {},
   "source": [
    "## <span style=\"color:red\">*Exercise 4*</span>\n",
    "\n",
    "<span style=\"color:red\">In the cells immediately following, perform and visualize k-nearest neighbor classification using training, testing and extrapolation (uncoded) data from texts and hand-classifications associated with your final project. Visualize the classification of data points and calculate relevant metrics (e.g., precision, recall, the F-measure, and AUC). Articulate how the *k*-nearest neighbor approach relates to *k*-means clustering explored in ***week 3***?"
   ]
  },
  {
   "cell_type": "code",
   "execution_count": 166,
   "metadata": {},
   "outputs": [],
   "source": [
    "holdBackFraction = .3\n",
    "train_ng_df, test_ng_df = lucem_illud.trainTestSplit(corpora_df, holdBackFraction=holdBackFraction)"
   ]
  },
  {
   "cell_type": "markdown",
   "metadata": {},
   "source": [
    "Let's initialize our k-nearest neighbors classifier:"
   ]
  },
  {
   "cell_type": "code",
   "execution_count": 167,
   "metadata": {},
   "outputs": [],
   "source": [
    "n_neighbors = 15\n",
    "weights=\"uniform\"\n",
    "clf_knearest = sklearn.neighbors.KNeighborsClassifier(n_neighbors, weights=weights)"
   ]
  },
  {
   "cell_type": "markdown",
   "metadata": {},
   "source": [
    "Let's try to classify using the TF-IDF vectors:"
   ]
  },
  {
   "cell_type": "code",
   "execution_count": 168,
   "metadata": {},
   "outputs": [],
   "source": [
    "TFVectorizer_ng = sklearn.feature_extraction.text.TfidfVectorizer(max_df=100, min_df=2, stop_words='english', norm='l2')\n",
    "TFVects_ng = TFVectorizer_ng.fit_transform(train_ng_df['text'])\n",
    "train_ng_df['vect'] = [np.array(v).flatten() for v in TFVects_ng.todense()]"
   ]
  },
  {
   "cell_type": "code",
   "execution_count": 169,
   "metadata": {},
   "outputs": [
    {
     "data": {
      "text/plain": [
       "KNeighborsClassifier(algorithm='auto', leaf_size=30, metric='minkowski',\n",
       "           metric_params=None, n_jobs=1, n_neighbors=15, p=2,\n",
       "           weights='uniform')"
      ]
     },
     "execution_count": 169,
     "metadata": {},
     "output_type": "execute_result"
    }
   ],
   "source": [
    "clf_knearest.fit(np.stack(train_ng_df['vect'], axis = 0), train_ng_df['category'])"
   ]
  },
  {
   "cell_type": "code",
   "execution_count": 170,
   "metadata": {},
   "outputs": [
    {
     "data": {
      "text/html": [
       "<div>\n",
       "<style scoped>\n",
       "    .dataframe tbody tr th:only-of-type {\n",
       "        vertical-align: middle;\n",
       "    }\n",
       "\n",
       "    .dataframe tbody tr th {\n",
       "        vertical-align: top;\n",
       "    }\n",
       "\n",
       "    .dataframe thead th {\n",
       "        text-align: right;\n",
       "    }\n",
       "</style>\n",
       "<table border=\"1\" class=\"dataframe\">\n",
       "  <thead>\n",
       "    <tr style=\"text-align: right;\">\n",
       "      <th></th>\n",
       "      <th>AUC</th>\n",
       "      <th>Average_Precision</th>\n",
       "      <th>Error_Rate</th>\n",
       "      <th>Precision</th>\n",
       "      <th>Recall</th>\n",
       "    </tr>\n",
       "    <tr>\n",
       "      <th>Category</th>\n",
       "      <th></th>\n",
       "      <th></th>\n",
       "      <th></th>\n",
       "      <th></th>\n",
       "      <th></th>\n",
       "    </tr>\n",
       "  </thead>\n",
       "  <tbody>\n",
       "    <tr>\n",
       "      <th>German Classics</th>\n",
       "      <td>0.963420</td>\n",
       "      <td>0.896289</td>\n",
       "      <td>0.038835</td>\n",
       "      <td>0.914286</td>\n",
       "      <td>0.969697</td>\n",
       "    </tr>\n",
       "    <tr>\n",
       "      <th>Contemporary</th>\n",
       "      <td>0.948810</td>\n",
       "      <td>0.823325</td>\n",
       "      <td>0.058252</td>\n",
       "      <td>0.843750</td>\n",
       "      <td>0.964286</td>\n",
       "    </tr>\n",
       "    <tr>\n",
       "      <th>Ancient Greek</th>\n",
       "      <td>0.928571</td>\n",
       "      <td>0.915395</td>\n",
       "      <td>0.058252</td>\n",
       "      <td>1.000000</td>\n",
       "      <td>0.857143</td>\n",
       "    </tr>\n",
       "  </tbody>\n",
       "</table>\n",
       "</div>"
      ],
      "text/plain": [
       "                      AUC  Average_Precision  Error_Rate  Precision    Recall\n",
       "Category                                                                     \n",
       "German Classics  0.963420           0.896289    0.038835   0.914286  0.969697\n",
       "Contemporary     0.948810           0.823325    0.058252   0.843750  0.964286\n",
       "Ancient Greek    0.928571           0.915395    0.058252   1.000000  0.857143"
      ]
     },
     "execution_count": 170,
     "metadata": {},
     "output_type": "execute_result"
    }
   ],
   "source": [
    "lucem_illud.evaluateClassifier(clf_knearest, train_ng_df)"
   ]
  },
  {
   "cell_type": "markdown",
   "metadata": {},
   "source": [
    "And lets look at the testing data"
   ]
  },
  {
   "cell_type": "code",
   "execution_count": 171,
   "metadata": {},
   "outputs": [
    {
     "name": "stdout",
     "output_type": "stream",
     "text": [
      "Testing score:\n",
      "0.9090909090909091\n"
     ]
    }
   ],
   "source": [
    "#Create vectors\n",
    "TFVects_test = TFVectorizer_ng.transform(test_ng_df['text'])\n",
    "test_ng_df['vect'] = [np.array(v).flatten() for v in TFVects_test.todense()]\n",
    "\n",
    "#Add to df\n",
    "test_ng_df['nb_predict'] = clf_knearest.predict(np.stack(test_ng_df['vect'], axis=0))\n",
    "\n",
    "#Test\n",
    "print(\"Testing score:\")\n",
    "print(clf_knearest.score(np.stack(test_ng_df['vect'], axis=0), test_ng_df['category']))"
   ]
  },
  {
   "cell_type": "markdown",
   "metadata": {},
   "source": [
    "Let's produce another confusion matrix:"
   ]
  },
  {
   "cell_type": "code",
   "execution_count": 172,
   "metadata": {},
   "outputs": [
    {
     "data": {
      "image/png": "[encoded data removed]",
      "text/plain": [
       "<matplotlib.figure.Figure at 0x1d2d25dc518>"
      ]
     },
     "metadata": {},
     "output_type": "display_data"
    }
   ],
   "source": [
    "lucem_illud.plotConfusionMatrix(clf_knearest, test_ng_df)"
   ]
  },
  {
   "cell_type": "markdown",
   "metadata": {},
   "source": [
    "<span style=\"color:blue\"> 15KNN performs very good. This might because the boundary of these three categories are moderately non-linear so that the KNN with neither high nor low K performs good."
   ]
  },
  {
   "cell_type": "markdown",
   "metadata": {
    "collapsed": true
   },
   "source": [
    "# SVMs"
   ]
  },
  {
   "cell_type": "code",
   "execution_count": 173,
   "metadata": {},
   "outputs": [],
   "source": [
    "redditTFVectorizer = sklearn.feature_extraction.text.TfidfVectorizer(max_df=0.5, min_df=3, stop_words='english', norm='l2')\n",
    "redditTFVects = redditTFVectorizer.fit_transform([' '.join(l) for l in corpora_df['normalized_text']])\n",
    "corpora_df['vect'] = [np.array(v).flatten() for v in redditTFVects.todense()]"
   ]
  },
  {
   "cell_type": "code",
   "execution_count": 174,
   "metadata": {},
   "outputs": [],
   "source": [
    "holdBackFraction = .3\n",
    "train_redditDf, test_redditDf = lucem_illud.trainTestSplit(corpora_df, holdBackFraction=holdBackFraction)"
   ]
  },
  {
   "cell_type": "code",
   "execution_count": 175,
   "metadata": {},
   "outputs": [
    {
     "data": {
      "text/plain": [
       "SVC(C=1.0, cache_size=200, class_weight=None, coef0=0.0,\n",
       "  decision_function_shape='ovr', degree=3, gamma='auto', kernel='linear',\n",
       "  max_iter=-1, probability=False, random_state=None, shrinking=True,\n",
       "  tol=0.001, verbose=False)"
      ]
     },
     "execution_count": 175,
     "metadata": {},
     "output_type": "execute_result"
    }
   ],
   "source": [
    "clf_svm = sklearn.svm.SVC(kernel='linear', probability = False)\n",
    "#probability = True is slower but  lets you call predict_proba()\n",
    "clf_svm.fit(np.stack(train_redditDf['vect'], axis=0), train_redditDf['category'])"
   ]
  },
  {
   "cell_type": "code",
   "execution_count": 176,
   "metadata": {},
   "outputs": [
    {
     "data": {
      "text/html": [
       "<div>\n",
       "<style scoped>\n",
       "    .dataframe tbody tr th:only-of-type {\n",
       "        vertical-align: middle;\n",
       "    }\n",
       "\n",
       "    .dataframe tbody tr th {\n",
       "        vertical-align: top;\n",
       "    }\n",
       "\n",
       "    .dataframe thead th {\n",
       "        text-align: right;\n",
       "    }\n",
       "</style>\n",
       "<table border=\"1\" class=\"dataframe\">\n",
       "  <thead>\n",
       "    <tr style=\"text-align: right;\">\n",
       "      <th></th>\n",
       "      <th>AUC</th>\n",
       "      <th>Average_Precision</th>\n",
       "      <th>Error_Rate</th>\n",
       "      <th>Precision</th>\n",
       "      <th>Recall</th>\n",
       "    </tr>\n",
       "    <tr>\n",
       "      <th>Category</th>\n",
       "      <th></th>\n",
       "      <th></th>\n",
       "      <th></th>\n",
       "      <th></th>\n",
       "      <th></th>\n",
       "    </tr>\n",
       "  </thead>\n",
       "  <tbody>\n",
       "    <tr>\n",
       "      <th>German Classics</th>\n",
       "      <td>0.923077</td>\n",
       "      <td>0.891608</td>\n",
       "      <td>0.045455</td>\n",
       "      <td>1.000000</td>\n",
       "      <td>0.846154</td>\n",
       "    </tr>\n",
       "    <tr>\n",
       "      <th>Contemporary</th>\n",
       "      <td>0.983333</td>\n",
       "      <td>0.933333</td>\n",
       "      <td>0.022727</td>\n",
       "      <td>0.933333</td>\n",
       "      <td>1.000000</td>\n",
       "    </tr>\n",
       "    <tr>\n",
       "      <th>Ancient Greek</th>\n",
       "      <td>0.981481</td>\n",
       "      <td>0.944444</td>\n",
       "      <td>0.022727</td>\n",
       "      <td>0.944444</td>\n",
       "      <td>1.000000</td>\n",
       "    </tr>\n",
       "  </tbody>\n",
       "</table>\n",
       "</div>"
      ],
      "text/plain": [
       "                      AUC  Average_Precision  Error_Rate  Precision    Recall\n",
       "Category                                                                     \n",
       "German Classics  0.923077           0.891608    0.045455   1.000000  0.846154\n",
       "Contemporary     0.983333           0.933333    0.022727   0.933333  1.000000\n",
       "Ancient Greek    0.981481           0.944444    0.022727   0.944444  1.000000"
      ]
     },
     "execution_count": 176,
     "metadata": {},
     "output_type": "execute_result"
    }
   ],
   "source": [
    "lucem_illud.evaluateClassifier(clf_svm, test_redditDf)"
   ]
  },
  {
   "cell_type": "code",
   "execution_count": 177,
   "metadata": {},
   "outputs": [
    {
     "data": {
      "image/png": "[encoded data removed]",
      "text/plain": [
       "<matplotlib.figure.Figure at 0x1d2d268cfd0>"
      ]
     },
     "metadata": {},
     "output_type": "display_data"
    }
   ],
   "source": [
    "lucem_illud.plotConfusionMatrix(clf_svm, test_redditDf)"
   ]
  },
  {
   "cell_type": "markdown",
   "metadata": {},
   "source": [
    "<span style=\"color:blue\"> SVM also performs very well."
   ]
  },
  {
   "cell_type": "markdown",
   "metadata": {},
   "source": [
    "# Neural Nets"
   ]
  },
  {
   "cell_type": "markdown",
   "metadata": {},
   "source": [
    "## <span style=\"color:red\">*Exercise 5*</span>\n",
    "\n",
    "<span style=\"color:red\">In the cells immediately following, perform a neural network classification and calculate relevant metrics (e.g., precision, recall, the F-measure, and AUC). How does this classify relevant to *k*-nearest neighbor, Naive Bayes, logistic and decision-tree approaches?"
   ]
  },
  {
   "cell_type": "code",
   "execution_count": 178,
   "metadata": {},
   "outputs": [
    {
     "data": {
      "text/plain": [
       "MLPClassifier(activation='relu', alpha=0.0001, batch_size='auto', beta_1=0.9,\n",
       "       beta_2=0.999, early_stopping=False, epsilon=1e-08,\n",
       "       hidden_layer_sizes=(100,), learning_rate='constant',\n",
       "       learning_rate_init=0.001, max_iter=200, momentum=0.9,\n",
       "       nesterovs_momentum=True, power_t=0.5, random_state=None,\n",
       "       shuffle=True, solver='adam', tol=0.0001, validation_fraction=0.1,\n",
       "       verbose=False, warm_start=False)"
      ]
     },
     "execution_count": 178,
     "metadata": {},
     "output_type": "execute_result"
    }
   ],
   "source": [
    "clf_nn = sklearn.neural_network.MLPClassifier()\n",
    "clf_nn.fit(np.stack(train_redditDf['vect'], axis=0), train_redditDf['category'])"
   ]
  },
  {
   "cell_type": "code",
   "execution_count": 179,
   "metadata": {},
   "outputs": [
    {
     "data": {
      "text/html": [
       "<div>\n",
       "<style scoped>\n",
       "    .dataframe tbody tr th:only-of-type {\n",
       "        vertical-align: middle;\n",
       "    }\n",
       "\n",
       "    .dataframe tbody tr th {\n",
       "        vertical-align: top;\n",
       "    }\n",
       "\n",
       "    .dataframe thead th {\n",
       "        text-align: right;\n",
       "    }\n",
       "</style>\n",
       "<table border=\"1\" class=\"dataframe\">\n",
       "  <thead>\n",
       "    <tr style=\"text-align: right;\">\n",
       "      <th></th>\n",
       "      <th>AUC</th>\n",
       "      <th>Average_Precision</th>\n",
       "      <th>Error_Rate</th>\n",
       "      <th>Precision</th>\n",
       "      <th>Recall</th>\n",
       "    </tr>\n",
       "    <tr>\n",
       "      <th>Category</th>\n",
       "      <th></th>\n",
       "      <th></th>\n",
       "      <th></th>\n",
       "      <th></th>\n",
       "      <th></th>\n",
       "    </tr>\n",
       "  </thead>\n",
       "  <tbody>\n",
       "    <tr>\n",
       "      <th>German Classics</th>\n",
       "      <td>0.945409</td>\n",
       "      <td>0.874798</td>\n",
       "      <td>0.045455</td>\n",
       "      <td>0.923077</td>\n",
       "      <td>0.923077</td>\n",
       "    </tr>\n",
       "    <tr>\n",
       "      <th>Contemporary</th>\n",
       "      <td>0.983333</td>\n",
       "      <td>0.933333</td>\n",
       "      <td>0.022727</td>\n",
       "      <td>0.933333</td>\n",
       "      <td>1.000000</td>\n",
       "    </tr>\n",
       "    <tr>\n",
       "      <th>Ancient Greek</th>\n",
       "      <td>0.970588</td>\n",
       "      <td>0.963904</td>\n",
       "      <td>0.022727</td>\n",
       "      <td>1.000000</td>\n",
       "      <td>0.941176</td>\n",
       "    </tr>\n",
       "  </tbody>\n",
       "</table>\n",
       "</div>"
      ],
      "text/plain": [
       "                      AUC  Average_Precision  Error_Rate  Precision    Recall\n",
       "Category                                                                     \n",
       "German Classics  0.945409           0.874798    0.045455   0.923077  0.923077\n",
       "Contemporary     0.983333           0.933333    0.022727   0.933333  1.000000\n",
       "Ancient Greek    0.970588           0.963904    0.022727   1.000000  0.941176"
      ]
     },
     "execution_count": 179,
     "metadata": {},
     "output_type": "execute_result"
    }
   ],
   "source": [
    "lucem_illud.evaluateClassifier(clf_nn, test_redditDf)"
   ]
  },
  {
   "cell_type": "code",
   "execution_count": 180,
   "metadata": {},
   "outputs": [
    {
     "data": {
      "image/png": "[encoded data removed]",
      "text/plain": [
       "<matplotlib.figure.Figure at 0x1d2d2335c18>"
      ]
     },
     "metadata": {},
     "output_type": "display_data"
    }
   ],
   "source": [
    "lucem_illud.plotConfusionMatrix(clf_nn, test_redditDf)"
   ]
  },
  {
   "cell_type": "markdown",
   "metadata": {},
   "source": [
    "<span style=\"color:blue\"> Neural Networks has the highest predictive power comparing with other methods. It can deal with non-linear boundary well."
   ]
  }
 ],
 "metadata": {
  "kernelspec": {
   "display_name": "Python 3",
   "language": "python",
   "name": "python3"
  },
  "language_info": {
   "codemirror_mode": {
    "name": "ipython",
    "version": 3
   },
   "file_extension": ".py",
   "mimetype": "text/x-python",
   "name": "python",
   "nbconvert_exporter": "python",
   "pygments_lexer": "ipython3",
   "version": "3.6.3"
  }
 },
 "nbformat": 4,
 "nbformat_minor": 1
}
