{
 "cells": [
  {
   "cell_type": "markdown",
   "metadata": {},
   "source": [
    "%%html\n",
    "![](https://github.com/khan1792/content-analysis-2018/blob/master/data/1.png)\n",
    "<img style=\"float: right;\" src=\"https://github.com/khan1792/content-analysis-2018/blob/master/data/2.png\" width=\"100%\">\n",
    "<img style=\"float: right;\" src=\"https://github.com/khan1792/content-analysis-2018/blob/master/data/3.png\" width=\"100%\">\n",
    "<img style=\"float: right;\" src=\"https://github.com/khan1792/content-analysis-2018/blob/master/data/4.png\" width=\"100%\">\n",
    "<img style=\"float: right;\" src=\"https://github.com/khan1792/content-analysis-2018/blob/master/data/5.png\" width=\"100%\">\n",
    "<img style=\"float: right;\" src=\"https://github.com/khan1792/content-analysis-2018/blob/master/data/6.png\" width=\"100%\">\n",
    "<img style=\"float: right;\" src=\"https://github.com/khan1792/content-analysis-2018/blob/master/data/7.png\" width=\"100%\">"
   ]
  }
 ],
 "metadata": {
  "kernelspec": {
   "display_name": "Python 3",
   "language": "python",
   "name": "python3"
  },
  "language_info": {
   "codemirror_mode": {
    "name": "ipython",
    "version": 3
   },
   "file_extension": ".py",
   "mimetype": "text/x-python",
   "name": "python",
   "nbconvert_exporter": "python",
   "pygments_lexer": "ipython3",
   "version": "3.6.4"
  }
 },
 "nbformat": 4,
 "nbformat_minor": 2
}
